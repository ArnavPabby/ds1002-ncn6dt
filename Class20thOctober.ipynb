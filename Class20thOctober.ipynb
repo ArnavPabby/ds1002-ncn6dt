{
  "nbformat": 4,
  "nbformat_minor": 0,
  "metadata": {
    "colab": {
      "provenance": [],
      "authorship_tag": "ABX9TyN5luGOF3fpcJvCqinsmBpa",
      "include_colab_link": true
    },
    "kernelspec": {
      "name": "python3",
      "display_name": "Python 3"
    },
    "language_info": {
      "name": "python"
    }
  },
  "cells": [
    {
      "cell_type": "markdown",
      "metadata": {
        "id": "view-in-github",
        "colab_type": "text"
      },
      "source": [
        "<a href=\"https://colab.research.google.com/github/ArnavPabby/ds1002-ncn6dt/blob/main/Class20thOctober.ipynb\" target=\"_parent\"><img src=\"https://colab.research.google.com/assets/colab-badge.svg\" alt=\"Open In Colab\"/></a>"
      ]
    },
    {
      "cell_type": "code",
      "execution_count": 1,
      "metadata": {
        "colab": {
          "base_uri": "https://localhost:8080/"
        },
        "id": "3u-YAoGyZA2H",
        "outputId": "d90da965-fee8-4073-b8ae-f34aa9460757"
      },
      "outputs": [
        {
          "output_type": "execute_result",
          "data": {
            "text/plain": [
              "8"
            ]
          },
          "metadata": {},
          "execution_count": 1
        }
      ],
      "source": [
        "#validating input\n",
        "\n",
        "var1 = 3\n",
        "var2 = 5\n",
        "\n",
        "def add(var1,var2):\n",
        "  return var1+var2\n",
        "\n",
        "\n",
        "add(var1,var2)"
      ]
    },
    {
      "cell_type": "code",
      "source": [
        "#forces the parameters and the return to be of a specific data type\n",
        "def add2(var3: int, var4: int) -> int:\n",
        "  return var3+var4"
      ],
      "metadata": {
        "id": "YDKc19lDdfJB"
      },
      "execution_count": 3,
      "outputs": []
    },
    {
      "cell_type": "code",
      "source": [
        "add2.__annotations__"
      ],
      "metadata": {
        "colab": {
          "base_uri": "https://localhost:8080/"
        },
        "id": "0-GsjW9Keu9a",
        "outputId": "1330f608-a864-4a12-f976-8e2c350bb539"
      },
      "execution_count": 4,
      "outputs": [
        {
          "output_type": "execute_result",
          "data": {
            "text/plain": [
              "{'var3': int, 'var4': int, 'return': int}"
            ]
          },
          "metadata": {},
          "execution_count": 4
        }
      ]
    },
    {
      "cell_type": "code",
      "source": [
        "def add3 (var3: int, var4: int) -> int:\n",
        "  if(type(var3) == int) and (type(var4)== int):\n",
        "    return var3+var4\n",
        "  else:\n",
        "    print(\"you need two integers to use this function\")\n",
        "\n",
        "add3(15,143)"
      ],
      "metadata": {
        "colab": {
          "base_uri": "https://localhost:8080/"
        },
        "id": "VbNlY49CfYBZ",
        "outputId": "77a662dc-b68c-43be-bb68-d6aaa0552610"
      },
      "execution_count": 6,
      "outputs": [
        {
          "output_type": "execute_result",
          "data": {
            "text/plain": [
              "158"
            ]
          },
          "metadata": {},
          "execution_count": 6
        }
      ]
    },
    {
      "cell_type": "code",
      "source": [
        "#using user inputs\n",
        "def add4 ():\n",
        "  var3 = input(\"Input first number:\")\n",
        "  var3 = int(var3)\n",
        "  var4 = input(\"Input second number:\")\n",
        "  var4 = int(var4)\n",
        "  if(type(var3) == int) and (type(var4)== int):\n",
        "    return int(var3)+int(var4)\n",
        "  else:\n",
        "    print(\"you need two integers to use this function\")\n",
        "\n",
        "add4()"
      ],
      "metadata": {
        "colab": {
          "base_uri": "https://localhost:8080/"
        },
        "id": "P18-TmKqgAvd",
        "outputId": "e46754f3-5585-4eb7-c86a-1e01e6ed58db"
      },
      "execution_count": 9,
      "outputs": [
        {
          "name": "stdout",
          "output_type": "stream",
          "text": [
            "Input first number:41\n",
            "Input second number143\n"
          ]
        },
        {
          "output_type": "execute_result",
          "data": {
            "text/plain": [
              "184"
            ]
          },
          "metadata": {},
          "execution_count": 9
        }
      ]
    }
  ]
}