{
  "nbformat": 4,
  "nbformat_minor": 0,
  "metadata": {
    "colab": {
      "provenance": [],
      "include_colab_link": true
    },
    "kernelspec": {
      "name": "ir",
      "display_name": "R"
    },
    "language_info": {
      "name": "R"
    }
  },
  "cells": [
    {
      "cell_type": "markdown",
      "metadata": {
        "id": "view-in-github",
        "colab_type": "text"
      },
      "source": [
        "<a href=\"https://colab.research.google.com/github/ArnavPabby/ds1002-ncn6dt/blob/main/homework/week-15-corrections.ipynb\" target=\"_parent\"><img src=\"https://colab.research.google.com/assets/colab-badge.svg\" alt=\"Open In Colab\"/></a>"
      ]
    },
    {
      "cell_type": "markdown",
      "source": [
        "# Homework - Week 15\n",
        "\n",
        "Complete the following blocks as specified in the directions. Run each cell to return the desired output. Save your notebook back to your GitHub repository and submit the GitHub URL to your notebook for review."
      ],
      "metadata": {
        "id": "sZruw3XQogej"
      }
    },
    {
      "cell_type": "markdown",
      "source": [
        "## 1. Create Functions (4 pts)\n",
        "\n",
        "Create two functions in the cells below, according to the prompts given."
      ],
      "metadata": {
        "id": "lkaofBQypx1X"
      }
    },
    {
      "cell_type": "code",
      "source": [
        "# create a function in R that:\n",
        "#   1. takes a single integer as an input parameter\n",
        "#   2. determines whether the integer is even or odd\n",
        "#   3. returns a character statement \"The integer <x> is even\" or \"The integer <x> is odd\" (replace <x> with the actual input provided)\n",
        "\n",
        "odd_or_even <- function(var1) {\n",
        "  if (var1 %% 2 == 1) {\n",
        "    return(c(\"The integer\", var1, \"is odd\"))\n",
        "  } else {\n",
        "    return(c(\"The integer\", var1, \"is even \"))\n",
        "}\n",
        "}\n",
        "\n",
        "\n",
        "# then execute the function twice using two different input values, displaying even and odd results.\n",
        "odd_or_even(1)\n",
        "odd_or_even(2)\n"
      ],
      "metadata": {
        "id": "1fjq5bkEp6Zv",
        "outputId": "f7926b66-da07-4605-ff1b-dbfb667bda01",
        "colab": {
          "base_uri": "https://localhost:8080/",
          "height": 52
        }
      },
      "execution_count": 1,
      "outputs": [
        {
          "output_type": "display_data",
          "data": {
            "text/html": [
              "<style>\n",
              ".list-inline {list-style: none; margin:0; padding: 0}\n",
              ".list-inline>li {display: inline-block}\n",
              ".list-inline>li:not(:last-child)::after {content: \"\\00b7\"; padding: 0 .5ex}\n",
              "</style>\n",
              "<ol class=list-inline><li>'The integer'</li><li>'1'</li><li>'is odd'</li></ol>\n"
            ],
            "text/markdown": "1. 'The integer'\n2. '1'\n3. 'is odd'\n\n\n",
            "text/latex": "\\begin{enumerate*}\n\\item 'The integer'\n\\item '1'\n\\item 'is odd'\n\\end{enumerate*}\n",
            "text/plain": [
              "[1] \"The integer\" \"1\"           \"is odd\"     "
            ]
          },
          "metadata": {}
        },
        {
          "output_type": "display_data",
          "data": {
            "text/html": [
              "<style>\n",
              ".list-inline {list-style: none; margin:0; padding: 0}\n",
              ".list-inline>li {display: inline-block}\n",
              ".list-inline>li:not(:last-child)::after {content: \"\\00b7\"; padding: 0 .5ex}\n",
              "</style>\n",
              "<ol class=list-inline><li>'The integer'</li><li>'2'</li><li>'is even '</li></ol>\n"
            ],
            "text/markdown": "1. 'The integer'\n2. '2'\n3. 'is even '\n\n\n",
            "text/latex": "\\begin{enumerate*}\n\\item 'The integer'\n\\item '2'\n\\item 'is even '\n\\end{enumerate*}\n",
            "text/plain": [
              "[1] \"The integer\" \"2\"           \"is even \"   "
            ]
          },
          "metadata": {}
        }
      ]
    },
    {
      "cell_type": "code",
      "source": [
        "# create a function in R that:\n",
        "#   1. takes 4 integer input parameters\n",
        "#   2. returns the mean value of the inputs\n",
        "#   3. has default values for the 4 input parameters, in case they are not provided when the function is called.\n",
        "\n",
        "meanCalculator <- function(var1 = 1,var2 = 2,var3 = 3,var4 = 4) {\n",
        "  mean <- (var1+var2+var3+var4)/4\n",
        "  return(mean)\n",
        "}\n",
        "#\n",
        "# then execute the function twice: once where you provide the input values, and once where you do not.\n",
        "meanCalculator(12,34,24,5)\n",
        "meanCalculator()\n",
        "\n"
      ],
      "metadata": {
        "id": "f3IFD-T6p6Rd",
        "outputId": "abd84835-45e7-444d-a9f3-7696d23903d7",
        "colab": {
          "base_uri": "https://localhost:8080/",
          "height": 52
        }
      },
      "execution_count": 2,
      "outputs": [
        {
          "output_type": "display_data",
          "data": {
            "text/html": [
              "18.75"
            ],
            "text/markdown": "18.75",
            "text/latex": "18.75",
            "text/plain": [
              "[1] 18.75"
            ]
          },
          "metadata": {}
        },
        {
          "output_type": "display_data",
          "data": {
            "text/html": [
              "2.5"
            ],
            "text/markdown": "2.5",
            "text/latex": "2.5",
            "text/plain": [
              "[1] 2.5"
            ]
          },
          "metadata": {}
        }
      ]
    },
    {
      "cell_type": "markdown",
      "source": [
        "## 2. Plot Data (4 pts)"
      ],
      "metadata": {
        "id": "F6Rx0GIGrpOB"
      }
    },
    {
      "cell_type": "markdown",
      "source": [
        "In the cell below, write the code required to plot from the `msleep` sample data set.\n",
        "\n",
        "1. Display only animals with body weights of 30 or greater.\n",
        "2. Group the animals by `order`.\n",
        "3. Display the mean `sleep_total` for each group in a bar plot."
      ],
      "metadata": {
        "id": "IDLyOjOJsFCX"
      }
    },
    {
      "cell_type": "code",
      "source": [
        "install.packages('ggplot2')\n",
        "library(ggplot2)"
      ],
      "metadata": {
        "id": "0D5Ia-BPsoPZ",
        "outputId": "01cf80a4-2a6a-471d-f487-5126cef65958",
        "colab": {
          "base_uri": "https://localhost:8080/"
        }
      },
      "execution_count": 3,
      "outputs": [
        {
          "output_type": "stream",
          "name": "stderr",
          "text": [
            "Installing package into ‘/usr/local/lib/R/site-library’\n",
            "(as ‘lib’ is unspecified)\n",
            "\n"
          ]
        }
      ]
    },
    {
      "cell_type": "code",
      "source": [
        "install.packages(\"tidyverse\")\n",
        "library(tidyverse)"
      ],
      "metadata": {
        "id": "ovHICzqF1PHC",
        "outputId": "eaf9c2cf-a8b1-4ab7-cc2f-758247336e68",
        "colab": {
          "base_uri": "https://localhost:8080/"
        }
      },
      "execution_count": 4,
      "outputs": [
        {
          "output_type": "stream",
          "name": "stderr",
          "text": [
            "Installing package into ‘/usr/local/lib/R/site-library’\n",
            "(as ‘lib’ is unspecified)\n",
            "\n",
            "── \u001b[1mAttaching core tidyverse packages\u001b[22m ──────────────────────── tidyverse 2.0.0 ──\n",
            "\u001b[32m✔\u001b[39m \u001b[34mdplyr    \u001b[39m 1.1.4     \u001b[32m✔\u001b[39m \u001b[34mreadr    \u001b[39m 2.1.4\n",
            "\u001b[32m✔\u001b[39m \u001b[34mforcats  \u001b[39m 1.0.0     \u001b[32m✔\u001b[39m \u001b[34mstringr  \u001b[39m 1.5.1\n",
            "\u001b[32m✔\u001b[39m \u001b[34mlubridate\u001b[39m 1.9.3     \u001b[32m✔\u001b[39m \u001b[34mtibble   \u001b[39m 3.2.1\n",
            "\u001b[32m✔\u001b[39m \u001b[34mpurrr    \u001b[39m 1.0.2     \u001b[32m✔\u001b[39m \u001b[34mtidyr    \u001b[39m 1.3.0\n",
            "── \u001b[1mConflicts\u001b[22m ────────────────────────────────────────── tidyverse_conflicts() ──\n",
            "\u001b[31m✖\u001b[39m \u001b[34mdplyr\u001b[39m::\u001b[32mfilter()\u001b[39m masks \u001b[34mstats\u001b[39m::filter()\n",
            "\u001b[31m✖\u001b[39m \u001b[34mdplyr\u001b[39m::\u001b[32mlag()\u001b[39m    masks \u001b[34mstats\u001b[39m::lag()\n",
            "\u001b[36mℹ\u001b[39m Use the conflicted package (\u001b[3m\u001b[34m<http://conflicted.r-lib.org/>\u001b[39m\u001b[23m) to force all conflicts to become errors\n"
          ]
        }
      ]
    },
    {
      "cell_type": "code",
      "source": [
        "data(msleep)\n",
        "\n",
        "plotting_data <- msleep %>%\n",
        "  filter(bodywt > 30) %>%\n",
        "  group_by(order) %>%\n",
        "  summarise(mean_sleep = mean(sleep_total))\n",
        "\n",
        "ggplot(plotting_data, aes(x = order, y = mean_sleep)) +\n",
        "  geom_bar(stat = \"identity\")"
      ],
      "metadata": {
        "id": "-dzJxjZ-zt9g",
        "outputId": "7812f8ec-6a16-428a-95af-51f57fc40872",
        "colab": {
          "base_uri": "https://localhost:8080/",
          "height": 437
        }
      },
      "execution_count": 5,
      "outputs": [
        {
          "output_type": "display_data",
          "data": {
            "text/plain": [
              "plot without title"
            ],
            "image/png": "[encoded data removed]"
          },
          "metadata": {
            "image/png": {
              "width": 420,
              "height": 420
            }
          }
        }
      ]
    },
    {
      "cell_type": "markdown",
      "source": [
        "## 3. Clean and Analyze Data Using R (4 pts)\n",
        "\n",
        "In the cells below use R to perform the following data cleaning steps on this file:\n",
        "https://raw.githubusercontent.com/nmagee/ds1002/main/data/social-media-users.csv\n",
        "\n",
        "1. Remove any duplicate rows.\n",
        "2. Remove any records where `last_login` or `birthdate` are empty.\n",
        "3. Display only the records with the 10 highest `follower` counts.\n",
        "4. Determine counts of users when grouped by continent."
      ],
      "metadata": {
        "id": "-2ZaFcCCv3o8"
      }
    },
    {
      "cell_type": "code",
      "source": [
        "#\n",
        "df <- read.csv(\"https://raw.githubusercontent.com/nmagee/ds1002/main/data/social-media-users.csv\")"
      ],
      "metadata": {
        "id": "V4nBsdVsyauQ"
      },
      "execution_count": 6,
      "outputs": []
    },
    {
      "cell_type": "code",
      "source": [
        "#\n",
        "df <- df[!duplicated(df), ]"
      ],
      "metadata": {
        "id": "LwXD1sNulIT3"
      },
      "execution_count": 7,
      "outputs": []
    },
    {
      "cell_type": "code",
      "source": [
        "df[df == \"\"] <- NA\n",
        "df <- na.omit(df)"
      ],
      "metadata": {
        "id": "E9FSPzgI_AWo"
      },
      "execution_count": 8,
      "outputs": []
    },
    {
      "cell_type": "code",
      "source": [
        "install.packages(\"tidyverse\")\n",
        "library(tidyverse)"
      ],
      "metadata": {
        "id": "EumnCsA0AKoN",
        "outputId": "7f63eaa9-83df-43b4-9cc8-b09baf8aad77",
        "colab": {
          "base_uri": "https://localhost:8080/"
        }
      },
      "execution_count": 9,
      "outputs": [
        {
          "output_type": "stream",
          "name": "stderr",
          "text": [
            "Installing package into ‘/usr/local/lib/R/site-library’\n",
            "(as ‘lib’ is unspecified)\n",
            "\n"
          ]
        }
      ]
    },
    {
      "cell_type": "code",
      "source": [
        "df_by_followers <- df[order(df$followers),]\n",
        "tail(df_by_followers, 10,)"
      ],
      "metadata": {
        "id": "gPyIpgpg_udJ",
        "outputId": "9e738484-7dbd-4f0b-a08f-802539aa4013",
        "colab": {
          "base_uri": "https://localhost:8080/",
          "height": 412
        }
      },
      "execution_count": 10,
      "outputs": [
        {
          "output_type": "display_data",
          "data": {
            "text/html": [
              "<table class=\"dataframe\">\n",
              "<caption>A data.frame: 10 × 8</caption>\n",
              "<thead>\n",
              "\t<tr><th></th><th scope=col>username</th><th scope=col>full_name</th><th scope=col>birthdate</th><th scope=col>email</th><th scope=col>continent</th><th scope=col>followers</th><th scope=col>last_login</th><th scope=col>interests</th></tr>\n",
              "\t<tr><th></th><th scope=col>&lt;chr&gt;</th><th scope=col>&lt;chr&gt;</th><th scope=col>&lt;chr&gt;</th><th scope=col>&lt;chr&gt;</th><th scope=col>&lt;chr&gt;</th><th scope=col>&lt;int&gt;</th><th scope=col>&lt;chr&gt;</th><th scope=col>&lt;chr&gt;</th></tr>\n",
              "</thead>\n",
              "<tbody>\n",
              "\t<tr><th scope=row>1257</th><td>nbarbeyq2    </td><td>Nelson Barbey       </td><td>12/15/1984</td><td>nbarbeyq2@histats.com    </td><td>OC</td><td>98172</td><td>6/18/2022 </td><td>music </td></tr>\n",
              "\t<tr><th scope=row>1243</th><td>tbaptiepo    </td><td>Thorvald Baptie     </td><td>10/23/1981</td><td>tbaptiepo@indiegogo.com  </td><td>OC</td><td>98233</td><td>5/27/2022 </td><td>sports</td></tr>\n",
              "\t<tr><th scope=row>164</th><td>schapell4j   </td><td>Shepard Chapell     </td><td>9/3/1993  </td><td>schapell4j@noaa.gov      </td><td>AS</td><td>98479</td><td>2/14/2021 </td><td>music </td></tr>\n",
              "\t<tr><th scope=row>1264</th><td>ebroomq9     </td><td>Early Broom         </td><td>3/10/2000 </td><td>ebroomq9@fastcompany.com </td><td>AF</td><td>98606</td><td>10/22/2023</td><td>sports</td></tr>\n",
              "\t<tr><th scope=row>595</th><td>smacdonnell7o</td><td>Shoshanna MacDonnell</td><td>9/12/2002 </td><td>smacdonnell7o@toplist.cz </td><td>AS</td><td>98760</td><td>7/20/2021 </td><td>music </td></tr>\n",
              "\t<tr><th scope=row>960</th><td>kmorriceht   </td><td>Kitti Morrice       </td><td>6/3/1995  </td><td>kmorriceht@privacy.gov.au</td><td>SA</td><td>98936</td><td>3/24/2021 </td><td>sports</td></tr>\n",
              "\t<tr><th scope=row>1136</th><td>grivardmp    </td><td>Gwen Rivard         </td><td>9/12/1982 </td><td>grivardmp@google.com.hk  </td><td>OC</td><td>99526</td><td>4/4/2020  </td><td>music </td></tr>\n",
              "\t<tr><th scope=row>578</th><td>dbartalin77  </td><td>Desiree Bartalin    </td><td>8/23/1993 </td><td>dbartalin77@usda.gov     </td><td>AF</td><td>99618</td><td>5/30/2022 </td><td>music </td></tr>\n",
              "\t<tr><th scope=row>821</th><td>cduftondy    </td><td>Celisse Dufton      </td><td>8/24/1995 </td><td>cduftondy@ox.ac.uk       </td><td>OC</td><td>99707</td><td>9/26/2021 </td><td>sports</td></tr>\n",
              "\t<tr><th scope=row>721</th><td>lleckeyb6    </td><td>Lynne Leckey        </td><td>4/19/1998 </td><td>lleckeyb6@tripadvisor.com</td><td>SA</td><td>99977</td><td>3/14/2021 </td><td>sports</td></tr>\n",
              "</tbody>\n",
              "</table>\n"
            ],
            "text/markdown": "\nA data.frame: 10 × 8\n\n| <!--/--> | username &lt;chr&gt; | full_name &lt;chr&gt; | birthdate &lt;chr&gt; | email &lt;chr&gt; | continent &lt;chr&gt; | followers &lt;int&gt; | last_login &lt;chr&gt; | interests &lt;chr&gt; |\n|---|---|---|---|---|---|---|---|---|\n| 1257 | nbarbeyq2     | Nelson Barbey        | 12/15/1984 | nbarbeyq2@histats.com     | OC | 98172 | 6/18/2022  | music  |\n| 1243 | tbaptiepo     | Thorvald Baptie      | 10/23/1981 | tbaptiepo@indiegogo.com   | OC | 98233 | 5/27/2022  | sports |\n| 164 | schapell4j    | Shepard Chapell      | 9/3/1993   | schapell4j@noaa.gov       | AS | 98479 | 2/14/2021  | music  |\n| 1264 | ebroomq9      | Early Broom          | 3/10/2000  | ebroomq9@fastcompany.com  | AF | 98606 | 10/22/2023 | sports |\n| 595 | smacdonnell7o | Shoshanna MacDonnell | 9/12/2002  | smacdonnell7o@toplist.cz  | AS | 98760 | 7/20/2021  | music  |\n| 960 | kmorriceht    | Kitti Morrice        | 6/3/1995   | kmorriceht@privacy.gov.au | SA | 98936 | 3/24/2021  | sports |\n| 1136 | grivardmp     | Gwen Rivard          | 9/12/1982  | grivardmp@google.com.hk   | OC | 99526 | 4/4/2020   | music  |\n| 578 | dbartalin77   | Desiree Bartalin     | 8/23/1993  | dbartalin77@usda.gov      | AF | 99618 | 5/30/2022  | music  |\n| 821 | cduftondy     | Celisse Dufton       | 8/24/1995  | cduftondy@ox.ac.uk        | OC | 99707 | 9/26/2021  | sports |\n| 721 | lleckeyb6     | Lynne Leckey         | 4/19/1998  | lleckeyb6@tripadvisor.com | SA | 99977 | 3/14/2021  | sports |\n\n",
            "text/latex": "A data.frame: 10 × 8\n\\begin{tabular}{r|llllllll}\n  & username & full\\_name & birthdate & email & continent & followers & last\\_login & interests\\\\\n  & <chr> & <chr> & <chr> & <chr> & <chr> & <int> & <chr> & <chr>\\\\\n\\hline\n\t1257 & nbarbeyq2     & Nelson Barbey        & 12/15/1984 & nbarbeyq2@histats.com     & OC & 98172 & 6/18/2022  & music \\\\\n\t1243 & tbaptiepo     & Thorvald Baptie      & 10/23/1981 & tbaptiepo@indiegogo.com   & OC & 98233 & 5/27/2022  & sports\\\\\n\t164 & schapell4j    & Shepard Chapell      & 9/3/1993   & schapell4j@noaa.gov       & AS & 98479 & 2/14/2021  & music \\\\\n\t1264 & ebroomq9      & Early Broom          & 3/10/2000  & ebroomq9@fastcompany.com  & AF & 98606 & 10/22/2023 & sports\\\\\n\t595 & smacdonnell7o & Shoshanna MacDonnell & 9/12/2002  & smacdonnell7o@toplist.cz  & AS & 98760 & 7/20/2021  & music \\\\\n\t960 & kmorriceht    & Kitti Morrice        & 6/3/1995   & kmorriceht@privacy.gov.au & SA & 98936 & 3/24/2021  & sports\\\\\n\t1136 & grivardmp     & Gwen Rivard          & 9/12/1982  & grivardmp@google.com.hk   & OC & 99526 & 4/4/2020   & music \\\\\n\t578 & dbartalin77   & Desiree Bartalin     & 8/23/1993  & dbartalin77@usda.gov      & AF & 99618 & 5/30/2022  & music \\\\\n\t821 & cduftondy     & Celisse Dufton       & 8/24/1995  & cduftondy@ox.ac.uk        & OC & 99707 & 9/26/2021  & sports\\\\\n\t721 & lleckeyb6     & Lynne Leckey         & 4/19/1998  & lleckeyb6@tripadvisor.com & SA & 99977 & 3/14/2021  & sports\\\\\n\\end{tabular}\n",
            "text/plain": [
              "     username      full_name            birthdate  email                    \n",
              "1257 nbarbeyq2     Nelson Barbey        12/15/1984 nbarbeyq2@histats.com    \n",
              "1243 tbaptiepo     Thorvald Baptie      10/23/1981 tbaptiepo@indiegogo.com  \n",
              "164  schapell4j    Shepard Chapell      9/3/1993   schapell4j@noaa.gov      \n",
              "1264 ebroomq9      Early Broom          3/10/2000  ebroomq9@fastcompany.com \n",
              "595  smacdonnell7o Shoshanna MacDonnell 9/12/2002  smacdonnell7o@toplist.cz \n",
              "960  kmorriceht    Kitti Morrice        6/3/1995   kmorriceht@privacy.gov.au\n",
              "1136 grivardmp     Gwen Rivard          9/12/1982  grivardmp@google.com.hk  \n",
              "578  dbartalin77   Desiree Bartalin     8/23/1993  dbartalin77@usda.gov     \n",
              "821  cduftondy     Celisse Dufton       8/24/1995  cduftondy@ox.ac.uk       \n",
              "721  lleckeyb6     Lynne Leckey         4/19/1998  lleckeyb6@tripadvisor.com\n",
              "     continent followers last_login interests\n",
              "1257 OC        98172     6/18/2022  music    \n",
              "1243 OC        98233     5/27/2022  sports   \n",
              "164  AS        98479     2/14/2021  music    \n",
              "1264 AF        98606     10/22/2023 sports   \n",
              "595  AS        98760     7/20/2021  music    \n",
              "960  SA        98936     3/24/2021  sports   \n",
              "1136 OC        99526     4/4/2020   music    \n",
              "578  AF        99618     5/30/2022  music    \n",
              "821  OC        99707     9/26/2021  sports   \n",
              "721  SA        99977     3/14/2021  sports   "
            ]
          },
          "metadata": {}
        }
      ]
    },
    {
      "cell_type": "code",
      "source": [
        "my_data <- df %>%\n",
        "  group_by(continent) %>%\n",
        "  summarise(count = n())\n",
        "\n",
        "my_data"
      ],
      "metadata": {
        "id": "zmRDhs5gBbJs",
        "outputId": "f19a3e9d-8c09-4af3-de74-641e86baad07",
        "colab": {
          "base_uri": "https://localhost:8080/",
          "height": 255
        }
      },
      "execution_count": 11,
      "outputs": [
        {
          "output_type": "display_data",
          "data": {
            "text/html": [
              "<table class=\"dataframe\">\n",
              "<caption>A tibble: 5 × 2</caption>\n",
              "<thead>\n",
              "\t<tr><th scope=col>continent</th><th scope=col>count</th></tr>\n",
              "\t<tr><th scope=col>&lt;chr&gt;</th><th scope=col>&lt;int&gt;</th></tr>\n",
              "</thead>\n",
              "<tbody>\n",
              "\t<tr><td>AF</td><td> 70</td></tr>\n",
              "\t<tr><td>AS</td><td>111</td></tr>\n",
              "\t<tr><td>EU</td><td> 77</td></tr>\n",
              "\t<tr><td>OC</td><td> 95</td></tr>\n",
              "\t<tr><td>SA</td><td> 69</td></tr>\n",
              "</tbody>\n",
              "</table>\n"
            ],
            "text/markdown": "\nA tibble: 5 × 2\n\n| continent &lt;chr&gt; | count &lt;int&gt; |\n|---|---|\n| AF |  70 |\n| AS | 111 |\n| EU |  77 |\n| OC |  95 |\n| SA |  69 |\n\n",
            "text/latex": "A tibble: 5 × 2\n\\begin{tabular}{ll}\n continent & count\\\\\n <chr> & <int>\\\\\n\\hline\n\t AF &  70\\\\\n\t AS & 111\\\\\n\t EU &  77\\\\\n\t OC &  95\\\\\n\t SA &  69\\\\\n\\end{tabular}\n",
            "text/plain": [
              "  continent count\n",
              "1 AF         70  \n",
              "2 AS        111  \n",
              "3 EU         77  \n",
              "4 OC         95  \n",
              "5 SA         69  "
            ]
          },
          "metadata": {}
        }
      ]
    }
  ]
}