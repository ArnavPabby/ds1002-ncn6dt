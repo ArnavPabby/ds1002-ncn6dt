{
  "nbformat": 4,
  "nbformat_minor": 0,
  "metadata": {
    "colab": {
      "provenance": [],
      "include_colab_link": true
    },
    "kernelspec": {
      "name": "ir",
      "display_name": "R"
    },
    "language_info": {
      "name": "R"
    }
  },
  "cells": [
    {
      "cell_type": "markdown",
      "metadata": {
        "id": "view-in-github",
        "colab_type": "text"
      },
      "source": [
        "<a href=\"https://colab.research.google.com/github/ArnavPabby/ds1002-ncn6dt/blob/main/homework/week-13.ipynb\" target=\"_parent\"><img src=\"https://colab.research.google.com/assets/colab-badge.svg\" alt=\"Open In Colab\"/></a>"
      ]
    },
    {
      "cell_type": "markdown",
      "source": [
        "# Homework - Week 13\n",
        "\n",
        "Complete the following blocks as specified in the directions. Run each cell to return the desired output. Save your notebook back to your GitHub repository and submit the GitHub URL to your notebook for review."
      ],
      "metadata": {
        "id": "sZruw3XQogej"
      }
    },
    {
      "cell_type": "markdown",
      "source": [
        "## 1. Change Runtime to R (1 pt)\n",
        "\n",
        "Change the runtime of this notebook to R. You can verify that you are running R by displaying the current version you are running. Run the cell below and show the output."
      ],
      "metadata": {
        "id": "KmpG99aAokL9"
      }
    },
    {
      "cell_type": "code",
      "execution_count": 1,
      "metadata": {
        "id": "k03Z1NKAoZrW",
        "outputId": "0ef1cd22-7d22-4501-cbef-f4fcd22276f4",
        "colab": {
          "base_uri": "https://localhost:8080/",
          "height": 285
        }
      },
      "outputs": [
        {
          "output_type": "display_data",
          "data": {
            "text/plain": [
              "               _                           \n",
              "platform       x86_64-pc-linux-gnu         \n",
              "arch           x86_64                      \n",
              "os             linux-gnu                   \n",
              "system         x86_64, linux-gnu           \n",
              "status                                     \n",
              "major          4                           \n",
              "minor          3.2                         \n",
              "year           2023                        \n",
              "month          10                          \n",
              "day            31                          \n",
              "svn rev        85441                       \n",
              "language       R                           \n",
              "version.string R version 4.3.2 (2023-10-31)\n",
              "nickname       Eye Holes                   "
            ]
          },
          "metadata": {}
        }
      ],
      "source": [
        "version"
      ]
    },
    {
      "cell_type": "markdown",
      "source": [
        "## 2. Create Vectors (2 pts)\n",
        "\n",
        "Create two vectors in the cells below, according to the prompts given."
      ],
      "metadata": {
        "id": "lkaofBQypx1X"
      }
    },
    {
      "cell_type": "code",
      "source": [
        "# create a vector with 7 integer values. Assign it to a variable named \"my_integers\"\n",
        "my_integers <- c(1,2,3,4,5,6,7)"
      ],
      "metadata": {
        "id": "1fjq5bkEp6Zv"
      },
      "execution_count": 1,
      "outputs": []
    },
    {
      "cell_type": "code",
      "source": [
        "var1 = 8\n",
        "var2 = 4\n",
        "var3 = 12\n",
        "var4 = 25\n",
        "\n",
        "# Using the variables given above, assign three new variables the following calculated values:\n",
        "#\n",
        "# 1. Your first variable should be assigned the calculated value of var2 divided by var1.\n",
        "val5 <- var2/var1\n",
        "print(val5)\n",
        "# 2. Your second variable should be assigned the calculated value of var2 cubed times var3.\n",
        "val6 <- (var2**3)*var3\n",
        "print(val6)\n",
        "# 3. Your third variable should be assigned the calculated value of var4 integer divided by var3.\n",
        "val7 <- as.integer(var4/var3)\n",
        "print(val7)\n",
        "# Next, create an array populated by your three variables. Assign the array to a new variable named \"my_calculated_values\"\n",
        "my_calculated_values <- c(val5, val6, val7)\n",
        "print(my_calculated_values)"
      ],
      "metadata": {
        "id": "f3IFD-T6p6Rd",
        "outputId": "c8abe531-77df-49e0-fbd4-5010abb048eb",
        "colab": {
          "base_uri": "https://localhost:8080/"
        }
      },
      "execution_count": 6,
      "outputs": [
        {
          "output_type": "stream",
          "name": "stdout",
          "text": [
            "[1] 0.5\n",
            "[1] 768\n",
            "[1] 2\n",
            "[1]   0.5 768.0   2.0\n"
          ]
        }
      ]
    },
    {
      "cell_type": "markdown",
      "source": [
        "## 3. Vector Indexes (3 pts)"
      ],
      "metadata": {
        "id": "F6Rx0GIGrpOB"
      }
    },
    {
      "cell_type": "markdown",
      "source": [
        "In the cell below, create a vector that starts with the integer 4, that increments by counts of 3 all the way to 28.\n",
        "\n",
        "Assign the vector to a variable name."
      ],
      "metadata": {
        "id": "IDLyOjOJsFCX"
      }
    },
    {
      "cell_type": "code",
      "source": [
        "my_vector <- seq(4, 28, by = 3)\n",
        "print(my_vector)"
      ],
      "metadata": {
        "id": "0D5Ia-BPsoPZ",
        "outputId": "a7e12d4d-1888-4c20-ab0f-72ea7b18519c",
        "colab": {
          "base_uri": "https://localhost:8080/"
        }
      },
      "execution_count": 8,
      "outputs": [
        {
          "output_type": "stream",
          "name": "stdout",
          "text": [
            "[1]  4  7 10 13 16 19 22 25 28\n"
          ]
        }
      ]
    },
    {
      "cell_type": "markdown",
      "source": [
        "Next, show how to display this vector with the 3 index removed."
      ],
      "metadata": {
        "id": "RxFRiRMvtfXI"
      }
    },
    {
      "cell_type": "code",
      "source": [
        "my_vector[-3]"
      ],
      "metadata": {
        "id": "MBg7V1LztQlv",
        "outputId": "9bc709fb-fcae-403f-9a7e-cff6f320dac9",
        "colab": {
          "base_uri": "https://localhost:8080/",
          "height": 34
        }
      },
      "execution_count": 9,
      "outputs": [
        {
          "output_type": "display_data",
          "data": {
            "text/html": [
              "<style>\n",
              ".list-inline {list-style: none; margin:0; padding: 0}\n",
              ".list-inline>li {display: inline-block}\n",
              ".list-inline>li:not(:last-child)::after {content: \"\\00b7\"; padding: 0 .5ex}\n",
              "</style>\n",
              "<ol class=list-inline><li>4</li><li>7</li><li>13</li><li>16</li><li>19</li><li>22</li><li>25</li><li>28</li></ol>\n"
            ],
            "text/markdown": "1. 4\n2. 7\n3. 13\n4. 16\n5. 19\n6. 22\n7. 25\n8. 28\n\n\n",
            "text/latex": "\\begin{enumerate*}\n\\item 4\n\\item 7\n\\item 13\n\\item 16\n\\item 19\n\\item 22\n\\item 25\n\\item 28\n\\end{enumerate*}\n",
            "text/plain": [
              "[1]  4  7 13 16 19 22 25 28"
            ]
          },
          "metadata": {}
        }
      ]
    },
    {
      "cell_type": "markdown",
      "source": [
        "Finally, show how to delete the 4th, 5th, and 7th indexes from the vector and update the vector so they are forever removed from the vector.\n",
        "\n",
        "Hint: there is a fairly simple way to do this in one line, such that you don't have to run a separate command for each removal."
      ],
      "metadata": {
        "id": "Rmci-rVCtq-C"
      }
    },
    {
      "cell_type": "code",
      "source": [
        "my_vector = my_vector[-c(4,5,7)]\n",
        "my_vector"
      ],
      "metadata": {
        "id": "y1k0NHNruFX2",
        "outputId": "0e91400d-009a-4df0-a1bd-bdf0e989ac6a",
        "colab": {
          "base_uri": "https://localhost:8080/",
          "height": 34
        }
      },
      "execution_count": 11,
      "outputs": [
        {
          "output_type": "display_data",
          "data": {
            "text/html": [
              "<style>\n",
              ".list-inline {list-style: none; margin:0; padding: 0}\n",
              ".list-inline>li {display: inline-block}\n",
              ".list-inline>li:not(:last-child)::after {content: \"\\00b7\"; padding: 0 .5ex}\n",
              "</style>\n",
              "<ol class=list-inline><li>4</li><li>7</li><li>10</li><li>19</li><li>25</li><li>28</li></ol>\n"
            ],
            "text/markdown": "1. 4\n2. 7\n3. 10\n4. 19\n5. 25\n6. 28\n\n\n",
            "text/latex": "\\begin{enumerate*}\n\\item 4\n\\item 7\n\\item 10\n\\item 19\n\\item 25\n\\item 28\n\\end{enumerate*}\n",
            "text/plain": [
              "[1]  4  7 10 19 25 28"
            ]
          },
          "metadata": {}
        }
      ]
    },
    {
      "cell_type": "markdown",
      "source": [
        "## 4. Create a Data Frame (3 pts)\n",
        "\n",
        "In the cell below create a data frame with 10 observations (rows) and 5 variables (columns) each. This data frame will describe some of your favorite musical performers. You can use real or fictitious data to populate your data frame.\n",
        "\n",
        "Variables:\n",
        "  - `artist` - Artist or band name\n",
        "  - `category` - Rock, Pop, Country, Hip-hop, Jazz, Classical, Soul, Other. (Try to distribute your selections here)\n",
        "  - `size` - (number of members, 1-?)\n",
        "  - `start` - Debut year of artist.\n",
        "  - `grammy` - Grammmy winner? `TRUE` | `FALSE`\n",
        "\n",
        "First create vectors for each variable populated with your own performer data. Then create a data frame from these vectors (be sure to assign column names too) and assign it to a named variable such as `df`."
      ],
      "metadata": {
        "id": "-2ZaFcCCv3o8"
      }
    },
    {
      "cell_type": "code",
      "source": [
        "artist <- c(\"A\", \"B\", \"C\",\n",
        "           \"D\", \"E\", \"F\",\n",
        "           \"G\", \"H\", \"I\", \"J\")\n",
        "\n",
        "category <- c(\"rock\", \"pop\", \"country\",\n",
        "                \"hip hop\", \"jazz\", \"classical\",\n",
        "                \"soul\", \"rock\", \"pop\", \"jazz\")\n",
        "\n",
        "size <- c(1,1,1,2,3,4,5,3,5,6)\n",
        "\n",
        "start <- c(2000,2001,2002,2003,2004,2005,2006,2007,2008,2009)\n",
        "\n",
        "grammy <- c(FALSE, FALSE, TRUE, FALSE, TRUE, TRUE, FALSE, FALSE, FALSE, TRUE)\n",
        "\n",
        "df <- data.frame(Artist = artist, Category = category, Size = size, Start = start, Grammy = grammy)\n",
        "df"
      ],
      "metadata": {
        "id": "V4nBsdVsyauQ",
        "outputId": "457b083b-0b98-4308-dee4-2be9b6b466b1",
        "colab": {
          "base_uri": "https://localhost:8080/",
          "height": 412
        }
      },
      "execution_count": 15,
      "outputs": [
        {
          "output_type": "display_data",
          "data": {
            "text/html": [
              "<table class=\"dataframe\">\n",
              "<caption>A data.frame: 10 × 5</caption>\n",
              "<thead>\n",
              "\t<tr><th scope=col>Artist</th><th scope=col>Category</th><th scope=col>Size</th><th scope=col>Start</th><th scope=col>Grammy</th></tr>\n",
              "\t<tr><th scope=col>&lt;chr&gt;</th><th scope=col>&lt;chr&gt;</th><th scope=col>&lt;dbl&gt;</th><th scope=col>&lt;dbl&gt;</th><th scope=col>&lt;lgl&gt;</th></tr>\n",
              "</thead>\n",
              "<tbody>\n",
              "\t<tr><td>A</td><td>rock     </td><td>1</td><td>2000</td><td>FALSE</td></tr>\n",
              "\t<tr><td>B</td><td>pop      </td><td>1</td><td>2001</td><td>FALSE</td></tr>\n",
              "\t<tr><td>C</td><td>country  </td><td>1</td><td>2002</td><td> TRUE</td></tr>\n",
              "\t<tr><td>D</td><td>hip hop  </td><td>2</td><td>2003</td><td>FALSE</td></tr>\n",
              "\t<tr><td>E</td><td>jazz     </td><td>3</td><td>2004</td><td> TRUE</td></tr>\n",
              "\t<tr><td>F</td><td>classical</td><td>4</td><td>2005</td><td> TRUE</td></tr>\n",
              "\t<tr><td>G</td><td>soul     </td><td>5</td><td>2006</td><td>FALSE</td></tr>\n",
              "\t<tr><td>H</td><td>rock     </td><td>3</td><td>2007</td><td>FALSE</td></tr>\n",
              "\t<tr><td>I</td><td>pop      </td><td>5</td><td>2008</td><td>FALSE</td></tr>\n",
              "\t<tr><td>J</td><td>jazz     </td><td>6</td><td>2009</td><td> TRUE</td></tr>\n",
              "</tbody>\n",
              "</table>\n"
            ],
            "text/markdown": "\nA data.frame: 10 × 5\n\n| Artist &lt;chr&gt; | Category &lt;chr&gt; | Size &lt;dbl&gt; | Start &lt;dbl&gt; | Grammy &lt;lgl&gt; |\n|---|---|---|---|---|\n| A | rock      | 1 | 2000 | FALSE |\n| B | pop       | 1 | 2001 | FALSE |\n| C | country   | 1 | 2002 |  TRUE |\n| D | hip hop   | 2 | 2003 | FALSE |\n| E | jazz      | 3 | 2004 |  TRUE |\n| F | classical | 4 | 2005 |  TRUE |\n| G | soul      | 5 | 2006 | FALSE |\n| H | rock      | 3 | 2007 | FALSE |\n| I | pop       | 5 | 2008 | FALSE |\n| J | jazz      | 6 | 2009 |  TRUE |\n\n",
            "text/latex": "A data.frame: 10 × 5\n\\begin{tabular}{lllll}\n Artist & Category & Size & Start & Grammy\\\\\n <chr> & <chr> & <dbl> & <dbl> & <lgl>\\\\\n\\hline\n\t A & rock      & 1 & 2000 & FALSE\\\\\n\t B & pop       & 1 & 2001 & FALSE\\\\\n\t C & country   & 1 & 2002 &  TRUE\\\\\n\t D & hip hop   & 2 & 2003 & FALSE\\\\\n\t E & jazz      & 3 & 2004 &  TRUE\\\\\n\t F & classical & 4 & 2005 &  TRUE\\\\\n\t G & soul      & 5 & 2006 & FALSE\\\\\n\t H & rock      & 3 & 2007 & FALSE\\\\\n\t I & pop       & 5 & 2008 & FALSE\\\\\n\t J & jazz      & 6 & 2009 &  TRUE\\\\\n\\end{tabular}\n",
            "text/plain": [
              "   Artist Category  Size Start Grammy\n",
              "1  A      rock      1    2000  FALSE \n",
              "2  B      pop       1    2001  FALSE \n",
              "3  C      country   1    2002   TRUE \n",
              "4  D      hip hop   2    2003  FALSE \n",
              "5  E      jazz      3    2004   TRUE \n",
              "6  F      classical 4    2005   TRUE \n",
              "7  G      soul      5    2006  FALSE \n",
              "8  H      rock      3    2007  FALSE \n",
              "9  I      pop       5    2008  FALSE \n",
              "10 J      jazz      6    2009   TRUE "
            ]
          },
          "metadata": {}
        }
      ]
    },
    {
      "cell_type": "markdown",
      "source": [
        "## 5. Filter/Query a Data Frame (2 pts)\n",
        "\n",
        "Use the data frame you created above and show how to perform the following queries."
      ],
      "metadata": {
        "id": "nG5m-FIRydNU"
      }
    },
    {
      "cell_type": "code",
      "source": [
        "# Display the first 3 records and only the `artist`, `category` and `grammy` columns for each.\n",
        "df[1:3,c(\"Artist\", \"Category\", \"Grammy\")]"
      ],
      "metadata": {
        "id": "OlmbfFi6zSgR",
        "outputId": "395de787-6ff7-4b5d-d5cf-7a2d4cf5056c",
        "colab": {
          "base_uri": "https://localhost:8080/",
          "height": 192
        }
      },
      "execution_count": 18,
      "outputs": [
        {
          "output_type": "display_data",
          "data": {
            "text/html": [
              "<table class=\"dataframe\">\n",
              "<caption>A data.frame: 3 × 3</caption>\n",
              "<thead>\n",
              "\t<tr><th></th><th scope=col>Artist</th><th scope=col>Category</th><th scope=col>Grammy</th></tr>\n",
              "\t<tr><th></th><th scope=col>&lt;chr&gt;</th><th scope=col>&lt;chr&gt;</th><th scope=col>&lt;lgl&gt;</th></tr>\n",
              "</thead>\n",
              "<tbody>\n",
              "\t<tr><th scope=row>1</th><td>A</td><td>rock   </td><td>FALSE</td></tr>\n",
              "\t<tr><th scope=row>2</th><td>B</td><td>pop    </td><td>FALSE</td></tr>\n",
              "\t<tr><th scope=row>3</th><td>C</td><td>country</td><td> TRUE</td></tr>\n",
              "</tbody>\n",
              "</table>\n"
            ],
            "text/markdown": "\nA data.frame: 3 × 3\n\n| <!--/--> | Artist &lt;chr&gt; | Category &lt;chr&gt; | Grammy &lt;lgl&gt; |\n|---|---|---|---|\n| 1 | A | rock    | FALSE |\n| 2 | B | pop     | FALSE |\n| 3 | C | country |  TRUE |\n\n",
            "text/latex": "A data.frame: 3 × 3\n\\begin{tabular}{r|lll}\n  & Artist & Category & Grammy\\\\\n  & <chr> & <chr> & <lgl>\\\\\n\\hline\n\t1 & A & rock    & FALSE\\\\\n\t2 & B & pop     & FALSE\\\\\n\t3 & C & country &  TRUE\\\\\n\\end{tabular}\n",
            "text/plain": [
              "  Artist Category Grammy\n",
              "1 A      rock     FALSE \n",
              "2 B      pop      FALSE \n",
              "3 C      country   TRUE "
            ]
          },
          "metadata": {}
        }
      ]
    },
    {
      "cell_type": "code",
      "source": [
        "# Display the records for just one musical category, such as only Rock bands or only Hip-hop bands.\n",
        "df[df$Category == \"rock\",]\n"
      ],
      "metadata": {
        "id": "-l_kpWSzzlhG",
        "outputId": "5aa66cb4-1d56-4a8c-b399-bcbf01fe2716",
        "colab": {
          "base_uri": "https://localhost:8080/",
          "height": 161
        }
      },
      "execution_count": 19,
      "outputs": [
        {
          "output_type": "display_data",
          "data": {
            "text/html": [
              "<table class=\"dataframe\">\n",
              "<caption>A data.frame: 2 × 5</caption>\n",
              "<thead>\n",
              "\t<tr><th></th><th scope=col>Artist</th><th scope=col>Category</th><th scope=col>Size</th><th scope=col>Start</th><th scope=col>Grammy</th></tr>\n",
              "\t<tr><th></th><th scope=col>&lt;chr&gt;</th><th scope=col>&lt;chr&gt;</th><th scope=col>&lt;dbl&gt;</th><th scope=col>&lt;dbl&gt;</th><th scope=col>&lt;lgl&gt;</th></tr>\n",
              "</thead>\n",
              "<tbody>\n",
              "\t<tr><th scope=row>1</th><td>A</td><td>rock</td><td>1</td><td>2000</td><td>FALSE</td></tr>\n",
              "\t<tr><th scope=row>8</th><td>H</td><td>rock</td><td>3</td><td>2007</td><td>FALSE</td></tr>\n",
              "</tbody>\n",
              "</table>\n"
            ],
            "text/markdown": "\nA data.frame: 2 × 5\n\n| <!--/--> | Artist &lt;chr&gt; | Category &lt;chr&gt; | Size &lt;dbl&gt; | Start &lt;dbl&gt; | Grammy &lt;lgl&gt; |\n|---|---|---|---|---|---|\n| 1 | A | rock | 1 | 2000 | FALSE |\n| 8 | H | rock | 3 | 2007 | FALSE |\n\n",
            "text/latex": "A data.frame: 2 × 5\n\\begin{tabular}{r|lllll}\n  & Artist & Category & Size & Start & Grammy\\\\\n  & <chr> & <chr> & <dbl> & <dbl> & <lgl>\\\\\n\\hline\n\t1 & A & rock & 1 & 2000 & FALSE\\\\\n\t8 & H & rock & 3 & 2007 & FALSE\\\\\n\\end{tabular}\n",
            "text/plain": [
              "  Artist Category Size Start Grammy\n",
              "1 A      rock     1    2000  FALSE \n",
              "8 H      rock     3    2007  FALSE "
            ]
          },
          "metadata": {}
        }
      ]
    },
    {
      "cell_type": "markdown",
      "source": [
        "## Query a Data Frame using `tidyverse` (4 pts)\n",
        "\n",
        "1. Show how to load the library.\n",
        "2. Show how to glimpse basic features of the `starwars` data table.\n",
        "3. Create a query using tidyverse that retrieves the following data:\n",
        "    - Selects only these columns: `name`, `height`, `sex`, `species`.\n",
        "    - Filters for all species that are NOT Human.\n",
        "    - Arranges the resulting data in order by name.\n",
        "\n",
        "Show your output in a data frame."
      ],
      "metadata": {
        "id": "L-xnszjS0Byy"
      }
    },
    {
      "cell_type": "code",
      "source": [
        "# Installing packages\n",
        "install.packages(\"tidyverse\")\n",
        "library(tidyverse)\n",
        "%>% = piping\n",
        "\n",
        "starwars %>%\n",
        "  select(name, height, sex, species) %>%\n",
        "  filter(species != \"Human\") %>%\n",
        "  na.omit()\n",
        "  arrange(name)"
      ],
      "metadata": {
        "id": "yTMLzrxS0F4u",
        "outputId": "dbfb1241-256c-4d4f-9926-4120f91360ef",
        "colab": {
          "base_uri": "https://localhost:8080/",
          "height": 161
        }
      },
      "execution_count": 23,
      "outputs": [
        {
          "output_type": "error",
          "ename": "ERROR",
          "evalue": "ignored",
          "traceback": [
            "Error in parse(text = x, srcfile = src): <text>:4:1: unexpected SPECIAL\n3: library(tidyverse)\n4: %>%\n   ^\nTraceback:\n"
          ]
        }
      ]
    }
  ]
}