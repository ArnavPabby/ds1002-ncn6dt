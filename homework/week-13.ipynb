{
  "nbformat": 4,
  "nbformat_minor": 0,
  "metadata": {
    "colab": {
      "provenance": [],
      "include_colab_link": true
    },
    "kernelspec": {
      "name": "ir",
      "display_name": "R"
    },
    "language_info": {
      "name": "R"
    }
  },
  "cells": [
    {
      "cell_type": "markdown",
      "metadata": {
        "id": "view-in-github",
        "colab_type": "text"
      },
      "source": [
        "<a href=\"https://colab.research.google.com/github/ArnavPabby/ds1002-ncn6dt/blob/main/homework/week-13.ipynb\" target=\"_parent\"><img src=\"https://colab.research.google.com/assets/colab-badge.svg\" alt=\"Open In Colab\"/></a>"
      ]
    },
    {
      "cell_type": "markdown",
      "source": [
        "# Homework - Week 13\n",
        "\n",
        "Complete the following blocks as specified in the directions. Run each cell to return the desired output. Save your notebook back to your GitHub repository and submit the GitHub URL to your notebook for review."
      ],
      "metadata": {
        "id": "sZruw3XQogej"
      }
    },
    {
      "cell_type": "markdown",
      "source": [
        "## 1. Change Runtime to R (1 pt)\n",
        "\n",
        "Change the runtime of this notebook to R. You can verify that you are running R by displaying the current version you are running. Run the cell below and show the output."
      ],
      "metadata": {
        "id": "KmpG99aAokL9"
      }
    },
    {
      "cell_type": "code",
      "execution_count": 1,
      "metadata": {
        "id": "k03Z1NKAoZrW",
        "outputId": "cbd1b0b0-c921-4da1-c914-ea1178ee1835",
        "colab": {
          "base_uri": "https://localhost:8080/",
          "height": 285
        }
      },
      "outputs": [
        {
          "output_type": "display_data",
          "data": {
            "text/plain": [
              "               _                           \n",
              "platform       x86_64-pc-linux-gnu         \n",
              "arch           x86_64                      \n",
              "os             linux-gnu                   \n",
              "system         x86_64, linux-gnu           \n",
              "status                                     \n",
              "major          4                           \n",
              "minor          3.2                         \n",
              "year           2023                        \n",
              "month          10                          \n",
              "day            31                          \n",
              "svn rev        85441                       \n",
              "language       R                           \n",
              "version.string R version 4.3.2 (2023-10-31)\n",
              "nickname       Eye Holes                   "
            ]
          },
          "metadata": {}
        }
      ],
      "source": [
        "version"
      ]
    },
    {
      "cell_type": "markdown",
      "source": [
        "## 2. Create Vectors (2 pts)\n",
        "\n",
        "Create two vectors in the cells below, according to the prompts given."
      ],
      "metadata": {
        "id": "lkaofBQypx1X"
      }
    },
    {
      "cell_type": "code",
      "source": [
        "# create a vector with 7 integer values. Assign it to a variable named \"my_integers\"\n",
        "my_integers <- c(1,2,3,4,5,6,7)"
      ],
      "metadata": {
        "id": "1fjq5bkEp6Zv"
      },
      "execution_count": 2,
      "outputs": []
    },
    {
      "cell_type": "code",
      "source": [
        "var1 = 8\n",
        "var2 = 4\n",
        "var3 = 12\n",
        "var4 = 25\n",
        "\n",
        "# Using the variables given above, assign three new variables the following calculated values:\n",
        "#\n",
        "# 1. Your first variable should be assigned the calculated value of var2 divided by var1.\n",
        "val5 <- var2/var1\n",
        "print(val5)\n",
        "# 2. Your second variable should be assigned the calculated value of var2 cubed times var3.\n",
        "val6 <- (var2**3)*var3\n",
        "print(val6)\n",
        "# 3. Your third variable should be assigned the calculated value of var4 integer divided by var3.\n",
        "val7 <- as.integer(var4/var3)\n",
        "print(val7)\n",
        "# Next, create an array populated by your three variables. Assign the array to a new variable named \"my_calculated_values\"\n",
        "my_calculated_values <- c(val5, val6, val7)\n",
        "print(my_calculated_values)"
      ],
      "metadata": {
        "id": "f3IFD-T6p6Rd",
        "outputId": "20770b0b-31c4-46bd-e3b7-3cfc10bd9d90",
        "colab": {
          "base_uri": "https://localhost:8080/"
        }
      },
      "execution_count": 3,
      "outputs": [
        {
          "output_type": "stream",
          "name": "stdout",
          "text": [
            "[1] 0.5\n",
            "[1] 768\n",
            "[1] 2\n",
            "[1]   0.5 768.0   2.0\n"
          ]
        }
      ]
    },
    {
      "cell_type": "markdown",
      "source": [
        "## 3. Vector Indexes (3 pts)"
      ],
      "metadata": {
        "id": "F6Rx0GIGrpOB"
      }
    },
    {
      "cell_type": "markdown",
      "source": [
        "In the cell below, create a vector that starts with the integer 4, that increments by counts of 3 all the way to 28.\n",
        "\n",
        "Assign the vector to a variable name."
      ],
      "metadata": {
        "id": "IDLyOjOJsFCX"
      }
    },
    {
      "cell_type": "code",
      "source": [
        "my_vector <- seq(4, 28, by = 3)\n",
        "print(my_vector)"
      ],
      "metadata": {
        "id": "0D5Ia-BPsoPZ",
        "outputId": "14f94154-bf57-46b2-89c2-a7c076b902b0",
        "colab": {
          "base_uri": "https://localhost:8080/"
        }
      },
      "execution_count": 4,
      "outputs": [
        {
          "output_type": "stream",
          "name": "stdout",
          "text": [
            "[1]  4  7 10 13 16 19 22 25 28\n"
          ]
        }
      ]
    },
    {
      "cell_type": "markdown",
      "source": [
        "Next, show how to display this vector with the 3 index removed."
      ],
      "metadata": {
        "id": "RxFRiRMvtfXI"
      }
    },
    {
      "cell_type": "code",
      "source": [
        "my_vector[-3]"
      ],
      "metadata": {
        "id": "MBg7V1LztQlv",
        "outputId": "8584cda9-19f8-4009-8a0d-c6e321767388",
        "colab": {
          "base_uri": "https://localhost:8080/",
          "height": 34
        }
      },
      "execution_count": 5,
      "outputs": [
        {
          "output_type": "display_data",
          "data": {
            "text/html": [
              "<style>\n",
              ".list-inline {list-style: none; margin:0; padding: 0}\n",
              ".list-inline>li {display: inline-block}\n",
              ".list-inline>li:not(:last-child)::after {content: \"\\00b7\"; padding: 0 .5ex}\n",
              "</style>\n",
              "<ol class=list-inline><li>4</li><li>7</li><li>13</li><li>16</li><li>19</li><li>22</li><li>25</li><li>28</li></ol>\n"
            ],
            "text/markdown": "1. 4\n2. 7\n3. 13\n4. 16\n5. 19\n6. 22\n7. 25\n8. 28\n\n\n",
            "text/latex": "\\begin{enumerate*}\n\\item 4\n\\item 7\n\\item 13\n\\item 16\n\\item 19\n\\item 22\n\\item 25\n\\item 28\n\\end{enumerate*}\n",
            "text/plain": [
              "[1]  4  7 13 16 19 22 25 28"
            ]
          },
          "metadata": {}
        }
      ]
    },
    {
      "cell_type": "markdown",
      "source": [
        "Finally, show how to delete the 4th, 5th, and 7th indexes from the vector and update the vector so they are forever removed from the vector.\n",
        "\n",
        "Hint: there is a fairly simple way to do this in one line, such that you don't have to run a separate command for each removal."
      ],
      "metadata": {
        "id": "Rmci-rVCtq-C"
      }
    },
    {
      "cell_type": "code",
      "source": [
        "my_vector = my_vector[-c(4,5,7)]\n",
        "my_vector"
      ],
      "metadata": {
        "id": "y1k0NHNruFX2",
        "outputId": "5b7744e0-c617-411d-fe65-61fd4b4f5abf",
        "colab": {
          "base_uri": "https://localhost:8080/",
          "height": 34
        }
      },
      "execution_count": 6,
      "outputs": [
        {
          "output_type": "display_data",
          "data": {
            "text/html": [
              "<style>\n",
              ".list-inline {list-style: none; margin:0; padding: 0}\n",
              ".list-inline>li {display: inline-block}\n",
              ".list-inline>li:not(:last-child)::after {content: \"\\00b7\"; padding: 0 .5ex}\n",
              "</style>\n",
              "<ol class=list-inline><li>4</li><li>7</li><li>10</li><li>19</li><li>25</li><li>28</li></ol>\n"
            ],
            "text/markdown": "1. 4\n2. 7\n3. 10\n4. 19\n5. 25\n6. 28\n\n\n",
            "text/latex": "\\begin{enumerate*}\n\\item 4\n\\item 7\n\\item 10\n\\item 19\n\\item 25\n\\item 28\n\\end{enumerate*}\n",
            "text/plain": [
              "[1]  4  7 10 19 25 28"
            ]
          },
          "metadata": {}
        }
      ]
    },
    {
      "cell_type": "markdown",
      "source": [
        "## 4. Create a Data Frame (3 pts)\n",
        "\n",
        "In the cell below create a data frame with 10 observations (rows) and 5 variables (columns) each. This data frame will describe some of your favorite musical performers. You can use real or fictitious data to populate your data frame.\n",
        "\n",
        "Variables:\n",
        "  - `artist` - Artist or band name\n",
        "  - `category` - Rock, Pop, Country, Hip-hop, Jazz, Classical, Soul, Other. (Try to distribute your selections here)\n",
        "  - `size` - (number of members, 1-?)\n",
        "  - `start` - Debut year of artist.\n",
        "  - `grammy` - Grammmy winner? `TRUE` | `FALSE`\n",
        "\n",
        "First create vectors for each variable populated with your own performer data. Then create a data frame from these vectors (be sure to assign column names too) and assign it to a named variable such as `df`."
      ],
      "metadata": {
        "id": "-2ZaFcCCv3o8"
      }
    },
    {
      "cell_type": "code",
      "source": [
        "artist <- c(\"A\", \"B\", \"C\",\n",
        "           \"D\", \"E\", \"F\",\n",
        "           \"G\", \"H\", \"I\", \"J\")\n",
        "\n",
        "category <- c(\"rock\", \"pop\", \"country\",\n",
        "                \"hip hop\", \"jazz\", \"classical\",\n",
        "                \"soul\", \"rock\", \"pop\", \"jazz\")\n",
        "\n",
        "size <- c(1,1,1,2,3,4,5,3,5,6)\n",
        "\n",
        "start <- c(2000,2001,2002,2003,2004,2005,2006,2007,2008,2009)\n",
        "\n",
        "grammy <- c(FALSE, FALSE, TRUE, FALSE, TRUE, TRUE, FALSE, FALSE, FALSE, TRUE)\n",
        "\n",
        "df <- data.frame(Artist = artist, Category = category, Size = size, Start = start, Grammy = grammy)\n",
        "df"
      ],
      "metadata": {
        "id": "V4nBsdVsyauQ",
        "outputId": "6c240f36-b2c2-407d-c1f7-f93a0914407f",
        "colab": {
          "base_uri": "https://localhost:8080/",
          "height": 412
        }
      },
      "execution_count": 7,
      "outputs": [
        {
          "output_type": "display_data",
          "data": {
            "text/html": [
              "<table class=\"dataframe\">\n",
              "<caption>A data.frame: 10 × 5</caption>\n",
              "<thead>\n",
              "\t<tr><th scope=col>Artist</th><th scope=col>Category</th><th scope=col>Size</th><th scope=col>Start</th><th scope=col>Grammy</th></tr>\n",
              "\t<tr><th scope=col>&lt;chr&gt;</th><th scope=col>&lt;chr&gt;</th><th scope=col>&lt;dbl&gt;</th><th scope=col>&lt;dbl&gt;</th><th scope=col>&lt;lgl&gt;</th></tr>\n",
              "</thead>\n",
              "<tbody>\n",
              "\t<tr><td>A</td><td>rock     </td><td>1</td><td>2000</td><td>FALSE</td></tr>\n",
              "\t<tr><td>B</td><td>pop      </td><td>1</td><td>2001</td><td>FALSE</td></tr>\n",
              "\t<tr><td>C</td><td>country  </td><td>1</td><td>2002</td><td> TRUE</td></tr>\n",
              "\t<tr><td>D</td><td>hip hop  </td><td>2</td><td>2003</td><td>FALSE</td></tr>\n",
              "\t<tr><td>E</td><td>jazz     </td><td>3</td><td>2004</td><td> TRUE</td></tr>\n",
              "\t<tr><td>F</td><td>classical</td><td>4</td><td>2005</td><td> TRUE</td></tr>\n",
              "\t<tr><td>G</td><td>soul     </td><td>5</td><td>2006</td><td>FALSE</td></tr>\n",
              "\t<tr><td>H</td><td>rock     </td><td>3</td><td>2007</td><td>FALSE</td></tr>\n",
              "\t<tr><td>I</td><td>pop      </td><td>5</td><td>2008</td><td>FALSE</td></tr>\n",
              "\t<tr><td>J</td><td>jazz     </td><td>6</td><td>2009</td><td> TRUE</td></tr>\n",
              "</tbody>\n",
              "</table>\n"
            ],
            "text/markdown": "\nA data.frame: 10 × 5\n\n| Artist &lt;chr&gt; | Category &lt;chr&gt; | Size &lt;dbl&gt; | Start &lt;dbl&gt; | Grammy &lt;lgl&gt; |\n|---|---|---|---|---|\n| A | rock      | 1 | 2000 | FALSE |\n| B | pop       | 1 | 2001 | FALSE |\n| C | country   | 1 | 2002 |  TRUE |\n| D | hip hop   | 2 | 2003 | FALSE |\n| E | jazz      | 3 | 2004 |  TRUE |\n| F | classical | 4 | 2005 |  TRUE |\n| G | soul      | 5 | 2006 | FALSE |\n| H | rock      | 3 | 2007 | FALSE |\n| I | pop       | 5 | 2008 | FALSE |\n| J | jazz      | 6 | 2009 |  TRUE |\n\n",
            "text/latex": "A data.frame: 10 × 5\n\\begin{tabular}{lllll}\n Artist & Category & Size & Start & Grammy\\\\\n <chr> & <chr> & <dbl> & <dbl> & <lgl>\\\\\n\\hline\n\t A & rock      & 1 & 2000 & FALSE\\\\\n\t B & pop       & 1 & 2001 & FALSE\\\\\n\t C & country   & 1 & 2002 &  TRUE\\\\\n\t D & hip hop   & 2 & 2003 & FALSE\\\\\n\t E & jazz      & 3 & 2004 &  TRUE\\\\\n\t F & classical & 4 & 2005 &  TRUE\\\\\n\t G & soul      & 5 & 2006 & FALSE\\\\\n\t H & rock      & 3 & 2007 & FALSE\\\\\n\t I & pop       & 5 & 2008 & FALSE\\\\\n\t J & jazz      & 6 & 2009 &  TRUE\\\\\n\\end{tabular}\n",
            "text/plain": [
              "   Artist Category  Size Start Grammy\n",
              "1  A      rock      1    2000  FALSE \n",
              "2  B      pop       1    2001  FALSE \n",
              "3  C      country   1    2002   TRUE \n",
              "4  D      hip hop   2    2003  FALSE \n",
              "5  E      jazz      3    2004   TRUE \n",
              "6  F      classical 4    2005   TRUE \n",
              "7  G      soul      5    2006  FALSE \n",
              "8  H      rock      3    2007  FALSE \n",
              "9  I      pop       5    2008  FALSE \n",
              "10 J      jazz      6    2009   TRUE "
            ]
          },
          "metadata": {}
        }
      ]
    },
    {
      "cell_type": "markdown",
      "source": [
        "## 5. Filter/Query a Data Frame (2 pts)\n",
        "\n",
        "Use the data frame you created above and show how to perform the following queries."
      ],
      "metadata": {
        "id": "nG5m-FIRydNU"
      }
    },
    {
      "cell_type": "code",
      "source": [
        "# Display the first 3 records and only the `artist`, `category` and `grammy` columns for each.\n",
        "df[1:3,c(\"Artist\", \"Category\", \"Grammy\")]"
      ],
      "metadata": {
        "id": "OlmbfFi6zSgR",
        "outputId": "00aeaeb0-9da6-4bae-e562-1f68d419fb98",
        "colab": {
          "base_uri": "https://localhost:8080/",
          "height": 192
        }
      },
      "execution_count": 8,
      "outputs": [
        {
          "output_type": "display_data",
          "data": {
            "text/html": [
              "<table class=\"dataframe\">\n",
              "<caption>A data.frame: 3 × 3</caption>\n",
              "<thead>\n",
              "\t<tr><th></th><th scope=col>Artist</th><th scope=col>Category</th><th scope=col>Grammy</th></tr>\n",
              "\t<tr><th></th><th scope=col>&lt;chr&gt;</th><th scope=col>&lt;chr&gt;</th><th scope=col>&lt;lgl&gt;</th></tr>\n",
              "</thead>\n",
              "<tbody>\n",
              "\t<tr><th scope=row>1</th><td>A</td><td>rock   </td><td>FALSE</td></tr>\n",
              "\t<tr><th scope=row>2</th><td>B</td><td>pop    </td><td>FALSE</td></tr>\n",
              "\t<tr><th scope=row>3</th><td>C</td><td>country</td><td> TRUE</td></tr>\n",
              "</tbody>\n",
              "</table>\n"
            ],
            "text/markdown": "\nA data.frame: 3 × 3\n\n| <!--/--> | Artist &lt;chr&gt; | Category &lt;chr&gt; | Grammy &lt;lgl&gt; |\n|---|---|---|---|\n| 1 | A | rock    | FALSE |\n| 2 | B | pop     | FALSE |\n| 3 | C | country |  TRUE |\n\n",
            "text/latex": "A data.frame: 3 × 3\n\\begin{tabular}{r|lll}\n  & Artist & Category & Grammy\\\\\n  & <chr> & <chr> & <lgl>\\\\\n\\hline\n\t1 & A & rock    & FALSE\\\\\n\t2 & B & pop     & FALSE\\\\\n\t3 & C & country &  TRUE\\\\\n\\end{tabular}\n",
            "text/plain": [
              "  Artist Category Grammy\n",
              "1 A      rock     FALSE \n",
              "2 B      pop      FALSE \n",
              "3 C      country   TRUE "
            ]
          },
          "metadata": {}
        }
      ]
    },
    {
      "cell_type": "code",
      "source": [
        "# Display the records for just one musical category, such as only Rock bands or only Hip-hop bands.\n",
        "df[df$Category == \"rock\",]\n"
      ],
      "metadata": {
        "id": "-l_kpWSzzlhG",
        "outputId": "2056aa1a-2bd5-4590-cbd8-022d1a5331d9",
        "colab": {
          "base_uri": "https://localhost:8080/",
          "height": 161
        }
      },
      "execution_count": 9,
      "outputs": [
        {
          "output_type": "display_data",
          "data": {
            "text/html": [
              "<table class=\"dataframe\">\n",
              "<caption>A data.frame: 2 × 5</caption>\n",
              "<thead>\n",
              "\t<tr><th></th><th scope=col>Artist</th><th scope=col>Category</th><th scope=col>Size</th><th scope=col>Start</th><th scope=col>Grammy</th></tr>\n",
              "\t<tr><th></th><th scope=col>&lt;chr&gt;</th><th scope=col>&lt;chr&gt;</th><th scope=col>&lt;dbl&gt;</th><th scope=col>&lt;dbl&gt;</th><th scope=col>&lt;lgl&gt;</th></tr>\n",
              "</thead>\n",
              "<tbody>\n",
              "\t<tr><th scope=row>1</th><td>A</td><td>rock</td><td>1</td><td>2000</td><td>FALSE</td></tr>\n",
              "\t<tr><th scope=row>8</th><td>H</td><td>rock</td><td>3</td><td>2007</td><td>FALSE</td></tr>\n",
              "</tbody>\n",
              "</table>\n"
            ],
            "text/markdown": "\nA data.frame: 2 × 5\n\n| <!--/--> | Artist &lt;chr&gt; | Category &lt;chr&gt; | Size &lt;dbl&gt; | Start &lt;dbl&gt; | Grammy &lt;lgl&gt; |\n|---|---|---|---|---|---|\n| 1 | A | rock | 1 | 2000 | FALSE |\n| 8 | H | rock | 3 | 2007 | FALSE |\n\n",
            "text/latex": "A data.frame: 2 × 5\n\\begin{tabular}{r|lllll}\n  & Artist & Category & Size & Start & Grammy\\\\\n  & <chr> & <chr> & <dbl> & <dbl> & <lgl>\\\\\n\\hline\n\t1 & A & rock & 1 & 2000 & FALSE\\\\\n\t8 & H & rock & 3 & 2007 & FALSE\\\\\n\\end{tabular}\n",
            "text/plain": [
              "  Artist Category Size Start Grammy\n",
              "1 A      rock     1    2000  FALSE \n",
              "8 H      rock     3    2007  FALSE "
            ]
          },
          "metadata": {}
        }
      ]
    },
    {
      "cell_type": "markdown",
      "source": [
        "## Query a Data Frame using `tidyverse` (4 pts)\n",
        "\n",
        "1. Show how to load the library.\n",
        "2. Show how to glimpse basic features of the `starwars` data table.\n",
        "3. Create a query using tidyverse that retrieves the following data:\n",
        "    - Selects only these columns: `name`, `height`, `sex`, `species`.\n",
        "    - Filters for all species that are NOT Human.\n",
        "    - Arranges the resulting data in order by name.\n",
        "\n",
        "Show your output in a data frame."
      ],
      "metadata": {
        "id": "L-xnszjS0Byy"
      }
    },
    {
      "cell_type": "code",
      "source": [
        "# Installing packages\n",
        "install.packages(\"tidyverse\")\n",
        "library(tidyverse)\n",
        "\n",
        "\n"
      ],
      "metadata": {
        "id": "yTMLzrxS0F4u",
        "outputId": "80c2e46c-bd09-4b74-cde1-09080ad0a70b",
        "colab": {
          "base_uri": "https://localhost:8080/"
        }
      },
      "execution_count": 16,
      "outputs": [
        {
          "output_type": "stream",
          "name": "stderr",
          "text": [
            "Installing package into ‘/usr/local/lib/R/site-library’\n",
            "(as ‘lib’ is unspecified)\n",
            "\n"
          ]
        }
      ]
    },
    {
      "cell_type": "code",
      "source": [
        "starwars %>%\n",
        "  select(name, height, sex, species) %>%\n",
        "  filter(species != \"Human\") %>%\n",
        "  na.omit()\n",
        "  arrange(name)"
      ],
      "metadata": {
        "id": "cttL4qc0wsaz",
        "outputId": "b62d58fe-4ff9-4fc4-a953-8844873dacbb",
        "colab": {
          "base_uri": "https://localhost:8080/",
          "height": 1000
        }
      },
      "execution_count": 21,
      "outputs": [
        {
          "output_type": "display_data",
          "data": {
            "text/html": [
              "<table class=\"dataframe\">\n",
              "<caption>A tibble: 47 × 4</caption>\n",
              "<thead>\n",
              "\t<tr><th scope=col>name</th><th scope=col>height</th><th scope=col>sex</th><th scope=col>species</th></tr>\n",
              "\t<tr><th scope=col>&lt;chr&gt;</th><th scope=col>&lt;int&gt;</th><th scope=col>&lt;chr&gt;</th><th scope=col>&lt;chr&gt;</th></tr>\n",
              "</thead>\n",
              "<tbody>\n",
              "\t<tr><td>C-3PO                </td><td>167</td><td>none          </td><td>Droid         </td></tr>\n",
              "\t<tr><td>R2-D2                </td><td> 96</td><td>none          </td><td>Droid         </td></tr>\n",
              "\t<tr><td>R5-D4                </td><td> 97</td><td>none          </td><td>Droid         </td></tr>\n",
              "\t<tr><td>Chewbacca            </td><td>228</td><td>male          </td><td>Wookiee       </td></tr>\n",
              "\t<tr><td>Greedo               </td><td>173</td><td>male          </td><td>Rodian        </td></tr>\n",
              "\t<tr><td>Jabba Desilijic Tiure</td><td>175</td><td>hermaphroditic</td><td>Hutt          </td></tr>\n",
              "\t<tr><td>Yoda                 </td><td> 66</td><td>male          </td><td>Yoda's species</td></tr>\n",
              "\t<tr><td>IG-88                </td><td>200</td><td>none          </td><td>Droid         </td></tr>\n",
              "\t<tr><td>Bossk                </td><td>190</td><td>male          </td><td>Trandoshan    </td></tr>\n",
              "\t<tr><td>Ackbar               </td><td>180</td><td>male          </td><td>Mon Calamari  </td></tr>\n",
              "\t<tr><td>Wicket Systri Warrick</td><td> 88</td><td>male          </td><td>Ewok          </td></tr>\n",
              "\t<tr><td>Nien Nunb            </td><td>160</td><td>male          </td><td>Sullustan     </td></tr>\n",
              "\t<tr><td>Nute Gunray          </td><td>191</td><td>male          </td><td>Neimodian     </td></tr>\n",
              "\t<tr><td>Jar Jar Binks        </td><td>196</td><td>male          </td><td>Gungan        </td></tr>\n",
              "\t<tr><td>Roos Tarpals         </td><td>224</td><td>male          </td><td>Gungan        </td></tr>\n",
              "\t<tr><td>Rugor Nass           </td><td>206</td><td>male          </td><td>Gungan        </td></tr>\n",
              "\t<tr><td>Watto                </td><td>137</td><td>male          </td><td>Toydarian     </td></tr>\n",
              "\t<tr><td>Sebulba              </td><td>112</td><td>male          </td><td>Dug           </td></tr>\n",
              "\t<tr><td>Darth Maul           </td><td>175</td><td>male          </td><td>Zabrak        </td></tr>\n",
              "\t<tr><td>Bib Fortuna          </td><td>180</td><td>male          </td><td>Twi'lek       </td></tr>\n",
              "\t<tr><td>Ayla Secura          </td><td>178</td><td>female        </td><td>Twi'lek       </td></tr>\n",
              "\t<tr><td>Ratts Tyerel         </td><td> 79</td><td>male          </td><td>Aleena        </td></tr>\n",
              "\t<tr><td>Dud Bolt             </td><td> 94</td><td>male          </td><td>Vulptereen    </td></tr>\n",
              "\t<tr><td>Gasgano              </td><td>122</td><td>male          </td><td>Xexto         </td></tr>\n",
              "\t<tr><td>Ben Quadinaros       </td><td>163</td><td>male          </td><td>Toong         </td></tr>\n",
              "\t<tr><td>Ki-Adi-Mundi         </td><td>198</td><td>male          </td><td>Cerean        </td></tr>\n",
              "\t<tr><td>Kit Fisto            </td><td>196</td><td>male          </td><td>Nautolan      </td></tr>\n",
              "\t<tr><td>Eeth Koth            </td><td>171</td><td>male          </td><td>Zabrak        </td></tr>\n",
              "\t<tr><td>Adi Gallia           </td><td>184</td><td>female        </td><td>Tholothian    </td></tr>\n",
              "\t<tr><td>Saesee Tiin          </td><td>188</td><td>male          </td><td>Iktotchi      </td></tr>\n",
              "\t<tr><td>Yarael Poof          </td><td>264</td><td>male          </td><td>Quermian      </td></tr>\n",
              "\t<tr><td>Plo Koon             </td><td>188</td><td>male          </td><td>Kel Dor       </td></tr>\n",
              "\t<tr><td>Mas Amedda           </td><td>196</td><td>male          </td><td>Chagrian      </td></tr>\n",
              "\t<tr><td>Poggle the Lesser    </td><td>183</td><td>male          </td><td>Geonosian     </td></tr>\n",
              "\t<tr><td>Luminara Unduli      </td><td>170</td><td>female        </td><td>Mirialan      </td></tr>\n",
              "\t<tr><td>Barriss Offee        </td><td>166</td><td>female        </td><td>Mirialan      </td></tr>\n",
              "\t<tr><td>Zam Wesell           </td><td>168</td><td>female        </td><td>Clawdite      </td></tr>\n",
              "\t<tr><td>Dexter Jettster      </td><td>198</td><td>male          </td><td>Besalisk      </td></tr>\n",
              "\t<tr><td>Lama Su              </td><td>229</td><td>male          </td><td>Kaminoan      </td></tr>\n",
              "\t<tr><td>Taun We              </td><td>213</td><td>female        </td><td>Kaminoan      </td></tr>\n",
              "\t<tr><td>R4-P17               </td><td> 96</td><td>none          </td><td>Droid         </td></tr>\n",
              "\t<tr><td>Wat Tambor           </td><td>193</td><td>male          </td><td>Skakoan       </td></tr>\n",
              "\t<tr><td>San Hill             </td><td>191</td><td>male          </td><td>Muun          </td></tr>\n",
              "\t<tr><td>Shaak Ti             </td><td>178</td><td>female        </td><td>Togruta       </td></tr>\n",
              "\t<tr><td>Grievous             </td><td>216</td><td>male          </td><td>Kaleesh       </td></tr>\n",
              "\t<tr><td>Tarfful              </td><td>234</td><td>male          </td><td>Wookiee       </td></tr>\n",
              "\t<tr><td>Tion Medon           </td><td>206</td><td>male          </td><td>Pau'an        </td></tr>\n",
              "</tbody>\n",
              "</table>\n"
            ],
            "text/markdown": "\nA tibble: 47 × 4\n\n| name &lt;chr&gt; | height &lt;int&gt; | sex &lt;chr&gt; | species &lt;chr&gt; |\n|---|---|---|---|\n| C-3PO                 | 167 | none           | Droid          |\n| R2-D2                 |  96 | none           | Droid          |\n| R5-D4                 |  97 | none           | Droid          |\n| Chewbacca             | 228 | male           | Wookiee        |\n| Greedo                | 173 | male           | Rodian         |\n| Jabba Desilijic Tiure | 175 | hermaphroditic | Hutt           |\n| Yoda                  |  66 | male           | Yoda's species |\n| IG-88                 | 200 | none           | Droid          |\n| Bossk                 | 190 | male           | Trandoshan     |\n| Ackbar                | 180 | male           | Mon Calamari   |\n| Wicket Systri Warrick |  88 | male           | Ewok           |\n| Nien Nunb             | 160 | male           | Sullustan      |\n| Nute Gunray           | 191 | male           | Neimodian      |\n| Jar Jar Binks         | 196 | male           | Gungan         |\n| Roos Tarpals          | 224 | male           | Gungan         |\n| Rugor Nass            | 206 | male           | Gungan         |\n| Watto                 | 137 | male           | Toydarian      |\n| Sebulba               | 112 | male           | Dug            |\n| Darth Maul            | 175 | male           | Zabrak         |\n| Bib Fortuna           | 180 | male           | Twi'lek        |\n| Ayla Secura           | 178 | female         | Twi'lek        |\n| Ratts Tyerel          |  79 | male           | Aleena         |\n| Dud Bolt              |  94 | male           | Vulptereen     |\n| Gasgano               | 122 | male           | Xexto          |\n| Ben Quadinaros        | 163 | male           | Toong          |\n| Ki-Adi-Mundi          | 198 | male           | Cerean         |\n| Kit Fisto             | 196 | male           | Nautolan       |\n| Eeth Koth             | 171 | male           | Zabrak         |\n| Adi Gallia            | 184 | female         | Tholothian     |\n| Saesee Tiin           | 188 | male           | Iktotchi       |\n| Yarael Poof           | 264 | male           | Quermian       |\n| Plo Koon              | 188 | male           | Kel Dor        |\n| Mas Amedda            | 196 | male           | Chagrian       |\n| Poggle the Lesser     | 183 | male           | Geonosian      |\n| Luminara Unduli       | 170 | female         | Mirialan       |\n| Barriss Offee         | 166 | female         | Mirialan       |\n| Zam Wesell            | 168 | female         | Clawdite       |\n| Dexter Jettster       | 198 | male           | Besalisk       |\n| Lama Su               | 229 | male           | Kaminoan       |\n| Taun We               | 213 | female         | Kaminoan       |\n| R4-P17                |  96 | none           | Droid          |\n| Wat Tambor            | 193 | male           | Skakoan        |\n| San Hill              | 191 | male           | Muun           |\n| Shaak Ti              | 178 | female         | Togruta        |\n| Grievous              | 216 | male           | Kaleesh        |\n| Tarfful               | 234 | male           | Wookiee        |\n| Tion Medon            | 206 | male           | Pau'an         |\n\n",
            "text/latex": "A tibble: 47 × 4\n\\begin{tabular}{llll}\n name & height & sex & species\\\\\n <chr> & <int> & <chr> & <chr>\\\\\n\\hline\n\t C-3PO                 & 167 & none           & Droid         \\\\\n\t R2-D2                 &  96 & none           & Droid         \\\\\n\t R5-D4                 &  97 & none           & Droid         \\\\\n\t Chewbacca             & 228 & male           & Wookiee       \\\\\n\t Greedo                & 173 & male           & Rodian        \\\\\n\t Jabba Desilijic Tiure & 175 & hermaphroditic & Hutt          \\\\\n\t Yoda                  &  66 & male           & Yoda's species\\\\\n\t IG-88                 & 200 & none           & Droid         \\\\\n\t Bossk                 & 190 & male           & Trandoshan    \\\\\n\t Ackbar                & 180 & male           & Mon Calamari  \\\\\n\t Wicket Systri Warrick &  88 & male           & Ewok          \\\\\n\t Nien Nunb             & 160 & male           & Sullustan     \\\\\n\t Nute Gunray           & 191 & male           & Neimodian     \\\\\n\t Jar Jar Binks         & 196 & male           & Gungan        \\\\\n\t Roos Tarpals          & 224 & male           & Gungan        \\\\\n\t Rugor Nass            & 206 & male           & Gungan        \\\\\n\t Watto                 & 137 & male           & Toydarian     \\\\\n\t Sebulba               & 112 & male           & Dug           \\\\\n\t Darth Maul            & 175 & male           & Zabrak        \\\\\n\t Bib Fortuna           & 180 & male           & Twi'lek       \\\\\n\t Ayla Secura           & 178 & female         & Twi'lek       \\\\\n\t Ratts Tyerel          &  79 & male           & Aleena        \\\\\n\t Dud Bolt              &  94 & male           & Vulptereen    \\\\\n\t Gasgano               & 122 & male           & Xexto         \\\\\n\t Ben Quadinaros        & 163 & male           & Toong         \\\\\n\t Ki-Adi-Mundi          & 198 & male           & Cerean        \\\\\n\t Kit Fisto             & 196 & male           & Nautolan      \\\\\n\t Eeth Koth             & 171 & male           & Zabrak        \\\\\n\t Adi Gallia            & 184 & female         & Tholothian    \\\\\n\t Saesee Tiin           & 188 & male           & Iktotchi      \\\\\n\t Yarael Poof           & 264 & male           & Quermian      \\\\\n\t Plo Koon              & 188 & male           & Kel Dor       \\\\\n\t Mas Amedda            & 196 & male           & Chagrian      \\\\\n\t Poggle the Lesser     & 183 & male           & Geonosian     \\\\\n\t Luminara Unduli       & 170 & female         & Mirialan      \\\\\n\t Barriss Offee         & 166 & female         & Mirialan      \\\\\n\t Zam Wesell            & 168 & female         & Clawdite      \\\\\n\t Dexter Jettster       & 198 & male           & Besalisk      \\\\\n\t Lama Su               & 229 & male           & Kaminoan      \\\\\n\t Taun We               & 213 & female         & Kaminoan      \\\\\n\t R4-P17                &  96 & none           & Droid         \\\\\n\t Wat Tambor            & 193 & male           & Skakoan       \\\\\n\t San Hill              & 191 & male           & Muun          \\\\\n\t Shaak Ti              & 178 & female         & Togruta       \\\\\n\t Grievous              & 216 & male           & Kaleesh       \\\\\n\t Tarfful               & 234 & male           & Wookiee       \\\\\n\t Tion Medon            & 206 & male           & Pau'an        \\\\\n\\end{tabular}\n",
            "text/plain": [
              "   name                  height sex            species       \n",
              "1  C-3PO                 167    none           Droid         \n",
              "2  R2-D2                  96    none           Droid         \n",
              "3  R5-D4                  97    none           Droid         \n",
              "4  Chewbacca             228    male           Wookiee       \n",
              "5  Greedo                173    male           Rodian        \n",
              "6  Jabba Desilijic Tiure 175    hermaphroditic Hutt          \n",
              "7  Yoda                   66    male           Yoda's species\n",
              "8  IG-88                 200    none           Droid         \n",
              "9  Bossk                 190    male           Trandoshan    \n",
              "10 Ackbar                180    male           Mon Calamari  \n",
              "11 Wicket Systri Warrick  88    male           Ewok          \n",
              "12 Nien Nunb             160    male           Sullustan     \n",
              "13 Nute Gunray           191    male           Neimodian     \n",
              "14 Jar Jar Binks         196    male           Gungan        \n",
              "15 Roos Tarpals          224    male           Gungan        \n",
              "16 Rugor Nass            206    male           Gungan        \n",
              "17 Watto                 137    male           Toydarian     \n",
              "18 Sebulba               112    male           Dug           \n",
              "19 Darth Maul            175    male           Zabrak        \n",
              "20 Bib Fortuna           180    male           Twi'lek       \n",
              "21 Ayla Secura           178    female         Twi'lek       \n",
              "22 Ratts Tyerel           79    male           Aleena        \n",
              "23 Dud Bolt               94    male           Vulptereen    \n",
              "24 Gasgano               122    male           Xexto         \n",
              "25 Ben Quadinaros        163    male           Toong         \n",
              "26 Ki-Adi-Mundi          198    male           Cerean        \n",
              "27 Kit Fisto             196    male           Nautolan      \n",
              "28 Eeth Koth             171    male           Zabrak        \n",
              "29 Adi Gallia            184    female         Tholothian    \n",
              "30 Saesee Tiin           188    male           Iktotchi      \n",
              "31 Yarael Poof           264    male           Quermian      \n",
              "32 Plo Koon              188    male           Kel Dor       \n",
              "33 Mas Amedda            196    male           Chagrian      \n",
              "34 Poggle the Lesser     183    male           Geonosian     \n",
              "35 Luminara Unduli       170    female         Mirialan      \n",
              "36 Barriss Offee         166    female         Mirialan      \n",
              "37 Zam Wesell            168    female         Clawdite      \n",
              "38 Dexter Jettster       198    male           Besalisk      \n",
              "39 Lama Su               229    male           Kaminoan      \n",
              "40 Taun We               213    female         Kaminoan      \n",
              "41 R4-P17                 96    none           Droid         \n",
              "42 Wat Tambor            193    male           Skakoan       \n",
              "43 San Hill              191    male           Muun          \n",
              "44 Shaak Ti              178    female         Togruta       \n",
              "45 Grievous              216    male           Kaleesh       \n",
              "46 Tarfful               234    male           Wookiee       \n",
              "47 Tion Medon            206    male           Pau'an        "
            ]
          },
          "metadata": {}
        },
        {
          "output_type": "error",
          "ename": "ERROR",
          "evalue": "ignored",
          "traceback": [
            "Error in eval(expr, envir, enclos): object 'name' not found\nTraceback:\n",
            "1. arrange(name)"
          ]
        }
      ]
    }
  ]
}