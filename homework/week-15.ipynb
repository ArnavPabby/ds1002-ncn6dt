{
  "nbformat": 4,
  "nbformat_minor": 0,
  "metadata": {
    "colab": {
      "provenance": [],
      "include_colab_link": true
    },
    "kernelspec": {
      "name": "ir",
      "display_name": "R"
    },
    "language_info": {
      "name": "R"
    }
  },
  "cells": [
    {
      "cell_type": "markdown",
      "metadata": {
        "id": "view-in-github",
        "colab_type": "text"
      },
      "source": [
        "<a href=\"https://colab.research.google.com/github/ArnavPabby/ds1002-ncn6dt/blob/main/homework/week-15.ipynb\" target=\"_parent\"><img src=\"https://colab.research.google.com/assets/colab-badge.svg\" alt=\"Open In Colab\"/></a>"
      ]
    },
    {
      "cell_type": "markdown",
      "source": [
        "# Homework - Week 15\n",
        "\n",
        "Complete the following blocks as specified in the directions. Run each cell to return the desired output. Save your notebook back to your GitHub repository and submit the GitHub URL to your notebook for review."
      ],
      "metadata": {
        "id": "sZruw3XQogej"
      }
    },
    {
      "cell_type": "markdown",
      "source": [
        "## 1. Create Functions (4 pts)\n",
        "\n",
        "Create two functions in the cells below, according to the prompts given."
      ],
      "metadata": {
        "id": "lkaofBQypx1X"
      }
    },
    {
      "cell_type": "code",
      "source": [
        "# create a function in R that:\n",
        "#   1. takes a single integer as an input parameter\n",
        "#   2. determines whether the integer is even or odd\n",
        "#   3. returns a character statement \"The integer <x> is even\" or \"The integer <x> is odd\" (replace <x> with the actual input provided)\n",
        "\n",
        "odd_or_even <- function(var1) {\n",
        "  if (var1 %% 2 == 1) {\n",
        "    return(c(\"The integer\", var1, \"is odd\"))\n",
        "  } else {\n",
        "    return(c(\"The integer\", var1, \"is even \"))\n",
        "}\n",
        "}\n",
        "\n",
        "\n",
        "# then execute the function twice using two different input values, displaying even and odd results.\n",
        "odd_or_even(1)\n",
        "odd_or_even(2)\n"
      ],
      "metadata": {
        "id": "1fjq5bkEp6Zv",
        "outputId": "58547716-47c6-48e9-e9c5-dc95997bcaa1",
        "colab": {
          "base_uri": "https://localhost:8080/",
          "height": 52
        }
      },
      "execution_count": 8,
      "outputs": [
        {
          "output_type": "display_data",
          "data": {
            "text/html": [
              "<style>\n",
              ".list-inline {list-style: none; margin:0; padding: 0}\n",
              ".list-inline>li {display: inline-block}\n",
              ".list-inline>li:not(:last-child)::after {content: \"\\00b7\"; padding: 0 .5ex}\n",
              "</style>\n",
              "<ol class=list-inline><li>'The integer'</li><li>'1'</li><li>'is odd'</li></ol>\n"
            ],
            "text/markdown": "1. 'The integer'\n2. '1'\n3. 'is odd'\n\n\n",
            "text/latex": "\\begin{enumerate*}\n\\item 'The integer'\n\\item '1'\n\\item 'is odd'\n\\end{enumerate*}\n",
            "text/plain": [
              "[1] \"The integer\" \"1\"           \"is odd\"     "
            ]
          },
          "metadata": {}
        },
        {
          "output_type": "display_data",
          "data": {
            "text/html": [
              "<style>\n",
              ".list-inline {list-style: none; margin:0; padding: 0}\n",
              ".list-inline>li {display: inline-block}\n",
              ".list-inline>li:not(:last-child)::after {content: \"\\00b7\"; padding: 0 .5ex}\n",
              "</style>\n",
              "<ol class=list-inline><li>'The integer'</li><li>'2'</li><li>'is even '</li></ol>\n"
            ],
            "text/markdown": "1. 'The integer'\n2. '2'\n3. 'is even '\n\n\n",
            "text/latex": "\\begin{enumerate*}\n\\item 'The integer'\n\\item '2'\n\\item 'is even '\n\\end{enumerate*}\n",
            "text/plain": [
              "[1] \"The integer\" \"2\"           \"is even \"   "
            ]
          },
          "metadata": {}
        }
      ]
    },
    {
      "cell_type": "code",
      "source": [
        "# create a function in R that:\n",
        "#   1. takes 4 integer input parameters\n",
        "#   2. returns the mean value of the inputs\n",
        "#   3. has default values for the 4 input parameters, in case they are not provided when the function is called.\n",
        "\n",
        "meanCalculator <- function(var1 = 1,var2 = 2,var3 = 3,var4 = 4) {\n",
        "  mean <- (var1+var2+var3+var4)/4\n",
        "  return(mean)\n",
        "}\n",
        "#\n",
        "# then execute the function twice: once where you provide the input values, and once where you do not.\n",
        "meanCalculator(12,34,24,5)\n",
        "meanCalculator()\n",
        "\n"
      ],
      "metadata": {
        "id": "f3IFD-T6p6Rd",
        "outputId": "4eb5cd88-e87d-4bb2-c69a-10f6ca98a98d",
        "colab": {
          "base_uri": "https://localhost:8080/",
          "height": 52
        }
      },
      "execution_count": 10,
      "outputs": [
        {
          "output_type": "display_data",
          "data": {
            "text/html": [
              "18.75"
            ],
            "text/markdown": "18.75",
            "text/latex": "18.75",
            "text/plain": [
              "[1] 18.75"
            ]
          },
          "metadata": {}
        },
        {
          "output_type": "display_data",
          "data": {
            "text/html": [
              "2.5"
            ],
            "text/markdown": "2.5",
            "text/latex": "2.5",
            "text/plain": [
              "[1] 2.5"
            ]
          },
          "metadata": {}
        }
      ]
    },
    {
      "cell_type": "markdown",
      "source": [
        "## 2. Plot Data (4 pts)"
      ],
      "metadata": {
        "id": "F6Rx0GIGrpOB"
      }
    },
    {
      "cell_type": "markdown",
      "source": [
        "In the cell below, write the code required to plot from the `msleep` sample data set.\n",
        "\n",
        "1. Display only animals with body weights of 30 or greater.\n",
        "2. Group the animals by `order`.\n",
        "3. Display the mean `sleep_total` for each group in a bar plot."
      ],
      "metadata": {
        "id": "IDLyOjOJsFCX"
      }
    },
    {
      "cell_type": "code",
      "source": [
        "#\n",
        "install.packages('ggplot2')\n",
        "library(ggplot2)\n",
        "data(msleep)\n",
        "\n",
        "df=data.frame(msleep)\n",
        "df[df$bodywt>30]\n"
      ],
      "metadata": {
        "id": "0D5Ia-BPsoPZ",
        "outputId": "230da88e-35bd-4e66-c6a2-fd83055e3826",
        "colab": {
          "base_uri": "https://localhost:8080/",
          "height": 232
        }
      },
      "execution_count": 16,
      "outputs": [
        {
          "metadata": {
            "tags": null
          },
          "name": "stderr",
          "output_type": "stream",
          "text": [
            "Installing package into ‘/usr/local/lib/R/site-library’\n",
            "(as ‘lib’ is unspecified)\n",
            "\n"
          ]
        },
        {
          "output_type": "error",
          "ename": "ERROR",
          "evalue": "ignored",
          "traceback": [
            "Error in `[.data.frame`(df, df$bodywt > 30): undefined columns selected\nTraceback:\n",
            "1. df[df$bodywt > 30]",
            "2. `[.data.frame`(df, df$bodywt > 30)",
            "3. stop(\"undefined columns selected\")"
          ]
        }
      ]
    },
    {
      "cell_type": "markdown",
      "source": [
        "## 3. Clean and Analyze Data Using R (4 pts)\n",
        "\n",
        "In the cells below use R to perform the following data cleaning steps on this file:\n",
        "https://raw.githubusercontent.com/nmagee/ds1002/main/data/social-media-users.csv\n",
        "\n",
        "1. Remove any duplicate rows.\n",
        "2. Remove any records where `last_login` or `birthdate` are empty.\n",
        "3. Display only the records with the 10 highest `follower` counts.\n",
        "4. Determine counts of users when grouped by continent."
      ],
      "metadata": {
        "id": "-2ZaFcCCv3o8"
      }
    },
    {
      "cell_type": "code",
      "source": [
        "#\n"
      ],
      "metadata": {
        "id": "V4nBsdVsyauQ"
      },
      "execution_count": null,
      "outputs": []
    },
    {
      "cell_type": "code",
      "source": [
        "#\n"
      ],
      "metadata": {
        "id": "LwXD1sNulIT3"
      },
      "execution_count": null,
      "outputs": []
    },
    {
      "cell_type": "code",
      "source": [
        "#\n"
      ],
      "metadata": {
        "id": "7qa100btlI4Z"
      },
      "execution_count": null,
      "outputs": []
    },
    {
      "cell_type": "code",
      "source": [
        "#\n"
      ],
      "metadata": {
        "id": "MjrZisnxlJUa"
      },
      "execution_count": null,
      "outputs": []
    }
  ]
}