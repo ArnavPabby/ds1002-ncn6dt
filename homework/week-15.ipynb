{
  "nbformat": 4,
  "nbformat_minor": 0,
  "metadata": {
    "colab": {
      "provenance": [],
      "include_colab_link": true
    },
    "kernelspec": {
      "name": "ir",
      "display_name": "R"
    },
    "language_info": {
      "name": "R"
    }
  },
  "cells": [
    {
      "cell_type": "markdown",
      "metadata": {
        "id": "view-in-github",
        "colab_type": "text"
      },
      "source": [
        "<a href=\"https://colab.research.google.com/github/ArnavPabby/ds1002-ncn6dt/blob/main/homework/week-15.ipynb\" target=\"_parent\"><img src=\"https://colab.research.google.com/assets/colab-badge.svg\" alt=\"Open In Colab\"/></a>"
      ]
    },
    {
      "cell_type": "markdown",
      "source": [
        "# Homework - Week 15\n",
        "\n",
        "Complete the following blocks as specified in the directions. Run each cell to return the desired output. Save your notebook back to your GitHub repository and submit the GitHub URL to your notebook for review."
      ],
      "metadata": {
        "id": "sZruw3XQogej"
      }
    },
    {
      "cell_type": "markdown",
      "source": [
        "## 1. Create Functions (4 pts)\n",
        "\n",
        "Create two functions in the cells below, according to the prompts given."
      ],
      "metadata": {
        "id": "lkaofBQypx1X"
      }
    },
    {
      "cell_type": "code",
      "source": [
        "# create a function in R that:\n",
        "#   1. takes a single integer as an input parameter\n",
        "#   2. determines whether the integer is even or odd\n",
        "#   3. returns a character statement \"The integer <x> is even\" or \"The integer <x> is odd\" (replace <x> with the actual input provided)\n",
        "\n",
        "odd_or_even <- function(var1) {\n",
        "  if (var1 %% 2 == 1) {\n",
        "    return(c(\"The integer\", var1, \"is odd\"))\n",
        "  } else {\n",
        "    return(c(\"The integer\", var1, \"is even \"))\n",
        "}\n",
        "}\n",
        "\n",
        "\n",
        "# then execute the function twice using two different input values, displaying even and odd results.\n",
        "odd_or_even(1)\n",
        "odd_or_even(2)\n"
      ],
      "metadata": {
        "id": "1fjq5bkEp6Zv",
        "outputId": "cdedf5c7-9962-4bff-e3d4-4af07174332b",
        "colab": {
          "base_uri": "https://localhost:8080/",
          "height": 52
        }
      },
      "execution_count": 1,
      "outputs": [
        {
          "output_type": "display_data",
          "data": {
            "text/html": [
              "<style>\n",
              ".list-inline {list-style: none; margin:0; padding: 0}\n",
              ".list-inline>li {display: inline-block}\n",
              ".list-inline>li:not(:last-child)::after {content: \"\\00b7\"; padding: 0 .5ex}\n",
              "</style>\n",
              "<ol class=list-inline><li>'The integer'</li><li>'1'</li><li>'is odd'</li></ol>\n"
            ],
            "text/markdown": "1. 'The integer'\n2. '1'\n3. 'is odd'\n\n\n",
            "text/latex": "\\begin{enumerate*}\n\\item 'The integer'\n\\item '1'\n\\item 'is odd'\n\\end{enumerate*}\n",
            "text/plain": [
              "[1] \"The integer\" \"1\"           \"is odd\"     "
            ]
          },
          "metadata": {}
        },
        {
          "output_type": "display_data",
          "data": {
            "text/html": [
              "<style>\n",
              ".list-inline {list-style: none; margin:0; padding: 0}\n",
              ".list-inline>li {display: inline-block}\n",
              ".list-inline>li:not(:last-child)::after {content: \"\\00b7\"; padding: 0 .5ex}\n",
              "</style>\n",
              "<ol class=list-inline><li>'The integer'</li><li>'2'</li><li>'is even '</li></ol>\n"
            ],
            "text/markdown": "1. 'The integer'\n2. '2'\n3. 'is even '\n\n\n",
            "text/latex": "\\begin{enumerate*}\n\\item 'The integer'\n\\item '2'\n\\item 'is even '\n\\end{enumerate*}\n",
            "text/plain": [
              "[1] \"The integer\" \"2\"           \"is even \"   "
            ]
          },
          "metadata": {}
        }
      ]
    },
    {
      "cell_type": "code",
      "source": [
        "# create a function in R that:\n",
        "#   1. takes 4 integer input parameters\n",
        "#   2. returns the mean value of the inputs\n",
        "#   3. has default values for the 4 input parameters, in case they are not provided when the function is called.\n",
        "\n",
        "meanCalculator <- function(var1 = 1,var2 = 2,var3 = 3,var4 = 4) {\n",
        "  mean <- (var1+var2+var3+var4)/4\n",
        "  return(mean)\n",
        "}\n",
        "#\n",
        "# then execute the function twice: once where you provide the input values, and once where you do not.\n",
        "meanCalculator(12,34,24,5)\n",
        "meanCalculator()\n",
        "\n"
      ],
      "metadata": {
        "id": "f3IFD-T6p6Rd",
        "outputId": "8d60b07d-0165-4745-c127-ee1daba991d5",
        "colab": {
          "base_uri": "https://localhost:8080/",
          "height": 52
        }
      },
      "execution_count": 2,
      "outputs": [
        {
          "output_type": "display_data",
          "data": {
            "text/html": [
              "18.75"
            ],
            "text/markdown": "18.75",
            "text/latex": "18.75",
            "text/plain": [
              "[1] 18.75"
            ]
          },
          "metadata": {}
        },
        {
          "output_type": "display_data",
          "data": {
            "text/html": [
              "2.5"
            ],
            "text/markdown": "2.5",
            "text/latex": "2.5",
            "text/plain": [
              "[1] 2.5"
            ]
          },
          "metadata": {}
        }
      ]
    },
    {
      "cell_type": "markdown",
      "source": [
        "## 2. Plot Data (4 pts)"
      ],
      "metadata": {
        "id": "F6Rx0GIGrpOB"
      }
    },
    {
      "cell_type": "markdown",
      "source": [
        "In the cell below, write the code required to plot from the `msleep` sample data set.\n",
        "\n",
        "1. Display only animals with body weights of 30 or greater.\n",
        "2. Group the animals by `order`.\n",
        "3. Display the mean `sleep_total` for each group in a bar plot."
      ],
      "metadata": {
        "id": "IDLyOjOJsFCX"
      }
    },
    {
      "cell_type": "code",
      "source": [
        "install.packages('ggplot2')\n",
        "library(ggplot2)"
      ],
      "metadata": {
        "id": "0D5Ia-BPsoPZ",
        "outputId": "323dee4b-ee28-4fcb-96f3-dc4c36617e5f",
        "colab": {
          "base_uri": "https://localhost:8080/"
        }
      },
      "execution_count": 13,
      "outputs": [
        {
          "output_type": "stream",
          "name": "stderr",
          "text": [
            "Installing package into ‘/usr/local/lib/R/site-library’\n",
            "(as ‘lib’ is unspecified)\n",
            "\n"
          ]
        }
      ]
    },
    {
      "cell_type": "code",
      "source": [
        "install.packages(\"tidyverse\")\n",
        "library(tidyverse)"
      ],
      "metadata": {
        "id": "ovHICzqF1PHC",
        "outputId": "5b777445-f22d-424e-daee-55e3dfffa979",
        "colab": {
          "base_uri": "https://localhost:8080/"
        }
      },
      "execution_count": 15,
      "outputs": [
        {
          "output_type": "stream",
          "name": "stderr",
          "text": [
            "Installing package into ‘/usr/local/lib/R/site-library’\n",
            "(as ‘lib’ is unspecified)\n",
            "\n"
          ]
        }
      ]
    },
    {
      "cell_type": "code",
      "source": [
        "data(msleep)\n",
        "\n",
        "plotting_data <- msleep %>%\n",
        "  filter(bodywt > 30) %>%\n",
        "  group_by(order) %>%\n",
        "  summarise(mean_sleep = mean(sleep_total))\n",
        "\n",
        "ggplot(plotting_data, aes(x = order, y = mean_sleep)) +\n",
        "  geom_bar(stat = \"identity\")"
      ],
      "metadata": {
        "id": "-dzJxjZ-zt9g",
        "outputId": "e624aca2-6f13-4393-b4e3-604a02490645",
        "colab": {
          "base_uri": "https://localhost:8080/",
          "height": 437
        }
      },
      "execution_count": 49,
      "outputs": [
        {
          "output_type": "display_data",
          "data": {
            "text/plain": [
              "plot without title"
            ],
            "image/png": "[encoded data removed]"
          },
          "metadata": {
            "image/png": {
              "width": 420,
              "height": 420
            }
          }
        }
      ]
    },
    {
      "cell_type": "markdown",
      "source": [
        "## 3. Clean and Analyze Data Using R (4 pts)\n",
        "\n",
        "In the cells below use R to perform the following data cleaning steps on this file:\n",
        "https://raw.githubusercontent.com/nmagee/ds1002/main/data/social-media-users.csv\n",
        "\n",
        "1. Remove any duplicate rows.\n",
        "2. Remove any records where `last_login` or `birthdate` are empty.\n",
        "3. Display only the records with the 10 highest `follower` counts.\n",
        "4. Determine counts of users when grouped by continent."
      ],
      "metadata": {
        "id": "-2ZaFcCCv3o8"
      }
    },
    {
      "cell_type": "code",
      "source": [
        "#\n",
        "df <- read.csv(\"https://raw.githubusercontent.com/nmagee/ds1002/main/data/social-media-users.csv\")"
      ],
      "metadata": {
        "id": "V4nBsdVsyauQ"
      },
      "execution_count": 50,
      "outputs": []
    },
    {
      "cell_type": "code",
      "source": [
        "#\n",
        "df <- df[!duplicated(df), ]"
      ],
      "metadata": {
        "id": "LwXD1sNulIT3"
      },
      "execution_count": 65,
      "outputs": []
    },
    {
      "cell_type": "code",
      "source": [
        "df[df == \"\"] <- NA\n",
        "df"
      ],
      "metadata": {
        "id": "E9FSPzgI_AWo",
        "outputId": "27654d50-fd2b-4fbc-a1ec-270db3d0ba3c",
        "colab": {
          "base_uri": "https://localhost:8080/",
          "height": 1000
        }
      },
      "execution_count": 91,
      "outputs": [
        {
          "output_type": "display_data",
          "data": {
            "text/html": [
              "<table class=\"dataframe\">\n",
              "<caption>A data.frame: 1000 × 8</caption>\n",
              "<thead>\n",
              "\t<tr><th></th><th scope=col>username</th><th scope=col>full_name</th><th scope=col>birthdate</th><th scope=col>email</th><th scope=col>continent</th><th scope=col>followers</th><th scope=col>last_login</th><th scope=col>interests</th></tr>\n",
              "\t<tr><th></th><th scope=col>&lt;chr&gt;</th><th scope=col>&lt;chr&gt;</th><th scope=col>&lt;chr&gt;</th><th scope=col>&lt;chr&gt;</th><th scope=col>&lt;chr&gt;</th><th scope=col>&lt;int&gt;</th><th scope=col>&lt;chr&gt;</th><th scope=col>&lt;chr&gt;</th></tr>\n",
              "</thead>\n",
              "<tbody>\n",
              "\t<tr><th scope=row>1</th><td>ckippen0     </td><td>Clevey Kippen    </td><td>5/1/1991  </td><td>ckippen0@t-online.de              </td><td>NA</td><td>12362</td><td>5/16/2023 </td><td>music </td></tr>\n",
              "\t<tr><th scope=row>2</th><td>tgergler1    </td><td>Tedi Gergler     </td><td>10/5/1998 </td><td>tgergler1@salon.com               </td><td>NA</td><td>21360</td><td>8/20/2020 </td><td>sports</td></tr>\n",
              "\t<tr><th scope=row>3</th><td>spomfrett2   </td><td>Steffie Pomfrett </td><td>NA        </td><td>spomfrett2@imdb.com               </td><td>NA</td><td>19530</td><td>11/19/2022</td><td>sports</td></tr>\n",
              "\t<tr><th scope=row>4</th><td>rphettis3    </td><td>Ruddy Phettis    </td><td>6/18/1984 </td><td>rphettis3@npr.org                 </td><td>EU</td><td>80047</td><td>9/20/2023 </td><td>travel</td></tr>\n",
              "\t<tr><th scope=row>5</th><td>ngilcriest4  </td><td>Nico Gilcriest   </td><td>10/11/1993</td><td>ngilcriest4@dyndns.org            </td><td>NA</td><td>33544</td><td>NA        </td><td>music </td></tr>\n",
              "\t<tr><th scope=row>6</th><td>fhampson5    </td><td>Farrell Hampson  </td><td>11/7/1985 </td><td>fhampson5@lulu.com                </td><td>OC</td><td>72161</td><td>NA        </td><td>sports</td></tr>\n",
              "\t<tr><th scope=row>7</th><td>ttotman6     </td><td>Tamqrah Totman   </td><td>8/7/1986  </td><td>ttotman6@elpais.com               </td><td>AF</td><td>42669</td><td>3/10/2023 </td><td>music </td></tr>\n",
              "\t<tr><th scope=row>8</th><td>bdennes7     </td><td>Bonita Dennes    </td><td>NA        </td><td>bdennes7@cnet.com                 </td><td>NA</td><td>22516</td><td>2/3/2023  </td><td>sports</td></tr>\n",
              "\t<tr><th scope=row>9</th><td>kgrigoryev8  </td><td>Krishna Grigoryev</td><td>5/25/1990 </td><td>kgrigoryev8@quantcast.com         </td><td>EU</td><td>93923</td><td>1/30/2023 </td><td>travel</td></tr>\n",
              "\t<tr><th scope=row>10</th><td>mbathoe9     </td><td>Mallissa Bathoe  </td><td>NA        </td><td>mbathoe9@bloomberg.com            </td><td>AS</td><td>18554</td><td>3/5/2022  </td><td>travel</td></tr>\n",
              "\t<tr><th scope=row>11</th><td>hallensona   </td><td>Hayward Allenson </td><td>3/15/1983 </td><td>hallensona@wp.com                 </td><td>AF</td><td>81042</td><td>NA        </td><td>travel</td></tr>\n",
              "\t<tr><th scope=row>12</th><td>mchittockb   </td><td>Myriam Chittock  </td><td>1/26/1989 </td><td>mchittockb@uiuc.edu               </td><td>AF</td><td>46304</td><td>8/29/2023 </td><td>sports</td></tr>\n",
              "\t<tr><th scope=row>13</th><td>mfranzewitchc</td><td>Max Franzewitch  </td><td>12/25/1997</td><td>mfranzewitchc@paginegialle.it     </td><td>NA</td><td> 5640</td><td>NA        </td><td>travel</td></tr>\n",
              "\t<tr><th scope=row>14</th><td>aeasbyd      </td><td>Alessandra Easby </td><td>1/5/1991  </td><td>aeasbyd@google.ca                 </td><td>AF</td><td>16786</td><td>6/15/2023 </td><td>sports</td></tr>\n",
              "\t<tr><th scope=row>15</th><td>hschubarte   </td><td>Hubert Schubart  </td><td>11/23/1984</td><td>hschubarte@friendfeed.com         </td><td>NA</td><td>74336</td><td>NA        </td><td>sports</td></tr>\n",
              "\t<tr><th scope=row>16</th><td>dleishmanf   </td><td>Dyane Leishman   </td><td>2/12/1990 </td><td>dleishmanf@lycos.com              </td><td>NA</td><td>85070</td><td>6/5/2021  </td><td>travel</td></tr>\n",
              "\t<tr><th scope=row>17</th><td>scoilsg      </td><td>Shayla Coils     </td><td>NA        </td><td>scoilsg@hhs.gov                   </td><td>NA</td><td>79667</td><td>10/14/2021</td><td>travel</td></tr>\n",
              "\t<tr><th scope=row>18</th><td>bkrzysztofh  </td><td>Bendick Krzysztof</td><td>10/19/1985</td><td>bkrzysztofh@nationalgeographic.com</td><td>NA</td><td>11748</td><td>NA        </td><td>music </td></tr>\n",
              "\t<tr><th scope=row>19</th><td>omarusiki    </td><td>Otha Marusik     </td><td>12/4/1992 </td><td>omarusiki@cdbaby.com              </td><td>AF</td><td>93981</td><td>2/4/2022  </td><td>travel</td></tr>\n",
              "\t<tr><th scope=row>20</th><td>craglesj     </td><td>Constancia Ragles</td><td>NA        </td><td>craglesj@e-recht24.de             </td><td>NA</td><td>85300</td><td>9/28/2021 </td><td>sports</td></tr>\n",
              "\t<tr><th scope=row>21</th><td>sspenclayk   </td><td>Scott Spenclay   </td><td>12/7/1989 </td><td>sspenclayk@wikispaces.com         </td><td>AF</td><td>31745</td><td>11/29/2022</td><td>sports</td></tr>\n",
              "\t<tr><th scope=row>22</th><td>gklinckl     </td><td>Georgetta Klinck </td><td>7/26/1996 </td><td>gklinckl@over-blog.com            </td><td>SA</td><td>69386</td><td>9/10/2023 </td><td>sports</td></tr>\n",
              "\t<tr><th scope=row>23</th><td>rhollowm     </td><td>Riccardo Hollow  </td><td>1/18/1980 </td><td>rhollowm@dyndns.org               </td><td>OC</td><td>73088</td><td>1/22/2020 </td><td>sports</td></tr>\n",
              "\t<tr><th scope=row>24</th><td>atrouncen    </td><td>Aube Trounce     </td><td>9/5/1984  </td><td>atrouncen@shinystat.com           </td><td>AS</td><td>51692</td><td>NA        </td><td>music </td></tr>\n",
              "\t<tr><th scope=row>25</th><td>jquareo      </td><td>Joey Quare       </td><td>11/19/1999</td><td>jquareo@furl.net                  </td><td>AF</td><td>68116</td><td>NA        </td><td>sports</td></tr>\n",
              "\t<tr><th scope=row>26</th><td>rbellonp     </td><td>Rodolph Bellon   </td><td>8/30/2002 </td><td>rbellonp@cisco.com                </td><td>AF</td><td>96337</td><td>NA        </td><td>music </td></tr>\n",
              "\t<tr><th scope=row>27</th><td>chawesq      </td><td>Courtnay Hawes   </td><td>NA        </td><td>chawesq@deviantart.com            </td><td>AF</td><td>  435</td><td>3/19/2023 </td><td>music </td></tr>\n",
              "\t<tr><th scope=row>28</th><td>acheshirr    </td><td>Ali Cheshir      </td><td>4/19/1998 </td><td>acheshirr@phoca.cz                </td><td>AS</td><td>79802</td><td>NA        </td><td>sports</td></tr>\n",
              "\t<tr><th scope=row>29</th><td>galdrins     </td><td>Gerick Aldrin    </td><td>7/31/1995 </td><td>galdrins@ca.gov                   </td><td>NA</td><td>96491</td><td>5/26/2022 </td><td>music </td></tr>\n",
              "\t<tr><th scope=row>30</th><td>ddimmockt    </td><td>Didi Dimmock     </td><td>5/15/1985 </td><td>ddimmockt@wired.com               </td><td>EU</td><td>81726</td><td>4/23/2021 </td><td>sports</td></tr>\n",
              "\t<tr><th scope=row>⋮</th><td>⋮</td><td>⋮</td><td>⋮</td><td>⋮</td><td>⋮</td><td>⋮</td><td>⋮</td><td>⋮</td></tr>\n",
              "\t<tr><th scope=row>1289</th><td>sargerqy      </td><td>Shane Arger         </td><td>2/21/1992 </td><td>sargerqy@exblog.jp             </td><td>AF</td><td>53022</td><td>12/7/2021 </td><td>music </td></tr>\n",
              "\t<tr><th scope=row>1290</th><td>jgiorgiuttiqz </td><td>Joy Giorgiutti      </td><td>5/5/1988  </td><td>jgiorgiuttiqz@timesonline.co.uk</td><td>NA</td><td>26125</td><td>6/1/2020  </td><td>travel</td></tr>\n",
              "\t<tr><th scope=row>1291</th><td>bgerwoodr0    </td><td>Beverlee Gerwood    </td><td>1/29/1980 </td><td>bgerwoodr0@fotki.com           </td><td>AS</td><td>22633</td><td>NA        </td><td>music </td></tr>\n",
              "\t<tr><th scope=row>1292</th><td>fheinker1     </td><td>Fleurette Heinke    </td><td>NA        </td><td>fheinker1@google.fr            </td><td>NA</td><td>39891</td><td>8/17/2020 </td><td>travel</td></tr>\n",
              "\t<tr><th scope=row>1293</th><td>acashellr2    </td><td>Aridatha Cashell    </td><td>NA        </td><td>acashellr2@mediafire.com       </td><td>NA</td><td>84669</td><td>7/29/2022 </td><td>music </td></tr>\n",
              "\t<tr><th scope=row>1294</th><td>dupstellr3    </td><td>Durward Upstell     </td><td>NA        </td><td>dupstellr3@buzzfeed.com        </td><td>NA</td><td>58154</td><td>6/8/2020  </td><td>sports</td></tr>\n",
              "\t<tr><th scope=row>1295</th><td>ksturdeyr4    </td><td>Krissie Sturdey     </td><td>8/13/1980 </td><td>ksturdeyr4@skyrock.com         </td><td>SA</td><td>37880</td><td>4/17/2020 </td><td>travel</td></tr>\n",
              "\t<tr><th scope=row>1296</th><td>qrogeronr5    </td><td>Quent Rogeron       </td><td>NA        </td><td>qrogeronr5@merriam-webster.com </td><td>SA</td><td>76526</td><td>8/22/2023 </td><td>travel</td></tr>\n",
              "\t<tr><th scope=row>1297</th><td>ggerrillr6    </td><td>Genevieve Gerrill   </td><td>8/16/1994 </td><td>ggerrillr6@xrea.com            </td><td>OC</td><td>78326</td><td>4/30/2022 </td><td>sports</td></tr>\n",
              "\t<tr><th scope=row>1298</th><td>ftothacotr7   </td><td>Faustine Tothacot   </td><td>12/3/1998 </td><td>ftothacotr7@usgs.gov           </td><td>NA</td><td> 9927</td><td>NA        </td><td>sports</td></tr>\n",
              "\t<tr><th scope=row>1299</th><td>dfordhamr8    </td><td>Dean Fordham        </td><td>5/6/1989  </td><td>dfordhamr8@google.com.au       </td><td>NA</td><td>94828</td><td>NA        </td><td>music </td></tr>\n",
              "\t<tr><th scope=row>1300</th><td>rleningr9     </td><td>Roch Lening         </td><td>9/1/1981  </td><td>rleningr9@taobao.com           </td><td>OC</td><td>21333</td><td>2/23/2020 </td><td>music </td></tr>\n",
              "\t<tr><th scope=row>1301</th><td>gbilbeyra     </td><td>Grannie Bilbey      </td><td>6/22/1992 </td><td>gbilbeyra@wisc.edu             </td><td>AS</td><td>77316</td><td>5/4/2022  </td><td>music </td></tr>\n",
              "\t<tr><th scope=row>1302</th><td>araddenrb     </td><td>Anneliese Radden    </td><td>NA        </td><td>araddenrb@umn.edu              </td><td>NA</td><td>16230</td><td>NA        </td><td>music </td></tr>\n",
              "\t<tr><th scope=row>1303</th><td>vskirlinrc    </td><td>Van Skirlin         </td><td>NA        </td><td>vskirlinrc@sphinn.com          </td><td>NA</td><td>14500</td><td>6/21/2021 </td><td>music </td></tr>\n",
              "\t<tr><th scope=row>1304</th><td>efursserd     </td><td>Ekaterina Fursse    </td><td>7/13/1994 </td><td>efursserd@flickr.com           </td><td>AS</td><td>83588</td><td>NA        </td><td>travel</td></tr>\n",
              "\t<tr><th scope=row>1305</th><td>acaldicottre  </td><td>Ashlee Caldicott    </td><td>2/2/1996  </td><td>acaldicottre@furl.net          </td><td>OC</td><td>67530</td><td>2/15/2022 </td><td>music </td></tr>\n",
              "\t<tr><th scope=row>1306</th><td>fdorgonrf     </td><td>Fritz Dorgon        </td><td>NA        </td><td>fdorgonrf@homestead.com        </td><td>AS</td><td>33272</td><td>NA        </td><td>music </td></tr>\n",
              "\t<tr><th scope=row>1307</th><td>kklicherg     </td><td>Kristine Kliche     </td><td>10/20/1983</td><td>kklicherg@indiatimes.com       </td><td>EU</td><td> 8487</td><td>NA        </td><td>music </td></tr>\n",
              "\t<tr><th scope=row>1308</th><td>jbirchallrh   </td><td>Jinny Birchall      </td><td>11/3/1987 </td><td>jbirchallrh@senate.gov         </td><td>AF</td><td>76102</td><td>3/4/2022  </td><td>music </td></tr>\n",
              "\t<tr><th scope=row>1309</th><td>lnorwellri    </td><td>Lelia Norwell       </td><td>NA        </td><td>lnorwellri@slate.com           </td><td>SA</td><td>51920</td><td>1/11/2023 </td><td>travel</td></tr>\n",
              "\t<tr><th scope=row>1310</th><td>fwegenenrj    </td><td>Filippa Wegenen     </td><td>10/25/1994</td><td>fwegenenrj@nbcnews.com         </td><td>NA</td><td>68133</td><td>9/20/2023 </td><td>travel</td></tr>\n",
              "\t<tr><th scope=row>1311</th><td>bpierrork     </td><td>Bobbie Pierro       </td><td>5/27/1991 </td><td>bpierrork@rambler.ru           </td><td>NA</td><td>81408</td><td>6/6/2023  </td><td>sports</td></tr>\n",
              "\t<tr><th scope=row>1312</th><td>hransomrl     </td><td>Helenka Ransom      </td><td>NA        </td><td>hransomrl@qq.com               </td><td>EU</td><td>69467</td><td>7/29/2023 </td><td>music </td></tr>\n",
              "\t<tr><th scope=row>1313</th><td>vmacterrellyrm</td><td>Virginie MacTerrelly</td><td>10/8/1994 </td><td>vmacterrellyrm@dailymotion.com </td><td>AS</td><td>   81</td><td>9/11/2023 </td><td>sports</td></tr>\n",
              "\t<tr><th scope=row>1314</th><td>sschafflerrn  </td><td>Sallyann Schaffler  </td><td>12/7/1999 </td><td>sschafflerrn@wsj.com           </td><td>OC</td><td>89752</td><td>9/20/2020 </td><td>sports</td></tr>\n",
              "\t<tr><th scope=row>1315</th><td>nilyinskiro   </td><td>Nanette Ilyinski    </td><td>5/13/1989 </td><td>nilyinskiro@123-reg.co.uk      </td><td>NA</td><td>47332</td><td>11/16/2020</td><td>sports</td></tr>\n",
              "\t<tr><th scope=row>1316</th><td>sgeertzrp     </td><td>Stephen Geertz      </td><td>9/6/1994  </td><td>sgeertzrp@hp.com               </td><td>NA</td><td>36511</td><td>11/19/2022</td><td>music </td></tr>\n",
              "\t<tr><th scope=row>1317</th><td>cchurchmanrq  </td><td>Chrisse Churchman   </td><td>4/23/1998 </td><td>cchurchmanrq@qq.com            </td><td>NA</td><td>84037</td><td>2/12/2022 </td><td>music </td></tr>\n",
              "\t<tr><th scope=row>1318</th><td>crembrantrr   </td><td>Clementine Rembrant </td><td>3/15/2001 </td><td>crembrantrr@who.int            </td><td>NA</td><td>11336</td><td>3/2/2020  </td><td>music </td></tr>\n",
              "</tbody>\n",
              "</table>\n"
            ],
            "text/markdown": "\nA data.frame: 1000 × 8\n\n| <!--/--> | username &lt;chr&gt; | full_name &lt;chr&gt; | birthdate &lt;chr&gt; | email &lt;chr&gt; | continent &lt;chr&gt; | followers &lt;int&gt; | last_login &lt;chr&gt; | interests &lt;chr&gt; |\n|---|---|---|---|---|---|---|---|---|\n| 1 | ckippen0      | Clevey Kippen     | 5/1/1991   | ckippen0@t-online.de               | NA | 12362 | 5/16/2023  | music  |\n| 2 | tgergler1     | Tedi Gergler      | 10/5/1998  | tgergler1@salon.com                | NA | 21360 | 8/20/2020  | sports |\n| 3 | spomfrett2    | Steffie Pomfrett  | NA         | spomfrett2@imdb.com                | NA | 19530 | 11/19/2022 | sports |\n| 4 | rphettis3     | Ruddy Phettis     | 6/18/1984  | rphettis3@npr.org                  | EU | 80047 | 9/20/2023  | travel |\n| 5 | ngilcriest4   | Nico Gilcriest    | 10/11/1993 | ngilcriest4@dyndns.org             | NA | 33544 | NA         | music  |\n| 6 | fhampson5     | Farrell Hampson   | 11/7/1985  | fhampson5@lulu.com                 | OC | 72161 | NA         | sports |\n| 7 | ttotman6      | Tamqrah Totman    | 8/7/1986   | ttotman6@elpais.com                | AF | 42669 | 3/10/2023  | music  |\n| 8 | bdennes7      | Bonita Dennes     | NA         | bdennes7@cnet.com                  | NA | 22516 | 2/3/2023   | sports |\n| 9 | kgrigoryev8   | Krishna Grigoryev | 5/25/1990  | kgrigoryev8@quantcast.com          | EU | 93923 | 1/30/2023  | travel |\n| 10 | mbathoe9      | Mallissa Bathoe   | NA         | mbathoe9@bloomberg.com             | AS | 18554 | 3/5/2022   | travel |\n| 11 | hallensona    | Hayward Allenson  | 3/15/1983  | hallensona@wp.com                  | AF | 81042 | NA         | travel |\n| 12 | mchittockb    | Myriam Chittock   | 1/26/1989  | mchittockb@uiuc.edu                | AF | 46304 | 8/29/2023  | sports |\n| 13 | mfranzewitchc | Max Franzewitch   | 12/25/1997 | mfranzewitchc@paginegialle.it      | NA |  5640 | NA         | travel |\n| 14 | aeasbyd       | Alessandra Easby  | 1/5/1991   | aeasbyd@google.ca                  | AF | 16786 | 6/15/2023  | sports |\n| 15 | hschubarte    | Hubert Schubart   | 11/23/1984 | hschubarte@friendfeed.com          | NA | 74336 | NA         | sports |\n| 16 | dleishmanf    | Dyane Leishman    | 2/12/1990  | dleishmanf@lycos.com               | NA | 85070 | 6/5/2021   | travel |\n| 17 | scoilsg       | Shayla Coils      | NA         | scoilsg@hhs.gov                    | NA | 79667 | 10/14/2021 | travel |\n| 18 | bkrzysztofh   | Bendick Krzysztof | 10/19/1985 | bkrzysztofh@nationalgeographic.com | NA | 11748 | NA         | music  |\n| 19 | omarusiki     | Otha Marusik      | 12/4/1992  | omarusiki@cdbaby.com               | AF | 93981 | 2/4/2022   | travel |\n| 20 | craglesj      | Constancia Ragles | NA         | craglesj@e-recht24.de              | NA | 85300 | 9/28/2021  | sports |\n| 21 | sspenclayk    | Scott Spenclay    | 12/7/1989  | sspenclayk@wikispaces.com          | AF | 31745 | 11/29/2022 | sports |\n| 22 | gklinckl      | Georgetta Klinck  | 7/26/1996  | gklinckl@over-blog.com             | SA | 69386 | 9/10/2023  | sports |\n| 23 | rhollowm      | Riccardo Hollow   | 1/18/1980  | rhollowm@dyndns.org                | OC | 73088 | 1/22/2020  | sports |\n| 24 | atrouncen     | Aube Trounce      | 9/5/1984   | atrouncen@shinystat.com            | AS | 51692 | NA         | music  |\n| 25 | jquareo       | Joey Quare        | 11/19/1999 | jquareo@furl.net                   | AF | 68116 | NA         | sports |\n| 26 | rbellonp      | Rodolph Bellon    | 8/30/2002  | rbellonp@cisco.com                 | AF | 96337 | NA         | music  |\n| 27 | chawesq       | Courtnay Hawes    | NA         | chawesq@deviantart.com             | AF |   435 | 3/19/2023  | music  |\n| 28 | acheshirr     | Ali Cheshir       | 4/19/1998  | acheshirr@phoca.cz                 | AS | 79802 | NA         | sports |\n| 29 | galdrins      | Gerick Aldrin     | 7/31/1995  | galdrins@ca.gov                    | NA | 96491 | 5/26/2022  | music  |\n| 30 | ddimmockt     | Didi Dimmock      | 5/15/1985  | ddimmockt@wired.com                | EU | 81726 | 4/23/2021  | sports |\n| ⋮ | ⋮ | ⋮ | ⋮ | ⋮ | ⋮ | ⋮ | ⋮ | ⋮ |\n| 1289 | sargerqy       | Shane Arger          | 2/21/1992  | sargerqy@exblog.jp              | AF | 53022 | 12/7/2021  | music  |\n| 1290 | jgiorgiuttiqz  | Joy Giorgiutti       | 5/5/1988   | jgiorgiuttiqz@timesonline.co.uk | NA | 26125 | 6/1/2020   | travel |\n| 1291 | bgerwoodr0     | Beverlee Gerwood     | 1/29/1980  | bgerwoodr0@fotki.com            | AS | 22633 | NA         | music  |\n| 1292 | fheinker1      | Fleurette Heinke     | NA         | fheinker1@google.fr             | NA | 39891 | 8/17/2020  | travel |\n| 1293 | acashellr2     | Aridatha Cashell     | NA         | acashellr2@mediafire.com        | NA | 84669 | 7/29/2022  | music  |\n| 1294 | dupstellr3     | Durward Upstell      | NA         | dupstellr3@buzzfeed.com         | NA | 58154 | 6/8/2020   | sports |\n| 1295 | ksturdeyr4     | Krissie Sturdey      | 8/13/1980  | ksturdeyr4@skyrock.com          | SA | 37880 | 4/17/2020  | travel |\n| 1296 | qrogeronr5     | Quent Rogeron        | NA         | qrogeronr5@merriam-webster.com  | SA | 76526 | 8/22/2023  | travel |\n| 1297 | ggerrillr6     | Genevieve Gerrill    | 8/16/1994  | ggerrillr6@xrea.com             | OC | 78326 | 4/30/2022  | sports |\n| 1298 | ftothacotr7    | Faustine Tothacot    | 12/3/1998  | ftothacotr7@usgs.gov            | NA |  9927 | NA         | sports |\n| 1299 | dfordhamr8     | Dean Fordham         | 5/6/1989   | dfordhamr8@google.com.au        | NA | 94828 | NA         | music  |\n| 1300 | rleningr9      | Roch Lening          | 9/1/1981   | rleningr9@taobao.com            | OC | 21333 | 2/23/2020  | music  |\n| 1301 | gbilbeyra      | Grannie Bilbey       | 6/22/1992  | gbilbeyra@wisc.edu              | AS | 77316 | 5/4/2022   | music  |\n| 1302 | araddenrb      | Anneliese Radden     | NA         | araddenrb@umn.edu               | NA | 16230 | NA         | music  |\n| 1303 | vskirlinrc     | Van Skirlin          | NA         | vskirlinrc@sphinn.com           | NA | 14500 | 6/21/2021  | music  |\n| 1304 | efursserd      | Ekaterina Fursse     | 7/13/1994  | efursserd@flickr.com            | AS | 83588 | NA         | travel |\n| 1305 | acaldicottre   | Ashlee Caldicott     | 2/2/1996   | acaldicottre@furl.net           | OC | 67530 | 2/15/2022  | music  |\n| 1306 | fdorgonrf      | Fritz Dorgon         | NA         | fdorgonrf@homestead.com         | AS | 33272 | NA         | music  |\n| 1307 | kklicherg      | Kristine Kliche      | 10/20/1983 | kklicherg@indiatimes.com        | EU |  8487 | NA         | music  |\n| 1308 | jbirchallrh    | Jinny Birchall       | 11/3/1987  | jbirchallrh@senate.gov          | AF | 76102 | 3/4/2022   | music  |\n| 1309 | lnorwellri     | Lelia Norwell        | NA         | lnorwellri@slate.com            | SA | 51920 | 1/11/2023  | travel |\n| 1310 | fwegenenrj     | Filippa Wegenen      | 10/25/1994 | fwegenenrj@nbcnews.com          | NA | 68133 | 9/20/2023  | travel |\n| 1311 | bpierrork      | Bobbie Pierro        | 5/27/1991  | bpierrork@rambler.ru            | NA | 81408 | 6/6/2023   | sports |\n| 1312 | hransomrl      | Helenka Ransom       | NA         | hransomrl@qq.com                | EU | 69467 | 7/29/2023  | music  |\n| 1313 | vmacterrellyrm | Virginie MacTerrelly | 10/8/1994  | vmacterrellyrm@dailymotion.com  | AS |    81 | 9/11/2023  | sports |\n| 1314 | sschafflerrn   | Sallyann Schaffler   | 12/7/1999  | sschafflerrn@wsj.com            | OC | 89752 | 9/20/2020  | sports |\n| 1315 | nilyinskiro    | Nanette Ilyinski     | 5/13/1989  | nilyinskiro@123-reg.co.uk       | NA | 47332 | 11/16/2020 | sports |\n| 1316 | sgeertzrp      | Stephen Geertz       | 9/6/1994   | sgeertzrp@hp.com                | NA | 36511 | 11/19/2022 | music  |\n| 1317 | cchurchmanrq   | Chrisse Churchman    | 4/23/1998  | cchurchmanrq@qq.com             | NA | 84037 | 2/12/2022  | music  |\n| 1318 | crembrantrr    | Clementine Rembrant  | 3/15/2001  | crembrantrr@who.int             | NA | 11336 | 3/2/2020   | music  |\n\n",
            "text/latex": "A data.frame: 1000 × 8\n\\begin{tabular}{r|llllllll}\n  & username & full\\_name & birthdate & email & continent & followers & last\\_login & interests\\\\\n  & <chr> & <chr> & <chr> & <chr> & <chr> & <int> & <chr> & <chr>\\\\\n\\hline\n\t1 & ckippen0      & Clevey Kippen     & 5/1/1991   & ckippen0@t-online.de               & NA & 12362 & 5/16/2023  & music \\\\\n\t2 & tgergler1     & Tedi Gergler      & 10/5/1998  & tgergler1@salon.com                & NA & 21360 & 8/20/2020  & sports\\\\\n\t3 & spomfrett2    & Steffie Pomfrett  & NA         & spomfrett2@imdb.com                & NA & 19530 & 11/19/2022 & sports\\\\\n\t4 & rphettis3     & Ruddy Phettis     & 6/18/1984  & rphettis3@npr.org                  & EU & 80047 & 9/20/2023  & travel\\\\\n\t5 & ngilcriest4   & Nico Gilcriest    & 10/11/1993 & ngilcriest4@dyndns.org             & NA & 33544 & NA         & music \\\\\n\t6 & fhampson5     & Farrell Hampson   & 11/7/1985  & fhampson5@lulu.com                 & OC & 72161 & NA         & sports\\\\\n\t7 & ttotman6      & Tamqrah Totman    & 8/7/1986   & ttotman6@elpais.com                & AF & 42669 & 3/10/2023  & music \\\\\n\t8 & bdennes7      & Bonita Dennes     & NA         & bdennes7@cnet.com                  & NA & 22516 & 2/3/2023   & sports\\\\\n\t9 & kgrigoryev8   & Krishna Grigoryev & 5/25/1990  & kgrigoryev8@quantcast.com          & EU & 93923 & 1/30/2023  & travel\\\\\n\t10 & mbathoe9      & Mallissa Bathoe   & NA         & mbathoe9@bloomberg.com             & AS & 18554 & 3/5/2022   & travel\\\\\n\t11 & hallensona    & Hayward Allenson  & 3/15/1983  & hallensona@wp.com                  & AF & 81042 & NA         & travel\\\\\n\t12 & mchittockb    & Myriam Chittock   & 1/26/1989  & mchittockb@uiuc.edu                & AF & 46304 & 8/29/2023  & sports\\\\\n\t13 & mfranzewitchc & Max Franzewitch   & 12/25/1997 & mfranzewitchc@paginegialle.it      & NA &  5640 & NA         & travel\\\\\n\t14 & aeasbyd       & Alessandra Easby  & 1/5/1991   & aeasbyd@google.ca                  & AF & 16786 & 6/15/2023  & sports\\\\\n\t15 & hschubarte    & Hubert Schubart   & 11/23/1984 & hschubarte@friendfeed.com          & NA & 74336 & NA         & sports\\\\\n\t16 & dleishmanf    & Dyane Leishman    & 2/12/1990  & dleishmanf@lycos.com               & NA & 85070 & 6/5/2021   & travel\\\\\n\t17 & scoilsg       & Shayla Coils      & NA         & scoilsg@hhs.gov                    & NA & 79667 & 10/14/2021 & travel\\\\\n\t18 & bkrzysztofh   & Bendick Krzysztof & 10/19/1985 & bkrzysztofh@nationalgeographic.com & NA & 11748 & NA         & music \\\\\n\t19 & omarusiki     & Otha Marusik      & 12/4/1992  & omarusiki@cdbaby.com               & AF & 93981 & 2/4/2022   & travel\\\\\n\t20 & craglesj      & Constancia Ragles & NA         & craglesj@e-recht24.de              & NA & 85300 & 9/28/2021  & sports\\\\\n\t21 & sspenclayk    & Scott Spenclay    & 12/7/1989  & sspenclayk@wikispaces.com          & AF & 31745 & 11/29/2022 & sports\\\\\n\t22 & gklinckl      & Georgetta Klinck  & 7/26/1996  & gklinckl@over-blog.com             & SA & 69386 & 9/10/2023  & sports\\\\\n\t23 & rhollowm      & Riccardo Hollow   & 1/18/1980  & rhollowm@dyndns.org                & OC & 73088 & 1/22/2020  & sports\\\\\n\t24 & atrouncen     & Aube Trounce      & 9/5/1984   & atrouncen@shinystat.com            & AS & 51692 & NA         & music \\\\\n\t25 & jquareo       & Joey Quare        & 11/19/1999 & jquareo@furl.net                   & AF & 68116 & NA         & sports\\\\\n\t26 & rbellonp      & Rodolph Bellon    & 8/30/2002  & rbellonp@cisco.com                 & AF & 96337 & NA         & music \\\\\n\t27 & chawesq       & Courtnay Hawes    & NA         & chawesq@deviantart.com             & AF &   435 & 3/19/2023  & music \\\\\n\t28 & acheshirr     & Ali Cheshir       & 4/19/1998  & acheshirr@phoca.cz                 & AS & 79802 & NA         & sports\\\\\n\t29 & galdrins      & Gerick Aldrin     & 7/31/1995  & galdrins@ca.gov                    & NA & 96491 & 5/26/2022  & music \\\\\n\t30 & ddimmockt     & Didi Dimmock      & 5/15/1985  & ddimmockt@wired.com                & EU & 81726 & 4/23/2021  & sports\\\\\n\t⋮ & ⋮ & ⋮ & ⋮ & ⋮ & ⋮ & ⋮ & ⋮ & ⋮\\\\\n\t1289 & sargerqy       & Shane Arger          & 2/21/1992  & sargerqy@exblog.jp              & AF & 53022 & 12/7/2021  & music \\\\\n\t1290 & jgiorgiuttiqz  & Joy Giorgiutti       & 5/5/1988   & jgiorgiuttiqz@timesonline.co.uk & NA & 26125 & 6/1/2020   & travel\\\\\n\t1291 & bgerwoodr0     & Beverlee Gerwood     & 1/29/1980  & bgerwoodr0@fotki.com            & AS & 22633 & NA         & music \\\\\n\t1292 & fheinker1      & Fleurette Heinke     & NA         & fheinker1@google.fr             & NA & 39891 & 8/17/2020  & travel\\\\\n\t1293 & acashellr2     & Aridatha Cashell     & NA         & acashellr2@mediafire.com        & NA & 84669 & 7/29/2022  & music \\\\\n\t1294 & dupstellr3     & Durward Upstell      & NA         & dupstellr3@buzzfeed.com         & NA & 58154 & 6/8/2020   & sports\\\\\n\t1295 & ksturdeyr4     & Krissie Sturdey      & 8/13/1980  & ksturdeyr4@skyrock.com          & SA & 37880 & 4/17/2020  & travel\\\\\n\t1296 & qrogeronr5     & Quent Rogeron        & NA         & qrogeronr5@merriam-webster.com  & SA & 76526 & 8/22/2023  & travel\\\\\n\t1297 & ggerrillr6     & Genevieve Gerrill    & 8/16/1994  & ggerrillr6@xrea.com             & OC & 78326 & 4/30/2022  & sports\\\\\n\t1298 & ftothacotr7    & Faustine Tothacot    & 12/3/1998  & ftothacotr7@usgs.gov            & NA &  9927 & NA         & sports\\\\\n\t1299 & dfordhamr8     & Dean Fordham         & 5/6/1989   & dfordhamr8@google.com.au        & NA & 94828 & NA         & music \\\\\n\t1300 & rleningr9      & Roch Lening          & 9/1/1981   & rleningr9@taobao.com            & OC & 21333 & 2/23/2020  & music \\\\\n\t1301 & gbilbeyra      & Grannie Bilbey       & 6/22/1992  & gbilbeyra@wisc.edu              & AS & 77316 & 5/4/2022   & music \\\\\n\t1302 & araddenrb      & Anneliese Radden     & NA         & araddenrb@umn.edu               & NA & 16230 & NA         & music \\\\\n\t1303 & vskirlinrc     & Van Skirlin          & NA         & vskirlinrc@sphinn.com           & NA & 14500 & 6/21/2021  & music \\\\\n\t1304 & efursserd      & Ekaterina Fursse     & 7/13/1994  & efursserd@flickr.com            & AS & 83588 & NA         & travel\\\\\n\t1305 & acaldicottre   & Ashlee Caldicott     & 2/2/1996   & acaldicottre@furl.net           & OC & 67530 & 2/15/2022  & music \\\\\n\t1306 & fdorgonrf      & Fritz Dorgon         & NA         & fdorgonrf@homestead.com         & AS & 33272 & NA         & music \\\\\n\t1307 & kklicherg      & Kristine Kliche      & 10/20/1983 & kklicherg@indiatimes.com        & EU &  8487 & NA         & music \\\\\n\t1308 & jbirchallrh    & Jinny Birchall       & 11/3/1987  & jbirchallrh@senate.gov          & AF & 76102 & 3/4/2022   & music \\\\\n\t1309 & lnorwellri     & Lelia Norwell        & NA         & lnorwellri@slate.com            & SA & 51920 & 1/11/2023  & travel\\\\\n\t1310 & fwegenenrj     & Filippa Wegenen      & 10/25/1994 & fwegenenrj@nbcnews.com          & NA & 68133 & 9/20/2023  & travel\\\\\n\t1311 & bpierrork      & Bobbie Pierro        & 5/27/1991  & bpierrork@rambler.ru            & NA & 81408 & 6/6/2023   & sports\\\\\n\t1312 & hransomrl      & Helenka Ransom       & NA         & hransomrl@qq.com                & EU & 69467 & 7/29/2023  & music \\\\\n\t1313 & vmacterrellyrm & Virginie MacTerrelly & 10/8/1994  & vmacterrellyrm@dailymotion.com  & AS &    81 & 9/11/2023  & sports\\\\\n\t1314 & sschafflerrn   & Sallyann Schaffler   & 12/7/1999  & sschafflerrn@wsj.com            & OC & 89752 & 9/20/2020  & sports\\\\\n\t1315 & nilyinskiro    & Nanette Ilyinski     & 5/13/1989  & nilyinskiro@123-reg.co.uk       & NA & 47332 & 11/16/2020 & sports\\\\\n\t1316 & sgeertzrp      & Stephen Geertz       & 9/6/1994   & sgeertzrp@hp.com                & NA & 36511 & 11/19/2022 & music \\\\\n\t1317 & cchurchmanrq   & Chrisse Churchman    & 4/23/1998  & cchurchmanrq@qq.com             & NA & 84037 & 2/12/2022  & music \\\\\n\t1318 & crembrantrr    & Clementine Rembrant  & 3/15/2001  & crembrantrr@who.int             & NA & 11336 & 3/2/2020   & music \\\\\n\\end{tabular}\n",
            "text/plain": [
              "     username       full_name            birthdate \n",
              "1    ckippen0       Clevey Kippen        5/1/1991  \n",
              "2    tgergler1      Tedi Gergler         10/5/1998 \n",
              "3    spomfrett2     Steffie Pomfrett     NA        \n",
              "4    rphettis3      Ruddy Phettis        6/18/1984 \n",
              "5    ngilcriest4    Nico Gilcriest       10/11/1993\n",
              "6    fhampson5      Farrell Hampson      11/7/1985 \n",
              "7    ttotman6       Tamqrah Totman       8/7/1986  \n",
              "8    bdennes7       Bonita Dennes        NA        \n",
              "9    kgrigoryev8    Krishna Grigoryev    5/25/1990 \n",
              "10   mbathoe9       Mallissa Bathoe      NA        \n",
              "11   hallensona     Hayward Allenson     3/15/1983 \n",
              "12   mchittockb     Myriam Chittock      1/26/1989 \n",
              "13   mfranzewitchc  Max Franzewitch      12/25/1997\n",
              "14   aeasbyd        Alessandra Easby     1/5/1991  \n",
              "15   hschubarte     Hubert Schubart      11/23/1984\n",
              "16   dleishmanf     Dyane Leishman       2/12/1990 \n",
              "17   scoilsg        Shayla Coils         NA        \n",
              "18   bkrzysztofh    Bendick Krzysztof    10/19/1985\n",
              "19   omarusiki      Otha Marusik         12/4/1992 \n",
              "20   craglesj       Constancia Ragles    NA        \n",
              "21   sspenclayk     Scott Spenclay       12/7/1989 \n",
              "22   gklinckl       Georgetta Klinck     7/26/1996 \n",
              "23   rhollowm       Riccardo Hollow      1/18/1980 \n",
              "24   atrouncen      Aube Trounce         9/5/1984  \n",
              "25   jquareo        Joey Quare           11/19/1999\n",
              "26   rbellonp       Rodolph Bellon       8/30/2002 \n",
              "27   chawesq        Courtnay Hawes       NA        \n",
              "28   acheshirr      Ali Cheshir          4/19/1998 \n",
              "29   galdrins       Gerick Aldrin        7/31/1995 \n",
              "30   ddimmockt      Didi Dimmock         5/15/1985 \n",
              "⋮    ⋮              ⋮                    ⋮         \n",
              "1289 sargerqy       Shane Arger          2/21/1992 \n",
              "1290 jgiorgiuttiqz  Joy Giorgiutti       5/5/1988  \n",
              "1291 bgerwoodr0     Beverlee Gerwood     1/29/1980 \n",
              "1292 fheinker1      Fleurette Heinke     NA        \n",
              "1293 acashellr2     Aridatha Cashell     NA        \n",
              "1294 dupstellr3     Durward Upstell      NA        \n",
              "1295 ksturdeyr4     Krissie Sturdey      8/13/1980 \n",
              "1296 qrogeronr5     Quent Rogeron        NA        \n",
              "1297 ggerrillr6     Genevieve Gerrill    8/16/1994 \n",
              "1298 ftothacotr7    Faustine Tothacot    12/3/1998 \n",
              "1299 dfordhamr8     Dean Fordham         5/6/1989  \n",
              "1300 rleningr9      Roch Lening          9/1/1981  \n",
              "1301 gbilbeyra      Grannie Bilbey       6/22/1992 \n",
              "1302 araddenrb      Anneliese Radden     NA        \n",
              "1303 vskirlinrc     Van Skirlin          NA        \n",
              "1304 efursserd      Ekaterina Fursse     7/13/1994 \n",
              "1305 acaldicottre   Ashlee Caldicott     2/2/1996  \n",
              "1306 fdorgonrf      Fritz Dorgon         NA        \n",
              "1307 kklicherg      Kristine Kliche      10/20/1983\n",
              "1308 jbirchallrh    Jinny Birchall       11/3/1987 \n",
              "1309 lnorwellri     Lelia Norwell        NA        \n",
              "1310 fwegenenrj     Filippa Wegenen      10/25/1994\n",
              "1311 bpierrork      Bobbie Pierro        5/27/1991 \n",
              "1312 hransomrl      Helenka Ransom       NA        \n",
              "1313 vmacterrellyrm Virginie MacTerrelly 10/8/1994 \n",
              "1314 sschafflerrn   Sallyann Schaffler   12/7/1999 \n",
              "1315 nilyinskiro    Nanette Ilyinski     5/13/1989 \n",
              "1316 sgeertzrp      Stephen Geertz       9/6/1994  \n",
              "1317 cchurchmanrq   Chrisse Churchman    4/23/1998 \n",
              "1318 crembrantrr    Clementine Rembrant  3/15/2001 \n",
              "     email                              continent followers last_login\n",
              "1    ckippen0@t-online.de               NA        12362     5/16/2023 \n",
              "2    tgergler1@salon.com                NA        21360     8/20/2020 \n",
              "3    spomfrett2@imdb.com                NA        19530     11/19/2022\n",
              "4    rphettis3@npr.org                  EU        80047     9/20/2023 \n",
              "5    ngilcriest4@dyndns.org             NA        33544     NA        \n",
              "6    fhampson5@lulu.com                 OC        72161     NA        \n",
              "7    ttotman6@elpais.com                AF        42669     3/10/2023 \n",
              "8    bdennes7@cnet.com                  NA        22516     2/3/2023  \n",
              "9    kgrigoryev8@quantcast.com          EU        93923     1/30/2023 \n",
              "10   mbathoe9@bloomberg.com             AS        18554     3/5/2022  \n",
              "11   hallensona@wp.com                  AF        81042     NA        \n",
              "12   mchittockb@uiuc.edu                AF        46304     8/29/2023 \n",
              "13   mfranzewitchc@paginegialle.it      NA         5640     NA        \n",
              "14   aeasbyd@google.ca                  AF        16786     6/15/2023 \n",
              "15   hschubarte@friendfeed.com          NA        74336     NA        \n",
              "16   dleishmanf@lycos.com               NA        85070     6/5/2021  \n",
              "17   scoilsg@hhs.gov                    NA        79667     10/14/2021\n",
              "18   bkrzysztofh@nationalgeographic.com NA        11748     NA        \n",
              "19   omarusiki@cdbaby.com               AF        93981     2/4/2022  \n",
              "20   craglesj@e-recht24.de              NA        85300     9/28/2021 \n",
              "21   sspenclayk@wikispaces.com          AF        31745     11/29/2022\n",
              "22   gklinckl@over-blog.com             SA        69386     9/10/2023 \n",
              "23   rhollowm@dyndns.org                OC        73088     1/22/2020 \n",
              "24   atrouncen@shinystat.com            AS        51692     NA        \n",
              "25   jquareo@furl.net                   AF        68116     NA        \n",
              "26   rbellonp@cisco.com                 AF        96337     NA        \n",
              "27   chawesq@deviantart.com             AF          435     3/19/2023 \n",
              "28   acheshirr@phoca.cz                 AS        79802     NA        \n",
              "29   galdrins@ca.gov                    NA        96491     5/26/2022 \n",
              "30   ddimmockt@wired.com                EU        81726     4/23/2021 \n",
              "⋮    ⋮                                  ⋮         ⋮         ⋮         \n",
              "1289 sargerqy@exblog.jp                 AF        53022     12/7/2021 \n",
              "1290 jgiorgiuttiqz@timesonline.co.uk    NA        26125     6/1/2020  \n",
              "1291 bgerwoodr0@fotki.com               AS        22633     NA        \n",
              "1292 fheinker1@google.fr                NA        39891     8/17/2020 \n",
              "1293 acashellr2@mediafire.com           NA        84669     7/29/2022 \n",
              "1294 dupstellr3@buzzfeed.com            NA        58154     6/8/2020  \n",
              "1295 ksturdeyr4@skyrock.com             SA        37880     4/17/2020 \n",
              "1296 qrogeronr5@merriam-webster.com     SA        76526     8/22/2023 \n",
              "1297 ggerrillr6@xrea.com                OC        78326     4/30/2022 \n",
              "1298 ftothacotr7@usgs.gov               NA         9927     NA        \n",
              "1299 dfordhamr8@google.com.au           NA        94828     NA        \n",
              "1300 rleningr9@taobao.com               OC        21333     2/23/2020 \n",
              "1301 gbilbeyra@wisc.edu                 AS        77316     5/4/2022  \n",
              "1302 araddenrb@umn.edu                  NA        16230     NA        \n",
              "1303 vskirlinrc@sphinn.com              NA        14500     6/21/2021 \n",
              "1304 efursserd@flickr.com               AS        83588     NA        \n",
              "1305 acaldicottre@furl.net              OC        67530     2/15/2022 \n",
              "1306 fdorgonrf@homestead.com            AS        33272     NA        \n",
              "1307 kklicherg@indiatimes.com           EU         8487     NA        \n",
              "1308 jbirchallrh@senate.gov             AF        76102     3/4/2022  \n",
              "1309 lnorwellri@slate.com               SA        51920     1/11/2023 \n",
              "1310 fwegenenrj@nbcnews.com             NA        68133     9/20/2023 \n",
              "1311 bpierrork@rambler.ru               NA        81408     6/6/2023  \n",
              "1312 hransomrl@qq.com                   EU        69467     7/29/2023 \n",
              "1313 vmacterrellyrm@dailymotion.com     AS           81     9/11/2023 \n",
              "1314 sschafflerrn@wsj.com               OC        89752     9/20/2020 \n",
              "1315 nilyinskiro@123-reg.co.uk          NA        47332     11/16/2020\n",
              "1316 sgeertzrp@hp.com                   NA        36511     11/19/2022\n",
              "1317 cchurchmanrq@qq.com                NA        84037     2/12/2022 \n",
              "1318 crembrantrr@who.int                NA        11336     3/2/2020  \n",
              "     interests\n",
              "1    music    \n",
              "2    sports   \n",
              "3    sports   \n",
              "4    travel   \n",
              "5    music    \n",
              "6    sports   \n",
              "7    music    \n",
              "8    sports   \n",
              "9    travel   \n",
              "10   travel   \n",
              "11   travel   \n",
              "12   sports   \n",
              "13   travel   \n",
              "14   sports   \n",
              "15   sports   \n",
              "16   travel   \n",
              "17   travel   \n",
              "18   music    \n",
              "19   travel   \n",
              "20   sports   \n",
              "21   sports   \n",
              "22   sports   \n",
              "23   sports   \n",
              "24   music    \n",
              "25   sports   \n",
              "26   music    \n",
              "27   music    \n",
              "28   sports   \n",
              "29   music    \n",
              "30   sports   \n",
              "⋮    ⋮        \n",
              "1289 music    \n",
              "1290 travel   \n",
              "1291 music    \n",
              "1292 travel   \n",
              "1293 music    \n",
              "1294 sports   \n",
              "1295 travel   \n",
              "1296 travel   \n",
              "1297 sports   \n",
              "1298 sports   \n",
              "1299 music    \n",
              "1300 music    \n",
              "1301 music    \n",
              "1302 music    \n",
              "1303 music    \n",
              "1304 travel   \n",
              "1305 music    \n",
              "1306 music    \n",
              "1307 music    \n",
              "1308 music    \n",
              "1309 travel   \n",
              "1310 travel   \n",
              "1311 sports   \n",
              "1312 music    \n",
              "1313 sports   \n",
              "1314 sports   \n",
              "1315 sports   \n",
              "1316 music    \n",
              "1317 music    \n",
              "1318 music    "
            ]
          },
          "metadata": {}
        }
      ]
    },
    {
      "cell_type": "code",
      "source": [
        "install.packages(\"tidyverse\")\n",
        "library(tidyverse)"
      ],
      "metadata": {
        "id": "EumnCsA0AKoN",
        "outputId": "cd5afaa5-8b22-4533-deee-e34cc2884c02",
        "colab": {
          "base_uri": "https://localhost:8080/"
        }
      },
      "execution_count": 68,
      "outputs": [
        {
          "output_type": "stream",
          "name": "stderr",
          "text": [
            "Installing package into ‘/usr/local/lib/R/site-library’\n",
            "(as ‘lib’ is unspecified)\n",
            "\n"
          ]
        }
      ]
    },
    {
      "cell_type": "code",
      "source": [
        "df_by_followers <- df[order(df$followers),]\n",
        "tail(df_by_followers, 10,)"
      ],
      "metadata": {
        "id": "gPyIpgpg_udJ",
        "outputId": "7ff11021-cc02-4032-f70e-5fabde3f25c8",
        "colab": {
          "base_uri": "https://localhost:8080/",
          "height": 412
        }
      },
      "execution_count": 92,
      "outputs": [
        {
          "output_type": "display_data",
          "data": {
            "text/html": [
              "<table class=\"dataframe\">\n",
              "<caption>A data.frame: 10 × 8</caption>\n",
              "<thead>\n",
              "\t<tr><th></th><th scope=col>username</th><th scope=col>full_name</th><th scope=col>birthdate</th><th scope=col>email</th><th scope=col>continent</th><th scope=col>followers</th><th scope=col>last_login</th><th scope=col>interests</th></tr>\n",
              "\t<tr><th></th><th scope=col>&lt;chr&gt;</th><th scope=col>&lt;chr&gt;</th><th scope=col>&lt;chr&gt;</th><th scope=col>&lt;chr&gt;</th><th scope=col>&lt;chr&gt;</th><th scope=col>&lt;int&gt;</th><th scope=col>&lt;chr&gt;</th><th scope=col>&lt;chr&gt;</th></tr>\n",
              "</thead>\n",
              "<tbody>\n",
              "\t<tr><th scope=row>134</th><td>vshallcrass3p</td><td>Vally Shallcrass</td><td>9/26/2002 </td><td>vshallcrass3p@pagesperso-orange.fr</td><td>NA</td><td>99419</td><td>NA        </td><td>music </td></tr>\n",
              "\t<tr><th scope=row>659</th><td>mraggitt9g   </td><td>Morgan Raggitt  </td><td>11/16/1992</td><td>mraggitt9g@home.pl                </td><td>NA</td><td>99508</td><td>11/12/2021</td><td>music </td></tr>\n",
              "\t<tr><th scope=row>1136</th><td>grivardmp    </td><td>Gwen Rivard     </td><td>9/12/1982 </td><td>grivardmp@google.com.hk           </td><td>OC</td><td>99526</td><td>4/4/2020  </td><td>music </td></tr>\n",
              "\t<tr><th scope=row>578</th><td>dbartalin77  </td><td>Desiree Bartalin</td><td>8/23/1993 </td><td>dbartalin77@usda.gov              </td><td>AF</td><td>99618</td><td>5/30/2022 </td><td>music </td></tr>\n",
              "\t<tr><th scope=row>821</th><td>cduftondy    </td><td>Celisse Dufton  </td><td>8/24/1995 </td><td>cduftondy@ox.ac.uk                </td><td>OC</td><td>99707</td><td>9/26/2021 </td><td>sports</td></tr>\n",
              "\t<tr><th scope=row>818</th><td>djagerdv     </td><td>Deeyn Jager     </td><td>NA        </td><td>djagerdv@posterous.com            </td><td>AF</td><td>99731</td><td>4/7/2022  </td><td>travel</td></tr>\n",
              "\t<tr><th scope=row>1050</th><td>cbraderkb    </td><td>Cody Brader     </td><td>NA        </td><td>cbraderkb@lulu.com                </td><td>AF</td><td>99747</td><td>6/19/2021 </td><td>music </td></tr>\n",
              "\t<tr><th scope=row>1270</th><td>dpagettqf    </td><td>Des Pagett      </td><td>4/1/1992  </td><td>dpagettqf@360.cn                  </td><td>NA</td><td>99854</td><td>NA        </td><td>music </td></tr>\n",
              "\t<tr><th scope=row>681</th><td>spharoaha2   </td><td>Staci Pharoah   </td><td>9/2/1985  </td><td>spharoaha2@sfgate.com             </td><td>NA</td><td>99905</td><td>10/26/2023</td><td>sports</td></tr>\n",
              "\t<tr><th scope=row>721</th><td>lleckeyb6    </td><td>Lynne Leckey    </td><td>4/19/1998 </td><td>lleckeyb6@tripadvisor.com         </td><td>SA</td><td>99977</td><td>3/14/2021 </td><td>sports</td></tr>\n",
              "</tbody>\n",
              "</table>\n"
            ],
            "text/markdown": "\nA data.frame: 10 × 8\n\n| <!--/--> | username &lt;chr&gt; | full_name &lt;chr&gt; | birthdate &lt;chr&gt; | email &lt;chr&gt; | continent &lt;chr&gt; | followers &lt;int&gt; | last_login &lt;chr&gt; | interests &lt;chr&gt; |\n|---|---|---|---|---|---|---|---|---|\n| 134 | vshallcrass3p | Vally Shallcrass | 9/26/2002  | vshallcrass3p@pagesperso-orange.fr | NA | 99419 | NA         | music  |\n| 659 | mraggitt9g    | Morgan Raggitt   | 11/16/1992 | mraggitt9g@home.pl                 | NA | 99508 | 11/12/2021 | music  |\n| 1136 | grivardmp     | Gwen Rivard      | 9/12/1982  | grivardmp@google.com.hk            | OC | 99526 | 4/4/2020   | music  |\n| 578 | dbartalin77   | Desiree Bartalin | 8/23/1993  | dbartalin77@usda.gov               | AF | 99618 | 5/30/2022  | music  |\n| 821 | cduftondy     | Celisse Dufton   | 8/24/1995  | cduftondy@ox.ac.uk                 | OC | 99707 | 9/26/2021  | sports |\n| 818 | djagerdv      | Deeyn Jager      | NA         | djagerdv@posterous.com             | AF | 99731 | 4/7/2022   | travel |\n| 1050 | cbraderkb     | Cody Brader      | NA         | cbraderkb@lulu.com                 | AF | 99747 | 6/19/2021  | music  |\n| 1270 | dpagettqf     | Des Pagett       | 4/1/1992   | dpagettqf@360.cn                   | NA | 99854 | NA         | music  |\n| 681 | spharoaha2    | Staci Pharoah    | 9/2/1985   | spharoaha2@sfgate.com              | NA | 99905 | 10/26/2023 | sports |\n| 721 | lleckeyb6     | Lynne Leckey     | 4/19/1998  | lleckeyb6@tripadvisor.com          | SA | 99977 | 3/14/2021  | sports |\n\n",
            "text/latex": "A data.frame: 10 × 8\n\\begin{tabular}{r|llllllll}\n  & username & full\\_name & birthdate & email & continent & followers & last\\_login & interests\\\\\n  & <chr> & <chr> & <chr> & <chr> & <chr> & <int> & <chr> & <chr>\\\\\n\\hline\n\t134 & vshallcrass3p & Vally Shallcrass & 9/26/2002  & vshallcrass3p@pagesperso-orange.fr & NA & 99419 & NA         & music \\\\\n\t659 & mraggitt9g    & Morgan Raggitt   & 11/16/1992 & mraggitt9g@home.pl                 & NA & 99508 & 11/12/2021 & music \\\\\n\t1136 & grivardmp     & Gwen Rivard      & 9/12/1982  & grivardmp@google.com.hk            & OC & 99526 & 4/4/2020   & music \\\\\n\t578 & dbartalin77   & Desiree Bartalin & 8/23/1993  & dbartalin77@usda.gov               & AF & 99618 & 5/30/2022  & music \\\\\n\t821 & cduftondy     & Celisse Dufton   & 8/24/1995  & cduftondy@ox.ac.uk                 & OC & 99707 & 9/26/2021  & sports\\\\\n\t818 & djagerdv      & Deeyn Jager      & NA         & djagerdv@posterous.com             & AF & 99731 & 4/7/2022   & travel\\\\\n\t1050 & cbraderkb     & Cody Brader      & NA         & cbraderkb@lulu.com                 & AF & 99747 & 6/19/2021  & music \\\\\n\t1270 & dpagettqf     & Des Pagett       & 4/1/1992   & dpagettqf@360.cn                   & NA & 99854 & NA         & music \\\\\n\t681 & spharoaha2    & Staci Pharoah    & 9/2/1985   & spharoaha2@sfgate.com              & NA & 99905 & 10/26/2023 & sports\\\\\n\t721 & lleckeyb6     & Lynne Leckey     & 4/19/1998  & lleckeyb6@tripadvisor.com          & SA & 99977 & 3/14/2021  & sports\\\\\n\\end{tabular}\n",
            "text/plain": [
              "     username      full_name        birthdate \n",
              "134  vshallcrass3p Vally Shallcrass 9/26/2002 \n",
              "659  mraggitt9g    Morgan Raggitt   11/16/1992\n",
              "1136 grivardmp     Gwen Rivard      9/12/1982 \n",
              "578  dbartalin77   Desiree Bartalin 8/23/1993 \n",
              "821  cduftondy     Celisse Dufton   8/24/1995 \n",
              "818  djagerdv      Deeyn Jager      NA        \n",
              "1050 cbraderkb     Cody Brader      NA        \n",
              "1270 dpagettqf     Des Pagett       4/1/1992  \n",
              "681  spharoaha2    Staci Pharoah    9/2/1985  \n",
              "721  lleckeyb6     Lynne Leckey     4/19/1998 \n",
              "     email                              continent followers last_login\n",
              "134  vshallcrass3p@pagesperso-orange.fr NA        99419     NA        \n",
              "659  mraggitt9g@home.pl                 NA        99508     11/12/2021\n",
              "1136 grivardmp@google.com.hk            OC        99526     4/4/2020  \n",
              "578  dbartalin77@usda.gov               AF        99618     5/30/2022 \n",
              "821  cduftondy@ox.ac.uk                 OC        99707     9/26/2021 \n",
              "818  djagerdv@posterous.com             AF        99731     4/7/2022  \n",
              "1050 cbraderkb@lulu.com                 AF        99747     6/19/2021 \n",
              "1270 dpagettqf@360.cn                   NA        99854     NA        \n",
              "681  spharoaha2@sfgate.com              NA        99905     10/26/2023\n",
              "721  lleckeyb6@tripadvisor.com          SA        99977     3/14/2021 \n",
              "     interests\n",
              "134  music    \n",
              "659  music    \n",
              "1136 music    \n",
              "578  music    \n",
              "821  sports   \n",
              "818  travel   \n",
              "1050 music    \n",
              "1270 music    \n",
              "681  sports   \n",
              "721  sports   "
            ]
          },
          "metadata": {}
        }
      ]
    },
    {
      "cell_type": "code",
      "source": [
        "my_data <- df %>%\n",
        "  group_by(continent) %>%\n",
        "  summarise(count = n())\n",
        "\n",
        "my_data"
      ],
      "metadata": {
        "id": "zmRDhs5gBbJs",
        "outputId": "4369dc83-687a-4b7b-a152-65524214fd1a",
        "colab": {
          "base_uri": "https://localhost:8080/",
          "height": 318
        }
      },
      "execution_count": 94,
      "outputs": [
        {
          "output_type": "display_data",
          "data": {
            "text/html": [
              "<table class=\"dataframe\">\n",
              "<caption>A tibble: 7 × 2</caption>\n",
              "<thead>\n",
              "\t<tr><th scope=col>continent</th><th scope=col>count</th></tr>\n",
              "\t<tr><th scope=col>&lt;chr&gt;</th><th scope=col>&lt;int&gt;</th></tr>\n",
              "</thead>\n",
              "<tbody>\n",
              "\t<tr><td>AF</td><td>103</td></tr>\n",
              "\t<tr><td>AN</td><td>  1</td></tr>\n",
              "\t<tr><td>AS</td><td>182</td></tr>\n",
              "\t<tr><td>EU</td><td>127</td></tr>\n",
              "\t<tr><td>OC</td><td>148</td></tr>\n",
              "\t<tr><td>SA</td><td> 92</td></tr>\n",
              "\t<tr><td>NA</td><td>347</td></tr>\n",
              "</tbody>\n",
              "</table>\n"
            ],
            "text/markdown": "\nA tibble: 7 × 2\n\n| continent &lt;chr&gt; | count &lt;int&gt; |\n|---|---|\n| AF | 103 |\n| AN |   1 |\n| AS | 182 |\n| EU | 127 |\n| OC | 148 |\n| SA |  92 |\n| NA | 347 |\n\n",
            "text/latex": "A tibble: 7 × 2\n\\begin{tabular}{ll}\n continent & count\\\\\n <chr> & <int>\\\\\n\\hline\n\t AF & 103\\\\\n\t AN &   1\\\\\n\t AS & 182\\\\\n\t EU & 127\\\\\n\t OC & 148\\\\\n\t SA &  92\\\\\n\t NA & 347\\\\\n\\end{tabular}\n",
            "text/plain": [
              "  continent count\n",
              "1 AF        103  \n",
              "2 AN          1  \n",
              "3 AS        182  \n",
              "4 EU        127  \n",
              "5 OC        148  \n",
              "6 SA         92  \n",
              "7 NA        347  "
            ]
          },
          "metadata": {}
        }
      ]
    }
  ]
}