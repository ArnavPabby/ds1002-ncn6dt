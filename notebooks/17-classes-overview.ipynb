{
  "nbformat": 4,
  "nbformat_minor": 0,
  "metadata": {
    "colab": {
      "provenance": [],
      "include_colab_link": true
    },
    "kernelspec": {
      "name": "python3",
      "display_name": "Python 3"
    },
    "language_info": {
      "name": "python"
    }
  },
  "cells": [
    {
      "cell_type": "markdown",
      "metadata": {
        "id": "view-in-github",
        "colab_type": "text"
      },
      "source": [
        "<a href=\"https://colab.research.google.com/github/ArnavPabby/ds1002-ncn6dt/blob/main/notebooks/17-classes-overview.ipynb\" target=\"_parent\"><img src=\"https://colab.research.google.com/assets/colab-badge.svg\" alt=\"Open In Colab\"/></a>"
      ]
    },
    {
      "cell_type": "markdown",
      "source": [
        "# Classes - Moving Deeper into OOP\n",
        "\n",
        "**Classes** help describe/model data structures, or collections of functions centered on a particular set of tasks related to a particular type of data. A class is much like a template or schema. Classes may, but does not have to, take parameters.\n",
        "\n",
        "**Instances** / **Objects** are actual, concrete implementations of a class with specific values.\n",
        "\n",
        "- **Attributes** - values/fields specific to each instance of a class.\n",
        "- **Methods** - functions available within and specific to a class. Methods may consume attributes or other parameters.\n",
        "- **Constructors** - the attribute structure/default values of a class.\n",
        "\n",
        "> \"OO is about grouping DATA with the FUNCTIONS that manipulate that data and hiding HOW it manipulates it so you can MODIFY the behavior through INHERITANCE.\"\n",
        "\n",
        "Advantages of OOP programming:\n",
        "\n",
        "- **MAINTAINABILITY** Object-oriented programming methods make code more maintainable. Identifying the source of errors is easier because objects are self-contained.\n",
        "- **REUSABILITY** Because objects contain both data and methods that act on data, objects can be thought of as self-contained. This makes it easy to reuse code in new systems. Messages provide a predefined interface to an object's data and functionality. With this interface, objects can be used in any context.\n",
        "- **SCALABILITY** Object-oriented programs are also scalable. As an object's interface provides a road map for reusing the object in new software, and provides all the information needed to replace the object without affecting other code. This way aging code can be replaced with faster algorithms and newer technology."
      ],
      "metadata": {
        "id": "-e4JcExnJAY3"
      }
    },
    {
      "cell_type": "code",
      "source": [
        "class Robots():\n",
        "  #self refers to the instance of the class, i.e the object\n",
        "  def __init__(self, name, color, weight):\n",
        "    self.name = name\n",
        "    self.color = color\n",
        "    self.weight = weight\n",
        "\n",
        "  def introduce_self(self):\n",
        "    print(\"Hello there, my name is \" + self.name)"
      ],
      "metadata": {
        "id": "-YRBBhUwJDhs"
      },
      "execution_count": 5,
      "outputs": []
    },
    {
      "cell_type": "code",
      "source": [
        "# Create an instance and add some attributes\n",
        "robot1 = Robots()"
      ],
      "metadata": {
        "id": "bU8kkMTtJyrE"
      },
      "execution_count": 2,
      "outputs": []
    },
    {
      "cell_type": "code",
      "source": [
        "robot1.name = \"Ben\"\n",
        "robot1.color = \"Blue\"\n",
        "robot1.weight = 50"
      ],
      "metadata": {
        "id": "Lopx5QrdM1Xk"
      },
      "execution_count": 3,
      "outputs": []
    },
    {
      "cell_type": "code",
      "source": [
        "robot1.introduce_self()"
      ],
      "metadata": {
        "id": "-yDYfjUoM6Jn",
        "outputId": "69cc2cb1-0492-41ee-e53c-3918904d3d95",
        "colab": {
          "base_uri": "https://localhost:8080/"
        }
      },
      "execution_count": 4,
      "outputs": [
        {
          "output_type": "stream",
          "name": "stdout",
          "text": [
            "Hello there, my name is Ben\n"
          ]
        }
      ]
    },
    {
      "cell_type": "code",
      "source": [
        "robot2 = Robots(\"Sherry\", \"Red\", 40)\n",
        "#allows you to call the attributes of an object, e.g:\n",
        "print(robot2.color)\n",
        "print(robot2.name)\n",
        "print(robot2.weight)"
      ],
      "metadata": {
        "id": "BcSXHEBuN9f9",
        "outputId": "413f6cf8-ed0f-48e3-e90e-e3410ec51351",
        "colab": {
          "base_uri": "https://localhost:8080/"
        }
      },
      "execution_count": 9,
      "outputs": [
        {
          "output_type": "stream",
          "name": "stdout",
          "text": [
            "Red\n",
            "Sherry\n",
            "40\n"
          ]
        }
      ]
    },
    {
      "cell_type": "code",
      "source": [
        "robot2.introduce_self()"
      ],
      "metadata": {
        "id": "a6zFblAtODEn",
        "outputId": "6ce5759f-57cc-4f3d-cb0a-a368eb3fda0b",
        "colab": {
          "base_uri": "https://localhost:8080/"
        }
      },
      "execution_count": 7,
      "outputs": [
        {
          "output_type": "stream",
          "name": "stdout",
          "text": [
            "Hello there, my name is Sherry\n"
          ]
        }
      ]
    },
    {
      "cell_type": "markdown",
      "source": [
        "## Data Structures within a Class"
      ],
      "metadata": {
        "id": "92OHV9bvXv56"
      }
    },
    {
      "cell_type": "code",
      "source": [
        "# Let's set up an empty class that we can throw a data structure into:\n",
        "class Record:\n",
        "  \"\"\"Store information about something in a structure.\"\"\"\n",
        "\n",
        "# here are some simple data attributes in the form of a dict\n",
        "john = {\n",
        "    \"id\": 13,\n",
        "    \"name\": \"John Doe\",\n",
        "    \"position\": \"Data Scientist\",\n",
        "    \"department\": \"Analytics\",\n",
        "    \"salary\": 94000,\n",
        "    \"hire_date\": \"2023-10-24\",\n",
        "    \"is_manager\": False,\n",
        "    \"email\": \"jdoe@company.com\"\n",
        "}\n",
        "\n",
        "# finally let's instantiate (create) an instance of a Record into a new object\n",
        "# called \"john_record\". Note there are no parameters passed.\n",
        "john_record = Record()"
      ],
      "metadata": {
        "id": "sQA-zOAdXwOo"
      },
      "execution_count": 10,
      "outputs": []
    },
    {
      "cell_type": "code",
      "source": [
        "# So the empty instance exists. Now let's throw the data into it by for-looping\n",
        "# the dict into the Record. Note that the \"structure\" is coming entirely by the\n",
        "# dict we are passing.\n",
        "\n",
        "for field, value in john.items():\n",
        "  setattr(john_record, field, value)"
      ],
      "metadata": {
        "id": "CVWSLzSXYHfj"
      },
      "execution_count": 11,
      "outputs": []
    },
    {
      "cell_type": "code",
      "source": [
        "# Kapow!!\n",
        "\n",
        "# Now all the data fields (attributes) for this record are available when you type\n",
        "# john_record.   (wait for Colab to suggest the available fields)\n",
        "\n",
        "print(john_record.name)\n",
        "print(john_record.salary)\n",
        "print(john_record.department)"
      ],
      "metadata": {
        "id": "z-bn5PmHYYBn",
        "outputId": "0cd4ad83-5070-49df-fcbb-260e6224bbf5",
        "colab": {
          "base_uri": "https://localhost:8080/"
        }
      },
      "execution_count": 12,
      "outputs": [
        {
          "output_type": "stream",
          "name": "stdout",
          "text": [
            "John Doe\n",
            "94000\n",
            "Analytics\n"
          ]
        }
      ]
    },
    {
      "cell_type": "code",
      "source": [
        "# Using normal print syntax, or f-string printing (for example), you can call out\n",
        "# specific data as needed.\n",
        "\n",
        "print(f\"Record {john_record.id} is named: {john_record.name}\")"
      ],
      "metadata": {
        "id": "bRr8jrgbDMss",
        "outputId": "f28a801a-7095-4a95-e6c9-83d52f39800e",
        "colab": {
          "base_uri": "https://localhost:8080/"
        }
      },
      "execution_count": 13,
      "outputs": [
        {
          "output_type": "stream",
          "name": "stdout",
          "text": [
            "Record 13 is named: John Doe\n"
          ]
        }
      ]
    },
    {
      "cell_type": "code",
      "source": [
        "# or you can spit back out the entire dict structure from the Record:\n",
        "\n",
        "john_record.__dict__"
      ],
      "metadata": {
        "id": "FyYLNR9mYuRJ",
        "outputId": "b32fecc2-b38b-42e4-a88b-132fe4a6c30d",
        "colab": {
          "base_uri": "https://localhost:8080/"
        }
      },
      "execution_count": 14,
      "outputs": [
        {
          "output_type": "execute_result",
          "data": {
            "text/plain": [
              "{'id': 13,\n",
              " 'name': 'John Doe',\n",
              " 'position': 'Data Scientist',\n",
              " 'department': 'Analytics',\n",
              " 'salary': 94000,\n",
              " 'hire_date': '2023-10-24',\n",
              " 'is_manager': False,\n",
              " 'email': 'jdoe@company.com'}"
            ]
          },
          "metadata": {},
          "execution_count": 14
        }
      ]
    },
    {
      "cell_type": "markdown",
      "source": [
        "## Define a Class with Methods to Perform Operations on Data\n",
        "\n",
        "A class can receive parameters when instantiated, which can then perform method operations based on those values."
      ],
      "metadata": {
        "id": "Sp4NAF79nbUN"
      }
    },
    {
      "cell_type": "code",
      "execution_count": 17,
      "metadata": {
        "id": "DNSYUEC9Ru3v"
      },
      "outputs": [],
      "source": [
        "import math\n",
        "\n",
        "class Circle:\n",
        "  def __init__(self, radius):\n",
        "    self.radius = radius\n",
        "\n",
        "  def calculate_area(self):\n",
        "    return round(math.pi * self.radius ** 2, 2)\n",
        "\n",
        "  def calculate_x_area(self,multiplier):\n",
        "    return Circle.calculate_area(self) * multiplier\n"
      ]
    },
    {
      "cell_type": "code",
      "source": [
        "# Create an instance by calling the Class and providing the required parameter\n",
        "circle0 = Circle(14)\n",
        "\n",
        "# Then call a class method. Note that you do not provide a parameter for this method\n",
        "circle0.calculate_area()"
      ],
      "metadata": {
        "id": "QZkG2QmBRyzH",
        "outputId": "55bfd2e5-38b8-41f1-e0f8-0f9843823d64",
        "colab": {
          "base_uri": "https://localhost:8080/"
        }
      },
      "execution_count": 18,
      "outputs": [
        {
          "output_type": "execute_result",
          "data": {
            "text/plain": [
              "615.75"
            ]
          },
          "metadata": {},
          "execution_count": 18
        }
      ]
    },
    {
      "cell_type": "code",
      "source": [
        "# The class instance has an additional method avaialable, which needs one parameter\n",
        "\n",
        "circle0.calculate_x_area(4)"
      ],
      "metadata": {
        "id": "jC90p1EXpZhx",
        "outputId": "a49b2909-6524-49a4-e5ac-e1804fd47746",
        "colab": {
          "base_uri": "https://localhost:8080/"
        }
      },
      "execution_count": 19,
      "outputs": [
        {
          "output_type": "execute_result",
          "data": {
            "text/plain": [
              "2463.0"
            ]
          },
          "metadata": {},
          "execution_count": 19
        }
      ]
    },
    {
      "cell_type": "markdown",
      "source": [
        "## Create a class attribute to record data"
      ],
      "metadata": {
        "id": "mEgP8ueqVekq"
      }
    },
    {
      "cell_type": "code",
      "source": [
        "class ObjectCounter:\n",
        "  num_instances = 0\n",
        "  def __init__(self):\n",
        "    ObjectCounter.num_instances += 1"
      ],
      "metadata": {
        "id": "KHKCixwcVfVw"
      },
      "execution_count": null,
      "outputs": []
    },
    {
      "cell_type": "code",
      "source": [
        "counter = ObjectCounter()"
      ],
      "metadata": {
        "id": "6jTtvOuSVkeu"
      },
      "execution_count": null,
      "outputs": []
    },
    {
      "cell_type": "code",
      "source": [
        "counter.num_instances"
      ],
      "metadata": {
        "id": "hQ_GvIWvVod0"
      },
      "execution_count": null,
      "outputs": []
    },
    {
      "cell_type": "code",
      "source": [
        "class Counter:\n",
        "  mycount = 0\n",
        "\n",
        "  def click(self):\n",
        "    Counter.mycount += 1"
      ],
      "metadata": {
        "id": "xGjNv-mOEmmb"
      },
      "execution_count": null,
      "outputs": []
    },
    {
      "cell_type": "code",
      "source": [
        "counter = Counter()"
      ],
      "metadata": {
        "id": "pkR1FBrXEzQt"
      },
      "execution_count": null,
      "outputs": []
    },
    {
      "cell_type": "code",
      "source": [
        "counter.mycount"
      ],
      "metadata": {
        "id": "yRa38ZUSE4Id"
      },
      "execution_count": null,
      "outputs": []
    },
    {
      "cell_type": "code",
      "source": [
        "counter.click()"
      ],
      "metadata": {
        "id": "Iqdkt8p_E7_d"
      },
      "execution_count": null,
      "outputs": []
    },
    {
      "cell_type": "code",
      "source": [
        "counter.mycount"
      ],
      "metadata": {
        "id": "LOYiP5K2E-VX"
      },
      "execution_count": null,
      "outputs": []
    },
    {
      "cell_type": "markdown",
      "source": [
        "## Use a Class to perform remote API calls\n",
        "\n",
        "Use the ID Generator API to fetch a unique identifier. In this example, get a GUID."
      ],
      "metadata": {
        "id": "7hsblEmdFFRO"
      }
    },
    {
      "cell_type": "code",
      "source": [
        "import requests\n",
        "import json\n",
        "import sys\n",
        "\n",
        "class Id:\n",
        "\n",
        "  def guid(self):\n",
        "    response = requests.get('https://ids.pods.uvarc.io/guid')\n",
        "    body = json.loads(response.text)\n",
        "    return body['id']"
      ],
      "metadata": {
        "id": "6t_bqvRrFPcl"
      },
      "execution_count": 20,
      "outputs": []
    },
    {
      "cell_type": "code",
      "source": [
        "id = Id()"
      ],
      "metadata": {
        "id": "WlPzTbv8TnAg"
      },
      "execution_count": 21,
      "outputs": []
    },
    {
      "cell_type": "code",
      "source": [
        "id.guid()"
      ],
      "metadata": {
        "id": "9VdrMmokTpj_",
        "outputId": "ecef8cd5-e1be-4fc4-8df2-19352db52a34",
        "colab": {
          "base_uri": "https://localhost:8080/",
          "height": 35
        }
      },
      "execution_count": 22,
      "outputs": [
        {
          "output_type": "execute_result",
          "data": {
            "text/plain": [
              "'4a841e8a-4b47-41f2-92c5-0b16c9c03ce1'"
            ],
            "application/vnd.google.colaboratory.intrinsic+json": {
              "type": "string"
            }
          },
          "metadata": {},
          "execution_count": 22
        }
      ]
    },
    {
      "cell_type": "markdown",
      "source": [
        "## Temp Converter Class"
      ],
      "metadata": {
        "id": "R7-PryAymWi4"
      }
    },
    {
      "cell_type": "code",
      "source": [
        "# Define the class itself and initialize. This class requires one parameter to be instantiated -- a temp\n",
        "# This is what the __init__ accomplishes.\n",
        "# Next come two methods you can use with any instance of the class:\n",
        "#   - convert to F\n",
        "#   - convert to C\n",
        "\n",
        "class TempConverter:\n",
        "\n",
        "  def __init__(self, temperature):\n",
        "    self.temperature = temperature\n",
        "\n",
        "  def convert_to_fahrenheit(self):\n",
        "    return (self.temperature * 9 / 5) + 32\n",
        "\n",
        "  def convert_to_celsius(self):\n",
        "    return (self.temperature - 32) * 5 / 9\n"
      ],
      "metadata": {
        "id": "BS1ZpueCmYsF"
      },
      "execution_count": null,
      "outputs": []
    },
    {
      "cell_type": "code",
      "source": [
        "# Here we create an instance of the class by calling it into a new object and providing the parameter\n",
        "temp1 = TempConverter(40)\n",
        "\n",
        "# Or you could do that using variables:\n",
        "temp_reading = 33\n",
        "temp2 = TempConverter(temp_reading)"
      ],
      "metadata": {
        "id": "EJVxEps7mZg9"
      },
      "execution_count": null,
      "outputs": []
    },
    {
      "cell_type": "code",
      "source": [
        "# Now you can use the available methods against the new object (instance of the class)\n",
        "temp1.convert_to_fahrenheit()"
      ],
      "metadata": {
        "id": "gIeluGfdmcJ-"
      },
      "execution_count": null,
      "outputs": []
    },
    {
      "cell_type": "code",
      "source": [
        "# each instance exists separately\n",
        "temp2.convert_to_celsius()"
      ],
      "metadata": {
        "id": "idjK3cxAnEJn"
      },
      "execution_count": null,
      "outputs": []
    },
    {
      "cell_type": "markdown",
      "source": [
        "## Define a simple class"
      ],
      "metadata": {
        "id": "jf0t6CCfqM6U"
      }
    },
    {
      "cell_type": "code",
      "source": [
        "class Bike:\n",
        "  name = \"\"\n",
        "  gear = 0"
      ],
      "metadata": {
        "id": "Qhx75gJKqOY1"
      },
      "execution_count": null,
      "outputs": []
    },
    {
      "cell_type": "markdown",
      "source": [
        "This basic class has two variables inside of the class, `name` and `gear`.\n",
        "\n",
        "Note: Variables within a class are called \"attributes\"."
      ],
      "metadata": {
        "id": "y1WyEKb3qeka"
      }
    },
    {
      "cell_type": "code",
      "source": [
        "# Now create an instance of the class\n",
        "\n",
        "bike1 = Bike()"
      ],
      "metadata": {
        "id": "DPAxxuvZqrt0"
      },
      "execution_count": null,
      "outputs": []
    },
    {
      "cell_type": "code",
      "source": [
        "# Set or call attributes of a class object\n",
        "\n",
        "# modify the name attribute\n",
        "bike1.name = \"Mountain Bike\"\n",
        "\n",
        "# access the gear attribute\n",
        "bike1.gear"
      ],
      "metadata": {
        "id": "LrztC457q0yS"
      },
      "execution_count": null,
      "outputs": []
    },
    {
      "cell_type": "code",
      "source": [
        "# define a class\n",
        "class Bike:\n",
        "    name = \"\"\n",
        "    gear = 0\n",
        "\n",
        "# create object of class\n",
        "bike1 = Bike()\n",
        "\n",
        "# access attributes and assign new values\n",
        "bike1.gear = 11\n",
        "bike1.name = \"Mountain Bike\"\n",
        "\n",
        "print(f\"Name: {bike1.name}, Gears: {bike1.gear} \")"
      ],
      "metadata": {
        "id": "d62qfmysrDW1"
      },
      "execution_count": null,
      "outputs": []
    },
    {
      "cell_type": "markdown",
      "source": [
        "## Using a Constructor to Initialize"
      ],
      "metadata": {
        "id": "kAyhZ8aVtgy2"
      }
    },
    {
      "cell_type": "code",
      "source": [
        "class Bike:\n",
        "    name = \"\"\n",
        "...\n",
        "# create object\n",
        "bike1 = Bike()"
      ],
      "metadata": {
        "id": "tn3dcyMGtgFA"
      },
      "execution_count": null,
      "outputs": []
    },
    {
      "cell_type": "code",
      "source": [
        "class Bike:\n",
        "\n",
        "    # constructor function\n",
        "    def __init__(self, name = \"\"):\n",
        "        self.name = name\n",
        "\n",
        "bike1 = Bike()"
      ],
      "metadata": {
        "id": "Q-MHgNOStnTO"
      },
      "execution_count": null,
      "outputs": []
    },
    {
      "cell_type": "code",
      "source": [
        "bike1 = Bike(\"Mountain Bike\")"
      ],
      "metadata": {
        "id": "LDJv3RyGtpt9"
      },
      "execution_count": null,
      "outputs": []
    },
    {
      "cell_type": "markdown",
      "source": [
        "## Create Multiple Instances of a Class"
      ],
      "metadata": {
        "id": "AOoxQguRrMGQ"
      }
    },
    {
      "cell_type": "code",
      "source": [
        "# define a class\n",
        "class Employee:\n",
        "    # define an attribute\n",
        "    employee_id = 0\n",
        "\n",
        "# create two objects of the Employee class\n",
        "employee1 = Employee()\n",
        "employee2 = Employee()\n",
        "\n",
        "# access attributes using employee1\n",
        "employee1.employeeID = 1001\n",
        "print(f\"Employee ID: {employee1.employeeID}\")\n",
        "\n",
        "# access attributes using employee2\n",
        "employee2.employeeID = 1002\n",
        "print(f\"Employee ID: {employee2.employeeID}\")"
      ],
      "metadata": {
        "id": "9nbaiZ7ArJYg"
      },
      "execution_count": null,
      "outputs": []
    },
    {
      "cell_type": "markdown",
      "source": [
        "## Methods within a Class"
      ],
      "metadata": {
        "id": "iWgu6_c2rVJY"
      }
    },
    {
      "cell_type": "code",
      "source": [
        "# create a class\n",
        "class Room:\n",
        "  length = 0.0\n",
        "  width = 0.0\n",
        "\n",
        "  # method to calculate area\n",
        "  def calculate_area(self):\n",
        "    print(\"Area of Room =\", self.length * self.width)\n",
        "\n",
        "# create object of Room class\n",
        "library = Room()\n",
        "\n",
        "# assign values to the attributes\n",
        "library.length = 42.5\n",
        "library.width = 30.8\n",
        "\n",
        "# access method inside class\n",
        "library.calculate_area()"
      ],
      "metadata": {
        "id": "-nbshHoxrXMW"
      },
      "execution_count": null,
      "outputs": []
    }
  ]
}