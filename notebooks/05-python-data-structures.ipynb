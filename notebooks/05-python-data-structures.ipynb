{
  "cells": [
    {
      "cell_type": "markdown",
      "metadata": {
        "id": "view-in-github",
        "colab_type": "text"
      },
      "source": [
        "<a href=\"https://colab.research.google.com/github/ArnavPabby/ds1002-ncn6dt/blob/main/notebooks/05-python-data-structures.ipynb\" target=\"_parent\"><img src=\"https://colab.research.google.com/assets/colab-badge.svg\" alt=\"Open In Colab\"/></a>"
      ]
    },
    {
      "cell_type": "markdown",
      "id": "f60fd822-d184-4931-9ab2-26d60c6d362c",
      "metadata": {
        "tags": [],
        "id": "f60fd822-d184-4931-9ab2-26d60c6d362c"
      },
      "source": [
        "# Metadata\n",
        "\n",
        "```\n",
        "Course:   DS1002\n",
        "Module:   04 Basics\n",
        "Topic:    Data Structures\n",
        "```"
      ]
    },
    {
      "cell_type": "markdown",
      "id": "2eed1ead",
      "metadata": {
        "id": "2eed1ead"
      },
      "source": [
        "# Data Structures in Python\n",
        "\n",
        "-----------------------\n",
        "### PREREQUISITES\n",
        "- variables\n",
        "- data types\n",
        "\n",
        "### REFERENCE\n",
        "- Python documentation on data structures\n",
        "https://docs.python.org/3/tutorial/datastructures.html\n",
        "\n",
        "\n",
        "- Python data structures\n",
        "https://learning.oreilly.com/library/view/python-in-a/9781098113544/ch03.html#data_types\n",
        "\n",
        "\n",
        "### OBJECTIVES\n",
        "- Present the essential Python data structures and some of their basic functionality\n",
        "\n",
        "NOTE:\n",
        "1. See above references for more details. As the course progresses, our use of data structures will complexify.\n",
        "2. We jump ahead a bit, showing functionality involving `for-loops`,  \n",
        "both covered in more detail later.\n",
        "\n",
        "\n",
        "### CONCEPTS\n",
        "- zero-based indexing\n",
        "- list\n",
        "- tuple\n",
        "- set\n",
        "- dictionary (dict)\n",
        "- enumerate\n",
        "- range"
      ]
    },
    {
      "cell_type": "markdown",
      "id": "495460ca-44e9-4f16-aa4d-b40cc0b44134",
      "metadata": {
        "id": "495460ca-44e9-4f16-aa4d-b40cc0b44134"
      },
      "source": [
        "# Data Structures\n",
        "\n",
        "In contrast to primitive data types, data structures organize types into structures that have certain properties, such as **order**, **mutability**, and **addressing scheme**, e.g. by index."
      ]
    },
    {
      "cell_type": "markdown",
      "id": "18f574bb-0db7-40ac-9c0e-fb507024e171",
      "metadata": {
        "tags": [],
        "id": "18f574bb-0db7-40ac-9c0e-fb507024e171"
      },
      "source": [
        "# Lists\n",
        "\n",
        "A list is an ordered sequence of items.\n",
        "\n",
        "Each element of a list is associated with an integer that represents the order in which the element appears.\n",
        "\n",
        "Lists are indexed with **brackets** `[]`.\n",
        "\n",
        "List elements are accessed by providing their order number in the brackets.\n",
        "\n",
        "Lists are **mutable**, meaning you can modify them after they have been created.\n",
        "\n",
        "They can contain mixed types."
      ]
    },
    {
      "cell_type": "markdown",
      "id": "518c5585-c5a7-4b26-92b7-e401908f2421",
      "metadata": {
        "tags": [],
        "id": "518c5585-c5a7-4b26-92b7-e401908f2421"
      },
      "source": [
        "## Constructing\n",
        "\n",
        "They can be **constructed** in several ways:"
      ]
    },
    {
      "cell_type": "code",
      "execution_count": null,
      "id": "3f062d71-f2b7-4cab-96da-f27f4edd9fad",
      "metadata": {
        "id": "3f062d71-f2b7-4cab-96da-f27f4edd9fad"
      },
      "outputs": [],
      "source": [
        "list1 = []\n",
        "list2 = list(())\n",
        "list3 = \"some string\".split()\n",
        "numbers = [1,2,3,4]\n",
        "\n",
        "list3"
      ]
    },
    {
      "cell_type": "markdown",
      "id": "5ec0d4fc",
      "metadata": {
        "id": "5ec0d4fc"
      },
      "source": [
        "> Using any of the above methods, make a list containing your numerical birth month, the first letter of your name, & a boolean to the question: I like coffee."
      ]
    },
    {
      "cell_type": "code",
      "execution_count": 18,
      "id": "40f0de3c",
      "metadata": {
        "id": "40f0de3c",
        "outputId": "3fa8d74d-9534-401f-c65d-358da916d6a0",
        "colab": {
          "base_uri": "https://localhost:8080/"
        }
      },
      "outputs": [
        {
          "output_type": "stream",
          "name": "stdout",
          "text": [
            "[11, 'A', True]\n"
          ]
        }
      ],
      "source": [
        "list1 = [11, \"A\", True]\n",
        "print(list1)"
      ]
    },
    {
      "cell_type": "markdown",
      "id": "055206a8-4683-4903-8f2b-1d746c667d54",
      "metadata": {
        "tags": [],
        "id": "055206a8-4683-4903-8f2b-1d746c667d54"
      },
      "source": [
        "## Indexing"
      ]
    },
    {
      "cell_type": "markdown",
      "id": "54d4571c-e4ac-404c-90fd-270e5e2fe42a",
      "metadata": {
        "id": "54d4571c-e4ac-404c-90fd-270e5e2fe42a"
      },
      "source": [
        "**Zero-based indexing**  \n",
        "\n",
        "Python uses zero-based indexing, which means for a collection `mylist`\n",
        "\n",
        "`mylist[0]` references the first element  \n",
        "`mylist[1]` references the second element, etc\n",
        "\n",
        "For any iterable object of length *N*:  \n",
        "`mylist[:n]` will return the first *n* elements from index *0* to *n-1*  \n",
        "`mylist[-n:]` will return the last *n* elements from index *N-n* to *N-1*"
      ]
    },
    {
      "cell_type": "code",
      "source": [
        "numbers = [1,2,3,4,5,6]"
      ],
      "metadata": {
        "id": "XZgPtOG6IULe"
      },
      "id": "XZgPtOG6IULe",
      "execution_count": 8,
      "outputs": []
    },
    {
      "cell_type": "code",
      "execution_count": 9,
      "id": "9634cd89-fcdd-4e13-b953-17ec6d7e8feb",
      "metadata": {
        "id": "9634cd89-fcdd-4e13-b953-17ec6d7e8feb",
        "outputId": "f4f8fe46-67c7-4901-f58e-094688ea6dfb",
        "colab": {
          "base_uri": "https://localhost:8080/"
        }
      },
      "outputs": [
        {
          "output_type": "execute_result",
          "data": {
            "text/plain": [
              "1"
            ]
          },
          "metadata": {},
          "execution_count": 9
        }
      ],
      "source": [
        "numbers[0] # Access first element (output: 1)"
      ]
    },
    {
      "cell_type": "code",
      "execution_count": 10,
      "id": "721d2f80-c371-4a75-85ca-410b986c0f75",
      "metadata": {
        "id": "721d2f80-c371-4a75-85ca-410b986c0f75",
        "outputId": "e6021f5f-7bc2-441e-9dc6-0b236c9118c5",
        "colab": {
          "base_uri": "https://localhost:8080/"
        }
      },
      "outputs": [
        {
          "output_type": "execute_result",
          "data": {
            "text/plain": [
              "5"
            ]
          },
          "metadata": {},
          "execution_count": 10
        }
      ],
      "source": [
        "numbers[0] + numbers[3] # doing arithmetic with the values (output: 5)"
      ]
    },
    {
      "cell_type": "code",
      "execution_count": 11,
      "id": "113521f2-8e9d-4b5f-ae5c-a170b6c09ee7",
      "metadata": {
        "id": "113521f2-8e9d-4b5f-ae5c-a170b6c09ee7",
        "outputId": "eeded890-dd1c-4f88-96ed-983f54254d30",
        "colab": {
          "base_uri": "https://localhost:8080/"
        }
      },
      "outputs": [
        {
          "output_type": "execute_result",
          "data": {
            "text/plain": [
              "6"
            ]
          },
          "metadata": {},
          "execution_count": 11
        }
      ],
      "source": [
        "len(numbers)\n"
      ]
    },
    {
      "cell_type": "code",
      "execution_count": 12,
      "id": "07c1bf0d",
      "metadata": {
        "id": "07c1bf0d",
        "outputId": "916e8f94-1239-47bc-d508-e1a5a0359962",
        "colab": {
          "base_uri": "https://localhost:8080/"
        }
      },
      "outputs": [
        {
          "output_type": "execute_result",
          "data": {
            "text/plain": [
              "[6]"
            ]
          },
          "metadata": {},
          "execution_count": 12
        }
      ],
      "source": [
        "numbers[-1:]"
      ]
    },
    {
      "cell_type": "code",
      "execution_count": 13,
      "id": "e2bca69c",
      "metadata": {
        "id": "e2bca69c",
        "outputId": "5e9e399d-fc5c-448d-ac78-00f4ae59de62",
        "colab": {
          "base_uri": "https://localhost:8080/"
        }
      },
      "outputs": [
        {
          "output_type": "execute_result",
          "data": {
            "text/plain": [
              "[1, 2]"
            ]
          },
          "metadata": {},
          "execution_count": 13
        }
      ],
      "source": [
        "numbers[:2] # returns 1 (index 0) through 2 (index 2 minus 1)"
      ]
    },
    {
      "cell_type": "code",
      "execution_count": 14,
      "id": "12be4aa6",
      "metadata": {
        "id": "12be4aa6",
        "outputId": "589690b7-49a1-4adb-f8ff-3710ecbc87f7",
        "colab": {
          "base_uri": "https://localhost:8080/"
        }
      },
      "outputs": [
        {
          "output_type": "execute_result",
          "data": {
            "text/plain": [
              "[5, 6]"
            ]
          },
          "metadata": {},
          "execution_count": 14
        }
      ],
      "source": [
        "numbers[-2:] # returns 3 (4 minus 2 = index 2) through 4 (4 minus 1 = index 3)"
      ]
    },
    {
      "cell_type": "markdown",
      "id": "8438be45",
      "metadata": {
        "id": "8438be45"
      },
      "source": [
        "Can find the index of an element by using `.index()`"
      ]
    },
    {
      "cell_type": "code",
      "execution_count": 15,
      "id": "91c68a67",
      "metadata": {
        "id": "91c68a67",
        "outputId": "d5f72275-7768-4fac-cb12-bbe6d68d6f0f",
        "colab": {
          "base_uri": "https://localhost:8080/"
        }
      },
      "outputs": [
        {
          "output_type": "execute_result",
          "data": {
            "text/plain": [
              "2"
            ]
          },
          "metadata": {},
          "execution_count": 15
        }
      ],
      "source": [
        "numbers.index(3)"
      ]
    },
    {
      "cell_type": "markdown",
      "id": "c4b21d8a",
      "metadata": {
        "id": "c4b21d8a"
      },
      "source": [
        "> Using the list you created above, using indexing to pull out your numerical birth month."
      ]
    },
    {
      "cell_type": "code",
      "execution_count": 21,
      "id": "dea82b7b",
      "metadata": {
        "id": "dea82b7b",
        "outputId": "9535756d-f68d-447f-9d91-fa0f36aa8f76",
        "colab": {
          "base_uri": "https://localhost:8080/"
        }
      },
      "outputs": [
        {
          "output_type": "execute_result",
          "data": {
            "text/plain": [
              "[11]"
            ]
          },
          "metadata": {},
          "execution_count": 21
        }
      ],
      "source": [
        "list1[:1]"
      ]
    },
    {
      "cell_type": "markdown",
      "id": "ed32ea76-4431-407f-a7ea-a2a774cf8722",
      "metadata": {
        "tags": [],
        "id": "ed32ea76-4431-407f-a7ea-a2a774cf8722"
      },
      "source": [
        "## Slicing\n",
        "\n",
        "`a[start:stop]` items start through stop-1\n",
        "\n",
        "`a[start:]`     items start through the rest of the array\n",
        "\n",
        "`a[:stop]`      items from the beginning through stop-1\n",
        "\n",
        "`a[:]`          a copy of the whole array\n"
      ]
    },
    {
      "cell_type": "code",
      "execution_count": null,
      "id": "0eae24c3-6af0-45c7-a2df-7b0297c2e274",
      "metadata": {
        "id": "0eae24c3-6af0-45c7-a2df-7b0297c2e274"
      },
      "outputs": [],
      "source": [
        "numbers[0:2] # Output: [1, 2]"
      ]
    },
    {
      "cell_type": "code",
      "execution_count": null,
      "id": "f7b45918-72a5-4100-99cb-1bb35746d4ca",
      "metadata": {
        "id": "f7b45918-72a5-4100-99cb-1bb35746d4ca"
      },
      "outputs": [],
      "source": [
        "numbers[1:3] # Output: [2, 3]"
      ]
    },
    {
      "cell_type": "code",
      "execution_count": null,
      "id": "0c3a816c-8c1e-44e6-a404-ab3258d45977",
      "metadata": {
        "id": "0c3a816c-8c1e-44e6-a404-ab3258d45977"
      },
      "outputs": [],
      "source": [
        "numbers[2:]  # Output: [3, 4]"
      ]
    },
    {
      "cell_type": "markdown",
      "id": "a12cd4b2",
      "metadata": {
        "id": "a12cd4b2"
      },
      "source": [
        "> Slice your list using a method from above."
      ]
    },
    {
      "cell_type": "code",
      "execution_count": 23,
      "id": "30581e49",
      "metadata": {
        "id": "30581e49",
        "outputId": "caa271d6-f7fa-4d91-be87-ab2f618a9004",
        "colab": {
          "base_uri": "https://localhost:8080/"
        }
      },
      "outputs": [
        {
          "output_type": "execute_result",
          "data": {
            "text/plain": [
              "[11, 'A']"
            ]
          },
          "metadata": {},
          "execution_count": 23
        }
      ],
      "source": [
        "list1[0:2]"
      ]
    },
    {
      "cell_type": "markdown",
      "id": "8b8b02f8-932a-42f9-91d2-f6f2741f6de8",
      "metadata": {
        "tags": [],
        "id": "8b8b02f8-932a-42f9-91d2-f6f2741f6de8"
      },
      "source": [
        "## Multiply lists by a scalar\n",
        "\n",
        "A scalar is a single value number."
      ]
    },
    {
      "cell_type": "code",
      "execution_count": 24,
      "id": "11796cce-2ca8-4663-9485-f549f57839a9",
      "metadata": {
        "id": "11796cce-2ca8-4663-9485-f549f57839a9",
        "outputId": "78b7ded1-1340-4f6e-a1d1-0738a37b2633",
        "colab": {
          "base_uri": "https://localhost:8080/"
        }
      },
      "outputs": [
        {
          "output_type": "execute_result",
          "data": {
            "text/plain": [
              "[1, 2, 3, 4, 5, 6, 1, 2, 3, 4, 5, 6]"
            ]
          },
          "metadata": {},
          "execution_count": 24
        }
      ],
      "source": [
        "numbers * 2"
      ]
    },
    {
      "cell_type": "markdown",
      "id": "f31c27fb",
      "metadata": {
        "id": "f31c27fb"
      },
      "source": [
        "> multiple your list by 4"
      ]
    },
    {
      "cell_type": "code",
      "execution_count": 25,
      "id": "99cd2df5",
      "metadata": {
        "id": "99cd2df5",
        "outputId": "8f2917cb-8255-48dc-eb4e-23c2cbf984d7",
        "colab": {
          "base_uri": "https://localhost:8080/"
        }
      },
      "outputs": [
        {
          "output_type": "execute_result",
          "data": {
            "text/plain": [
              "[11, 'A', True, 11, 'A', True, 11, 'A', True, 11, 'A', True]"
            ]
          },
          "metadata": {},
          "execution_count": 25
        }
      ],
      "source": [
        "list1*4"
      ]
    },
    {
      "cell_type": "markdown",
      "id": "cfae8f09-d591-4c5e-8047-4dd449e3aa82",
      "metadata": {
        "id": "cfae8f09-d591-4c5e-8047-4dd449e3aa82"
      },
      "source": [
        "## Concatenate lists with `+`"
      ]
    },
    {
      "cell_type": "code",
      "execution_count": 26,
      "id": "8b489944-e470-4290-99c2-e96f61c5e77a",
      "metadata": {
        "id": "8b489944-e470-4290-99c2-e96f61c5e77a"
      },
      "outputs": [],
      "source": [
        "numbers2 = [30, 40, 50]"
      ]
    },
    {
      "cell_type": "code",
      "execution_count": 27,
      "id": "273e0866-6b23-4f3e-af0a-70a0ca0e4184",
      "metadata": {
        "id": "273e0866-6b23-4f3e-af0a-70a0ca0e4184",
        "outputId": "386ed54e-0e38-45c8-bceb-7c020a651b59",
        "colab": {
          "base_uri": "https://localhost:8080/"
        }
      },
      "outputs": [
        {
          "output_type": "execute_result",
          "data": {
            "text/plain": [
              "[1, 2, 3, 4, 5, 6, 30, 40, 50]"
            ]
          },
          "metadata": {},
          "execution_count": 27
        }
      ],
      "source": [
        "numbers + numbers2 # concatenate two lists"
      ]
    },
    {
      "cell_type": "markdown",
      "id": "e71bf6a6",
      "metadata": {
        "id": "e71bf6a6"
      },
      "source": [
        "> Add `numbers` to your list    "
      ]
    },
    {
      "cell_type": "code",
      "execution_count": 28,
      "id": "a4e3eaab",
      "metadata": {
        "id": "a4e3eaab",
        "outputId": "6957d4b2-50aa-4f27-d870-07c337f9b504",
        "colab": {
          "base_uri": "https://localhost:8080/"
        }
      },
      "outputs": [
        {
          "output_type": "execute_result",
          "data": {
            "text/plain": [
              "[11, 'A', True, 1, 2, 3, 4, 5, 6]"
            ]
          },
          "metadata": {},
          "execution_count": 28
        }
      ],
      "source": [
        "list1+numbers"
      ]
    },
    {
      "cell_type": "markdown",
      "id": "fdca7e30-19de-4bf8-8864-d63f4170be25",
      "metadata": {
        "id": "fdca7e30-19de-4bf8-8864-d63f4170be25"
      },
      "source": [
        "## Lists can mix types"
      ]
    },
    {
      "cell_type": "code",
      "execution_count": 29,
      "id": "17b45df0-66aa-489b-adea-968aa5b9bf0b",
      "metadata": {
        "id": "17b45df0-66aa-489b-adea-968aa5b9bf0b"
      },
      "outputs": [],
      "source": [
        "myList = ['coconuts', 777, 7.25, 'Sir Robin', 80.0, True]"
      ]
    },
    {
      "cell_type": "code",
      "execution_count": 30,
      "id": "2a87c943-0787-46bb-a5b5-b154af5de805",
      "metadata": {
        "id": "2a87c943-0787-46bb-a5b5-b154af5de805",
        "outputId": "aaf0ffea-4c11-4628-c277-70bfa5243c38",
        "colab": {
          "base_uri": "https://localhost:8080/"
        }
      },
      "outputs": [
        {
          "output_type": "execute_result",
          "data": {
            "text/plain": [
              "['coconuts', 777, 7.25, 'Sir Robin', 80.0, True]"
            ]
          },
          "metadata": {},
          "execution_count": 30
        }
      ],
      "source": [
        "myList"
      ]
    },
    {
      "cell_type": "markdown",
      "id": "a1eb1801-b619-44b8-8fea-f2e320e5a825",
      "metadata": {
        "id": "a1eb1801-b619-44b8-8fea-f2e320e5a825"
      },
      "source": [
        "**What happens if we multiply a list with strings?**"
      ]
    },
    {
      "cell_type": "code",
      "execution_count": 31,
      "id": "ce38d67c-b371-4101-b1af-3bc47e0c3f7b",
      "metadata": {
        "id": "ce38d67c-b371-4101-b1af-3bc47e0c3f7b",
        "outputId": "e06f5a99-514a-4b61-b3ac-73f9a3f15ccf",
        "colab": {
          "base_uri": "https://localhost:8080/"
        }
      },
      "outputs": [
        {
          "output_type": "execute_result",
          "data": {
            "text/plain": [
              "['coconuts',\n",
              " 777,\n",
              " 7.25,\n",
              " 'Sir Robin',\n",
              " 80.0,\n",
              " True,\n",
              " 'coconuts',\n",
              " 777,\n",
              " 7.25,\n",
              " 'Sir Robin',\n",
              " 80.0,\n",
              " True]"
            ]
          },
          "metadata": {},
          "execution_count": 31
        }
      ],
      "source": [
        "myList * 2"
      ]
    },
    {
      "cell_type": "code",
      "execution_count": 32,
      "id": "ca5a7d14",
      "metadata": {
        "id": "ca5a7d14",
        "outputId": "468d38bb-87a0-4667-d0cb-15602f01167e",
        "colab": {
          "base_uri": "https://localhost:8080/",
          "height": 179
        }
      },
      "outputs": [
        {
          "output_type": "error",
          "ename": "TypeError",
          "evalue": "ignored",
          "traceback": [
            "\u001b[0;31m---------------------------------------------------------------------------\u001b[0m",
            "\u001b[0;31mTypeError\u001b[0m                                 Traceback (most recent call last)",
            "\u001b[0;32m<ipython-input-32-ceec0a0b7566>\u001b[0m in \u001b[0;36m<cell line: 1>\u001b[0;34m()\u001b[0m\n\u001b[0;32m----> 1\u001b[0;31m \u001b[0mmyList\u001b[0m \u001b[0;34m*\u001b[0m \u001b[0mmyList\u001b[0m\u001b[0;34m\u001b[0m\u001b[0;34m\u001b[0m\u001b[0m\n\u001b[0m",
            "\u001b[0;31mTypeError\u001b[0m: can't multiply sequence by non-int of type 'list'"
          ]
        }
      ],
      "source": [
        "myList*myList"
      ]
    },
    {
      "cell_type": "markdown",
      "id": "1e72be7f-06cd-40f0-9453-36bd4960f38b",
      "metadata": {
        "tags": [],
        "id": "1e72be7f-06cd-40f0-9453-36bd4960f38b"
      },
      "source": [
        "## Lists can be nested"
      ]
    },
    {
      "cell_type": "code",
      "execution_count": 33,
      "id": "6b455e9c-00ee-42a0-ae74-57e39a6d4b49",
      "metadata": {
        "id": "6b455e9c-00ee-42a0-ae74-57e39a6d4b49",
        "outputId": "5908bbc8-8168-4f03-f1c1-d242f8c79ef1",
        "colab": {
          "base_uri": "https://localhost:8080/"
        }
      },
      "outputs": [
        {
          "output_type": "stream",
          "name": "stdout",
          "text": [
            "['Billie', 'Arthur']\n",
            "Darrell\n"
          ]
        }
      ],
      "source": [
        "names = ['Darrell', 'Clayton', ['Billie', 'Arthur'], 'Samantha']\n",
        "print(names[2]) # returns a *list*\n",
        "print(names[0]) # returns a *string*"
      ]
    },
    {
      "cell_type": "markdown",
      "id": "38732195-9987-4845-8ef1-8154bcced82d",
      "metadata": {
        "tags": [],
        "id": "38732195-9987-4845-8ef1-8154bcced82d"
      },
      "source": [
        "# Dictionaries `dict`\n",
        "\n",
        "Like a hash table, containing key-value pairs.\n",
        "\n",
        "Elements are indexed using brackets `[]` (like lists).\n",
        "\n",
        "But they are constructed used braces `{}` or `dict()`.\n",
        "\n",
        "Key names must be unique. If you re-use a key, you overwrite its value.\n",
        "\n",
        "Keys don't have to be strings -- they can be numbers or tuples or expressions that evaluate to one of these."
      ]
    },
    {
      "cell_type": "markdown",
      "id": "d0760dc2-ae63-4ab7-805c-d4ba6cfd143e",
      "metadata": {
        "id": "d0760dc2-ae63-4ab7-805c-d4ba6cfd143e"
      },
      "source": [
        "### Constructing"
      ]
    },
    {
      "cell_type": "code",
      "execution_count": 34,
      "id": "3c40a687-9635-42e9-9590-6e5b608fe16d",
      "metadata": {
        "id": "3c40a687-9635-42e9-9590-6e5b608fe16d"
      },
      "outputs": [],
      "source": [
        "dictionary1 = {\n",
        "    'a': 1,\n",
        "    'b': 2,\n",
        "    'c': 3\n",
        "}"
      ]
    },
    {
      "cell_type": "code",
      "execution_count": 35,
      "id": "5a41a0f9-3a07-4c48-8702-7e66110abd19",
      "metadata": {
        "id": "5a41a0f9-3a07-4c48-8702-7e66110abd19"
      },
      "outputs": [],
      "source": [
        "dictionary2 = dict(x=55, y=29, z=99) # Note the absence of quotes around keys"
      ]
    },
    {
      "cell_type": "code",
      "execution_count": 36,
      "id": "928109fa-925a-4dff-a090-476dc5f3cbec",
      "metadata": {
        "id": "928109fa-925a-4dff-a090-476dc5f3cbec",
        "outputId": "e4414a93-7cfd-41a5-8100-0c73c8d866aa",
        "colab": {
          "base_uri": "https://localhost:8080/"
        }
      },
      "outputs": [
        {
          "output_type": "execute_result",
          "data": {
            "text/plain": [
              "{'x': 55, 'y': 29, 'z': 99}"
            ]
          },
          "metadata": {},
          "execution_count": 36
        }
      ],
      "source": [
        "dictionary2"
      ]
    },
    {
      "cell_type": "code",
      "execution_count": 37,
      "id": "d6bc0b2d-34ab-46c4-9057-40649ead16cb",
      "metadata": {
        "id": "d6bc0b2d-34ab-46c4-9057-40649ead16cb"
      },
      "outputs": [],
      "source": [
        "dictionary3 = {'A': 'foo', 99: 'bar', (1,2): 'baz'}"
      ]
    },
    {
      "cell_type": "code",
      "execution_count": 38,
      "id": "0489d1f9-be2e-4d39-b30f-f15f00b5e919",
      "metadata": {
        "id": "0489d1f9-be2e-4d39-b30f-f15f00b5e919",
        "outputId": "88e37492-a6c7-4f99-b5a3-ed87572c2deb",
        "colab": {
          "base_uri": "https://localhost:8080/"
        }
      },
      "outputs": [
        {
          "output_type": "execute_result",
          "data": {
            "text/plain": [
              "{'A': 'foo', 99: 'bar', (1, 2): 'baz'}"
            ]
          },
          "metadata": {},
          "execution_count": 38
        }
      ],
      "source": [
        "dictionary3"
      ]
    },
    {
      "cell_type": "markdown",
      "id": "624cd83e-4b7b-4bc0-9c76-d33bd40a1633",
      "metadata": {
        "id": "624cd83e-4b7b-4bc0-9c76-d33bd40a1633"
      },
      "source": [
        "### Retrieve a value\n",
        "\n",
        "Just write a key as the *index*."
      ]
    },
    {
      "cell_type": "code",
      "execution_count": 39,
      "id": "39bc8222-fe71-490f-8b53-fa1352221948",
      "metadata": {
        "id": "39bc8222-fe71-490f-8b53-fa1352221948"
      },
      "outputs": [],
      "source": [
        "phonelist = {'Tom':123, 'Bob':456, 'Sam':897}"
      ]
    },
    {
      "cell_type": "code",
      "execution_count": 40,
      "id": "12ca56b5-2bb4-4482-9002-3449b6e68f04",
      "metadata": {
        "id": "12ca56b5-2bb4-4482-9002-3449b6e68f04",
        "outputId": "2760deda-3f39-4b49-9da4-5084c0a07d53",
        "colab": {
          "base_uri": "https://localhost:8080/"
        }
      },
      "outputs": [
        {
          "output_type": "execute_result",
          "data": {
            "text/plain": [
              "456"
            ]
          },
          "metadata": {},
          "execution_count": 40
        }
      ],
      "source": [
        "phonelist['Bob']"
      ]
    },
    {
      "cell_type": "markdown",
      "id": "21f76a54-54b4-4937-a262-c89d9cd936bf",
      "metadata": {
        "id": "21f76a54-54b4-4937-a262-c89d9cd936bf"
      },
      "source": [
        "### Print list of keys, values, or both\n",
        "\n",
        "Use the `.keys()`, `.values()`, or `.items()` methods.\n",
        "\n",
        "Keys are not sorted. They print in the order entered."
      ]
    },
    {
      "cell_type": "markdown",
      "id": "35f0b2cd",
      "metadata": {
        "id": "35f0b2cd"
      },
      "source": [
        "`.keys()`"
      ]
    },
    {
      "cell_type": "code",
      "execution_count": 41,
      "id": "47ed6e92-2c4c-4f3c-8435-7e27a191ccab",
      "metadata": {
        "id": "47ed6e92-2c4c-4f3c-8435-7e27a191ccab",
        "outputId": "5accf082-713b-4785-e095-9c313908d1ee",
        "colab": {
          "base_uri": "https://localhost:8080/"
        }
      },
      "outputs": [
        {
          "output_type": "execute_result",
          "data": {
            "text/plain": [
              "dict_keys(['Tom', 'Bob', 'Sam'])"
            ]
          },
          "metadata": {},
          "execution_count": 41
        }
      ],
      "source": [
        "phonelist.keys() # Returns a list"
      ]
    },
    {
      "cell_type": "markdown",
      "id": "783c7600",
      "metadata": {
        "id": "783c7600"
      },
      "source": [
        "`.values()`"
      ]
    },
    {
      "cell_type": "code",
      "execution_count": 42,
      "id": "ae19e277-e929-46ad-ab27-2715a05243a7",
      "metadata": {
        "id": "ae19e277-e929-46ad-ab27-2715a05243a7",
        "outputId": "cbced5ea-84cc-4697-ae06-5e3ea50023ae",
        "colab": {
          "base_uri": "https://localhost:8080/"
        }
      },
      "outputs": [
        {
          "output_type": "execute_result",
          "data": {
            "text/plain": [
              "dict_values([123, 456, 897])"
            ]
          },
          "metadata": {},
          "execution_count": 42
        }
      ],
      "source": [
        "phonelist.values() # Returns a list"
      ]
    },
    {
      "cell_type": "markdown",
      "id": "8a05ac9a",
      "metadata": {
        "id": "8a05ac9a"
      },
      "source": [
        "`.items()`"
      ]
    },
    {
      "cell_type": "code",
      "execution_count": 43,
      "id": "292b5fee-68db-42b6-af5e-7c4ef14c384a",
      "metadata": {
        "id": "292b5fee-68db-42b6-af5e-7c4ef14c384a",
        "outputId": "8b89ae55-e341-4a5d-aaaa-20e854bc7b83",
        "colab": {
          "base_uri": "https://localhost:8080/"
        }
      },
      "outputs": [
        {
          "output_type": "execute_result",
          "data": {
            "text/plain": [
              "dict_items([('Tom', 123), ('Bob', 456), ('Sam', 897)])"
            ]
          },
          "metadata": {},
          "execution_count": 43
        }
      ],
      "source": [
        "phonelist.items() # Returns a list of tuples"
      ]
    },
    {
      "cell_type": "code",
      "execution_count": 44,
      "id": "fa4bb854-314e-4226-af57-379ac722c0e8",
      "metadata": {
        "id": "fa4bb854-314e-4226-af57-379ac722c0e8",
        "outputId": "6fc9ffbe-f275-4ff7-f1d7-b17657115e08",
        "colab": {
          "base_uri": "https://localhost:8080/"
        }
      },
      "outputs": [
        {
          "output_type": "execute_result",
          "data": {
            "text/plain": [
              "{'Tom': 123, 'Bob': 456, 'Sam': 897}"
            ]
          },
          "metadata": {},
          "execution_count": 44
        }
      ],
      "source": [
        "phonelist"
      ]
    },
    {
      "cell_type": "markdown",
      "id": "e5e1a406",
      "metadata": {
        "id": "e5e1a406"
      },
      "source": [
        "Example of sorting keys using a **For Loop**"
      ]
    },
    {
      "cell_type": "code",
      "execution_count": 45,
      "id": "05e77ecd",
      "metadata": {
        "id": "05e77ecd",
        "outputId": "2cc79c5b-56ac-465b-bb2f-869164b88118",
        "colab": {
          "base_uri": "https://localhost:8080/"
        }
      },
      "outputs": [
        {
          "output_type": "stream",
          "name": "stdout",
          "text": [
            "Bob\n",
            "Sam\n",
            "Tom\n"
          ]
        }
      ],
      "source": [
        "for key in sorted(phonelist.keys()):\n",
        "    print(key)"
      ]
    },
    {
      "cell_type": "markdown",
      "id": "e1c90780-7058-4623-a1a1-c5301f5771c6",
      "metadata": {
        "tags": [],
        "id": "e1c90780-7058-4623-a1a1-c5301f5771c6"
      },
      "source": [
        "# Tuples\n",
        "\n",
        "A tuple is like a list but with one big difference: **a tuple is an immutable object!**\n",
        "\n",
        "You can't change a tuple once it's created.\n",
        "\n",
        "A tuple can contain any number of elements of any datatype.\n",
        "\n",
        "Accessed with brackets `[]` but constructed with or without parentheses `()`."
      ]
    },
    {
      "cell_type": "code",
      "execution_count": 46,
      "id": "d8683806-f03c-4663-86e6-e1345ee4f53c",
      "metadata": {
        "id": "d8683806-f03c-4663-86e6-e1345ee4f53c",
        "outputId": "956d6bdb-722a-41c5-8406-568b92a82184",
        "colab": {
          "base_uri": "https://localhost:8080/"
        }
      },
      "outputs": [
        {
          "output_type": "execute_result",
          "data": {
            "text/plain": [
              "[1, 2, 3, 30, 5, 6]"
            ]
          },
          "metadata": {},
          "execution_count": 46
        }
      ],
      "source": [
        "numbers[3] = 30\n",
        "numbers"
      ]
    },
    {
      "cell_type": "code",
      "execution_count": 47,
      "id": "9998596e",
      "metadata": {
        "id": "9998596e",
        "outputId": "0fd4ed71-c003-41e7-fb3d-7d567a9e95e3",
        "colab": {
          "base_uri": "https://localhost:8080/",
          "height": 214
        }
      },
      "outputs": [
        {
          "output_type": "error",
          "ename": "TypeError",
          "evalue": "ignored",
          "traceback": [
            "\u001b[0;31m---------------------------------------------------------------------------\u001b[0m",
            "\u001b[0;31mTypeError\u001b[0m                                 Traceback (most recent call last)",
            "\u001b[0;32m<ipython-input-47-ba77ea8708a3>\u001b[0m in \u001b[0;36m<cell line: 3>\u001b[0;34m()\u001b[0m\n\u001b[1;32m      1\u001b[0m \u001b[0;31m# tuples are immutable\u001b[0m\u001b[0;34m\u001b[0m\u001b[0;34m\u001b[0m\u001b[0m\n\u001b[1;32m      2\u001b[0m \u001b[0mnumbers4\u001b[0m \u001b[0;34m=\u001b[0m \u001b[0;34m(\u001b[0m\u001b[0;36m26\u001b[0m\u001b[0;34m,\u001b[0m \u001b[0;36m27\u001b[0m\u001b[0;34m,\u001b[0m \u001b[0;36m28\u001b[0m\u001b[0;34m)\u001b[0m\u001b[0;34m\u001b[0m\u001b[0;34m\u001b[0m\u001b[0m\n\u001b[0;32m----> 3\u001b[0;31m \u001b[0mnumbers4\u001b[0m\u001b[0;34m[\u001b[0m\u001b[0;36m2\u001b[0m\u001b[0;34m]\u001b[0m \u001b[0;34m=\u001b[0m \u001b[0;36m30\u001b[0m\u001b[0;34m\u001b[0m\u001b[0;34m\u001b[0m\u001b[0m\n\u001b[0m",
            "\u001b[0;31mTypeError\u001b[0m: 'tuple' object does not support item assignment"
          ]
        }
      ],
      "source": [
        "# tuples are immutable\n",
        "numbers4 = (26, 27, 28)\n",
        "numbers4[2] = 30"
      ]
    },
    {
      "cell_type": "markdown",
      "id": "59eb44f3-ff39-4285-a980-9a29eea56387",
      "metadata": {
        "tags": [],
        "id": "59eb44f3-ff39-4285-a980-9a29eea56387"
      },
      "source": [
        "## Constructing\n",
        "\n",
        "Created with comma-separated values, with or without parentheses.\n"
      ]
    },
    {
      "cell_type": "code",
      "execution_count": 48,
      "id": "378ed89f-0e0b-4408-ad48-b1e5d56c0c48",
      "metadata": {
        "id": "378ed89f-0e0b-4408-ad48-b1e5d56c0c48"
      },
      "outputs": [],
      "source": [
        "letters = 'a', 'b', 'c', 'd'"
      ]
    },
    {
      "cell_type": "code",
      "execution_count": 49,
      "id": "626c8760-4ced-490b-8a99-58b087ec9563",
      "metadata": {
        "id": "626c8760-4ced-490b-8a99-58b087ec9563",
        "outputId": "38103028-a513-4ad0-fbe1-2de3f6f12690",
        "colab": {
          "base_uri": "https://localhost:8080/"
        }
      },
      "outputs": [
        {
          "output_type": "execute_result",
          "data": {
            "text/plain": [
              "('a', 'b', 'c', 'd')"
            ]
          },
          "metadata": {},
          "execution_count": 49
        }
      ],
      "source": [
        "letters"
      ]
    },
    {
      "cell_type": "code",
      "execution_count": 50,
      "id": "2f2d72be-39d5-4495-8ac3-1f8aa18c28b6",
      "metadata": {
        "id": "2f2d72be-39d5-4495-8ac3-1f8aa18c28b6"
      },
      "outputs": [],
      "source": [
        "numbers = (1,2,3,4) # numbers 1,2,3,4 stored in a tuple"
      ]
    },
    {
      "cell_type": "markdown",
      "id": "5559a519-ed9f-4ba1-b9cb-2014b4265f3f",
      "metadata": {
        "id": "5559a519-ed9f-4ba1-b9cb-2014b4265f3f"
      },
      "source": [
        "A single valued tuple must include a comma `,`, e.g."
      ]
    },
    {
      "cell_type": "code",
      "execution_count": null,
      "id": "fd0488fa-7a8a-464c-ad0a-7bc6b328ca69",
      "metadata": {
        "id": "fd0488fa-7a8a-464c-ad0a-7bc6b328ca69"
      },
      "outputs": [],
      "source": [
        "# missing the comma\n",
        "tuple0 = (29)"
      ]
    },
    {
      "cell_type": "code",
      "execution_count": 51,
      "id": "01420088-8f1b-480b-9961-109fb168100e",
      "metadata": {
        "id": "01420088-8f1b-480b-9961-109fb168100e",
        "outputId": "6c412070-0b3f-4a63-fd53-7cdaddd478e9",
        "colab": {
          "base_uri": "https://localhost:8080/",
          "height": 179
        }
      },
      "outputs": [
        {
          "output_type": "error",
          "ename": "NameError",
          "evalue": "ignored",
          "traceback": [
            "\u001b[0;31m---------------------------------------------------------------------------\u001b[0m",
            "\u001b[0;31mNameError\u001b[0m                                 Traceback (most recent call last)",
            "\u001b[0;32m<ipython-input-51-26fb5f17b05c>\u001b[0m in \u001b[0;36m<cell line: 1>\u001b[0;34m()\u001b[0m\n\u001b[0;32m----> 1\u001b[0;31m \u001b[0mtuple0\u001b[0m\u001b[0;34m,\u001b[0m \u001b[0mtype\u001b[0m\u001b[0;34m(\u001b[0m\u001b[0mtuple0\u001b[0m\u001b[0;34m)\u001b[0m\u001b[0;34m\u001b[0m\u001b[0;34m\u001b[0m\u001b[0m\n\u001b[0m",
            "\u001b[0;31mNameError\u001b[0m: name 'tuple0' is not defined"
          ]
        }
      ],
      "source": [
        "tuple0, type(tuple0)"
      ]
    },
    {
      "cell_type": "code",
      "execution_count": 52,
      "id": "d975e57a-4598-433e-ac5d-f0a3b67dd77c",
      "metadata": {
        "id": "d975e57a-4598-433e-ac5d-f0a3b67dd77c"
      },
      "outputs": [],
      "source": [
        "# comma included\n",
        "tuple1 = (29,)"
      ]
    },
    {
      "cell_type": "code",
      "execution_count": 53,
      "id": "f31b8940-ff95-4b99-a5cf-b7cb6d7fb0b9",
      "metadata": {
        "id": "f31b8940-ff95-4b99-a5cf-b7cb6d7fb0b9",
        "outputId": "51beabbb-d301-4f0a-a409-3a4170c7098c",
        "colab": {
          "base_uri": "https://localhost:8080/"
        }
      },
      "outputs": [
        {
          "output_type": "execute_result",
          "data": {
            "text/plain": [
              "((29,), tuple)"
            ]
          },
          "metadata": {},
          "execution_count": 53
        }
      ],
      "source": [
        "tuple1, type(tuple1)"
      ]
    },
    {
      "cell_type": "code",
      "execution_count": 55,
      "id": "6698b95f-979e-45f4-a22a-421fb9519083",
      "metadata": {
        "jp-MarkdownHeadingCollapsed": true,
        "tags": [],
        "id": "6698b95f-979e-45f4-a22a-421fb9519083",
        "outputId": "fbd4f1e5-5c68-4cfc-d35f-58a1fcae9285",
        "colab": {
          "base_uri": "https://localhost:8080/",
          "height": 197
        }
      },
      "outputs": [
        {
          "output_type": "error",
          "ename": "TypeError",
          "evalue": "ignored",
          "traceback": [
            "\u001b[0;31m---------------------------------------------------------------------------\u001b[0m",
            "\u001b[0;31mTypeError\u001b[0m                                 Traceback (most recent call last)",
            "\u001b[0;32m<ipython-input-55-9c1900008aed>\u001b[0m in \u001b[0;36m<cell line: 2>\u001b[0;34m()\u001b[0m\n\u001b[1;32m      1\u001b[0m \u001b[0;31m# attempting to reassign a tuple value\u001b[0m\u001b[0;34m\u001b[0m\u001b[0;34m\u001b[0m\u001b[0m\n\u001b[0;32m----> 2\u001b[0;31m \u001b[0mnumbers\u001b[0m\u001b[0;34m[\u001b[0m\u001b[0;36m0\u001b[0m\u001b[0;34m]\u001b[0m \u001b[0;34m=\u001b[0m \u001b[0;36m5\u001b[0m \u001b[0;31m# Trying to assign a new value 5 to the first position\u001b[0m\u001b[0;34m\u001b[0m\u001b[0;34m\u001b[0m\u001b[0m\n\u001b[0m",
            "\u001b[0;31mTypeError\u001b[0m: 'tuple' object does not support item assignment"
          ]
        }
      ],
      "source": [
        "# attempting to reassign a tuple value\n",
        "numbers[0] = 5 # Trying to assign a new value 5 to the first position"
      ]
    },
    {
      "cell_type": "markdown",
      "id": "36c918da",
      "metadata": {
        "id": "36c918da"
      },
      "source": [
        "> List one important attribute of list, dictionary, and tuple\n",
        "A list can mix data types\n",
        "A dictionary is made up of key value pairs\n",
        "A tuple is immutable, i.e it cannot be changed."
      ]
    },
    {
      "cell_type": "markdown",
      "id": "32f2c01f",
      "metadata": {
        "id": "32f2c01f"
      },
      "source": []
    },
    {
      "cell_type": "markdown",
      "id": "7ac8c7fc-9b22-4d08-9fd7-246cad70b649",
      "metadata": {
        "tags": [],
        "id": "7ac8c7fc-9b22-4d08-9fd7-246cad70b649"
      },
      "source": [
        "# Common functions and methods to all sequences\n",
        "\n",
        "```\n",
        "len()\n",
        "in\n",
        "+\n",
        "*\n",
        "```"
      ]
    },
    {
      "cell_type": "code",
      "execution_count": 56,
      "id": "ebc407b8-41f4-4fc4-9225-6cfa5bc6e953",
      "metadata": {
        "id": "ebc407b8-41f4-4fc4-9225-6cfa5bc6e953",
        "outputId": "cfa78a91-e2a8-4661-816b-0ab814a39ae6",
        "colab": {
          "base_uri": "https://localhost:8080/"
        }
      },
      "outputs": [
        {
          "output_type": "execute_result",
          "data": {
            "text/plain": [
              "[1, 3, 1, 3, 1, 3, 1, 3, 1, 3, 1, 3, 1, 3, 1, 3]"
            ]
          },
          "metadata": {},
          "execution_count": 56
        }
      ],
      "source": [
        "[1, 3] * 8"
      ]
    },
    {
      "cell_type": "code",
      "execution_count": 57,
      "id": "ceed3a1b-7d04-4f9e-8679-d7f18287f3c6",
      "metadata": {
        "id": "ceed3a1b-7d04-4f9e-8679-d7f18287f3c6",
        "outputId": "f6690094-91a4-4fb9-e82c-80d33d6f3846",
        "colab": {
          "base_uri": "https://localhost:8080/"
        }
      },
      "outputs": [
        {
          "output_type": "execute_result",
          "data": {
            "text/plain": [
              "(1, 3, 1, 3, 1, 3, 1, 3, 1, 3, 1, 3, 1, 3, 1, 3)"
            ]
          },
          "metadata": {},
          "execution_count": 57
        }
      ],
      "source": [
        "(1, 3) * 8"
      ]
    },
    {
      "cell_type": "markdown",
      "id": "8eb49046-abfc-4a29-8c15-24a2a2f25e85",
      "metadata": {
        "tags": [],
        "id": "8eb49046-abfc-4a29-8c15-24a2a2f25e85"
      },
      "source": [
        "## Membership with `in`\n",
        "\n",
        "Returns a boolean."
      ]
    },
    {
      "cell_type": "code",
      "execution_count": 58,
      "id": "ffda4677-405a-4479-81fe-0b274f0cf640",
      "metadata": {
        "id": "ffda4677-405a-4479-81fe-0b274f0cf640",
        "outputId": "e4798741-efd8-487e-ed49-a178fa3dd705",
        "colab": {
          "base_uri": "https://localhost:8080/"
        }
      },
      "outputs": [
        {
          "output_type": "execute_result",
          "data": {
            "text/plain": [
              "True"
            ]
          },
          "metadata": {},
          "execution_count": 58
        }
      ],
      "source": [
        "'Sam' in phonelist"
      ]
    },
    {
      "cell_type": "markdown",
      "id": "d0bfdd0f-d38c-4121-b8fd-f3e3400af809",
      "metadata": {
        "id": "d0bfdd0f-d38c-4121-b8fd-f3e3400af809"
      },
      "source": [
        "# Sets\n",
        "\n",
        "A `set` is an unordered collection of unique objects.\n",
        "\n",
        "They are subject to set operations."
      ]
    },
    {
      "cell_type": "code",
      "execution_count": 59,
      "id": "e67e33ff-7f03-4b99-a95e-fad0c80a04c3",
      "metadata": {
        "id": "e67e33ff-7f03-4b99-a95e-fad0c80a04c3"
      },
      "outputs": [],
      "source": [
        "peanuts = {'snoopy','snoopy','woodstock'}"
      ]
    },
    {
      "cell_type": "code",
      "execution_count": 60,
      "id": "197eebed-71a9-4a89-8dbf-3dd2d73a29ac",
      "metadata": {
        "id": "197eebed-71a9-4a89-8dbf-3dd2d73a29ac",
        "outputId": "48a20603-e948-421f-801f-0298ea228085",
        "colab": {
          "base_uri": "https://localhost:8080/"
        }
      },
      "outputs": [
        {
          "output_type": "execute_result",
          "data": {
            "text/plain": [
              "{'snoopy', 'woodstock'}"
            ]
          },
          "metadata": {},
          "execution_count": 60
        }
      ],
      "source": [
        "peanuts"
      ]
    },
    {
      "cell_type": "markdown",
      "id": "7c1bbeda-d23d-4b87-83a9-d3f843953419",
      "metadata": {
        "id": "7c1bbeda-d23d-4b87-83a9-d3f843953419"
      },
      "source": [
        "Note the set is deduped\n",
        "\n",
        "Since sets are unordered, they don't have an index. This will break:"
      ]
    },
    {
      "cell_type": "code",
      "execution_count": 61,
      "id": "65370579-21be-4623-9c45-f37bccee907a",
      "metadata": {
        "id": "65370579-21be-4623-9c45-f37bccee907a",
        "outputId": "366b901f-8592-45f1-b0d8-3becaa1dcb10",
        "colab": {
          "base_uri": "https://localhost:8080/",
          "height": 179
        }
      },
      "outputs": [
        {
          "output_type": "error",
          "ename": "TypeError",
          "evalue": "ignored",
          "traceback": [
            "\u001b[0;31m---------------------------------------------------------------------------\u001b[0m",
            "\u001b[0;31mTypeError\u001b[0m                                 Traceback (most recent call last)",
            "\u001b[0;32m<ipython-input-61-e29b821fb567>\u001b[0m in \u001b[0;36m<cell line: 1>\u001b[0;34m()\u001b[0m\n\u001b[0;32m----> 1\u001b[0;31m \u001b[0mpeanuts\u001b[0m\u001b[0;34m[\u001b[0m\u001b[0;36m0\u001b[0m\u001b[0;34m]\u001b[0m\u001b[0;34m\u001b[0m\u001b[0;34m\u001b[0m\u001b[0m\n\u001b[0m",
            "\u001b[0;31mTypeError\u001b[0m: 'set' object is not subscriptable"
          ]
        }
      ],
      "source": [
        "peanuts[0]"
      ]
    },
    {
      "cell_type": "code",
      "execution_count": 62,
      "id": "685ebf06-7e74-42bc-b49b-f1c3f5272aa8",
      "metadata": {
        "id": "685ebf06-7e74-42bc-b49b-f1c3f5272aa8",
        "outputId": "1d22ca5a-13bb-4064-867d-f3c212043030",
        "colab": {
          "base_uri": "https://localhost:8080/"
        }
      },
      "outputs": [
        {
          "output_type": "stream",
          "name": "stdout",
          "text": [
            "snoopy\n",
            "woodstock\n"
          ]
        }
      ],
      "source": [
        "for peanut in peanuts:\n",
        "    print(peanut)"
      ]
    },
    {
      "cell_type": "markdown",
      "id": "dbde2ea0-9891-4dc7-953a-39db86deb82a",
      "metadata": {
        "id": "dbde2ea0-9891-4dc7-953a-39db86deb82a"
      },
      "source": [
        "**Check if a value is in the set using `in`**"
      ]
    },
    {
      "cell_type": "code",
      "execution_count": 63,
      "id": "72495cad-a5c9-44b4-a023-4ee45086053e",
      "metadata": {
        "id": "72495cad-a5c9-44b4-a023-4ee45086053e",
        "outputId": "c892da45-ae22-437d-c686-b1f9b1b11d9d",
        "colab": {
          "base_uri": "https://localhost:8080/"
        }
      },
      "outputs": [
        {
          "output_type": "execute_result",
          "data": {
            "text/plain": [
              "True"
            ]
          },
          "metadata": {},
          "execution_count": 63
        }
      ],
      "source": [
        "'snoopy' in peanuts"
      ]
    },
    {
      "cell_type": "markdown",
      "id": "34e5ace8-9af9-4589-b0c3-f800905e4f40",
      "metadata": {
        "id": "34e5ace8-9af9-4589-b0c3-f800905e4f40"
      },
      "source": [
        "Combine two sets"
      ]
    },
    {
      "cell_type": "code",
      "execution_count": 64,
      "id": "0f99fdee-7f2c-4822-b236-01fd6bb00726",
      "metadata": {
        "id": "0f99fdee-7f2c-4822-b236-01fd6bb00726"
      },
      "outputs": [],
      "source": [
        "set1 = {'python','R'}\n",
        "set2 = {'R','SQL'}"
      ]
    },
    {
      "cell_type": "markdown",
      "id": "e2752287-76ed-45f3-addf-516266f519ea",
      "metadata": {
        "id": "e2752287-76ed-45f3-addf-516266f519ea"
      },
      "source": [
        "This fails:"
      ]
    },
    {
      "cell_type": "code",
      "execution_count": 65,
      "id": "7a962b44-b939-4b07-9266-458a1d6868c6",
      "metadata": {
        "id": "7a962b44-b939-4b07-9266-458a1d6868c6",
        "outputId": "a04e6a76-c3c7-4f18-c7b3-5107ca6ab2bd",
        "colab": {
          "base_uri": "https://localhost:8080/",
          "height": 179
        }
      },
      "outputs": [
        {
          "output_type": "error",
          "ename": "TypeError",
          "evalue": "ignored",
          "traceback": [
            "\u001b[0;31m---------------------------------------------------------------------------\u001b[0m",
            "\u001b[0;31mTypeError\u001b[0m                                 Traceback (most recent call last)",
            "\u001b[0;32m<ipython-input-65-2236669a2fa1>\u001b[0m in \u001b[0;36m<cell line: 1>\u001b[0;34m()\u001b[0m\n\u001b[0;32m----> 1\u001b[0;31m \u001b[0mset1\u001b[0m \u001b[0;34m+\u001b[0m \u001b[0mset2\u001b[0m\u001b[0;34m\u001b[0m\u001b[0;34m\u001b[0m\u001b[0m\n\u001b[0m",
            "\u001b[0;31mTypeError\u001b[0m: unsupported operand type(s) for +: 'set' and 'set'"
          ]
        }
      ],
      "source": [
        "set1 + set2"
      ]
    },
    {
      "cell_type": "markdown",
      "id": "8030ff7a-51f1-4487-acad-cef38ac030b7",
      "metadata": {
        "id": "8030ff7a-51f1-4487-acad-cef38ac030b7"
      },
      "source": [
        "This succeeds:"
      ]
    },
    {
      "cell_type": "code",
      "execution_count": 66,
      "id": "3b941371-1958-42ff-9c87-48777ded63d8",
      "metadata": {
        "id": "3b941371-1958-42ff-9c87-48777ded63d8",
        "outputId": "5d06379d-f983-4570-92df-b35c104327cc",
        "colab": {
          "base_uri": "https://localhost:8080/"
        }
      },
      "outputs": [
        {
          "output_type": "execute_result",
          "data": {
            "text/plain": [
              "{'R', 'SQL', 'python'}"
            ]
          },
          "metadata": {},
          "execution_count": 66
        }
      ],
      "source": [
        "set1.union(set2)"
      ]
    },
    {
      "cell_type": "markdown",
      "id": "8f17e6aa-4155-4c63-a411-239d54273f42",
      "metadata": {
        "id": "8f17e6aa-4155-4c63-a411-239d54273f42"
      },
      "source": [
        "Get the set intersection"
      ]
    },
    {
      "cell_type": "code",
      "execution_count": 67,
      "id": "3b5f2b4e-06f8-48e5-a222-5344c5e489b1",
      "metadata": {
        "id": "3b5f2b4e-06f8-48e5-a222-5344c5e489b1",
        "outputId": "f64910c6-4f6d-4a6f-dff7-d347b35b22f3",
        "colab": {
          "base_uri": "https://localhost:8080/"
        }
      },
      "outputs": [
        {
          "output_type": "execute_result",
          "data": {
            "text/plain": [
              "{'R'}"
            ]
          },
          "metadata": {},
          "execution_count": 67
        }
      ],
      "source": [
        "set1.intersection(set2)"
      ]
    },
    {
      "cell_type": "markdown",
      "id": "2237ecae-9123-4151-ab14-63451d556aad",
      "metadata": {
        "tags": [],
        "id": "2237ecae-9123-4151-ab14-63451d556aad"
      },
      "source": [
        "# Ranges\n",
        "\n",
        "A range is a sequence of integers, from `start` to `stop` by `step`.\n",
        "- The `start` point is zero by default.  \n",
        "- The `step` is one by default.  \n",
        "- The `stop` point is NOT included.  "
      ]
    },
    {
      "cell_type": "markdown",
      "id": "7a3faa4d-b8d2-4d15-a23c-74fa656cd86c",
      "metadata": {
        "id": "7a3faa4d-b8d2-4d15-a23c-74fa656cd86c"
      },
      "source": [
        "Ranges can be assigned to a variable."
      ]
    },
    {
      "cell_type": "code",
      "execution_count": 68,
      "id": "60e92444-c947-4e06-890f-69098dc3ac52",
      "metadata": {
        "id": "60e92444-c947-4e06-890f-69098dc3ac52",
        "outputId": "2bfa97d9-66d7-4303-8212-59f32f0f8707",
        "colab": {
          "base_uri": "https://localhost:8080/"
        }
      },
      "outputs": [
        {
          "output_type": "execute_result",
          "data": {
            "text/plain": [
              "range(0, 5)"
            ]
          },
          "metadata": {},
          "execution_count": 68
        }
      ],
      "source": [
        "rng = range(5)\n",
        "rng"
      ]
    },
    {
      "cell_type": "markdown",
      "id": "68f9fc31-e4d4-435b-864b-3ffc8be02709",
      "metadata": {
        "id": "68f9fc31-e4d4-435b-864b-3ffc8be02709"
      },
      "source": [
        "More often, ranges are used in iterations, which we will cover later."
      ]
    },
    {
      "cell_type": "code",
      "execution_count": 69,
      "id": "1a2cc0db-3167-423e-b391-fa0a0a3eb1e7",
      "metadata": {
        "id": "1a2cc0db-3167-423e-b391-fa0a0a3eb1e7",
        "outputId": "cedaa6eb-bba9-4503-f5a4-55ef0c29181a",
        "colab": {
          "base_uri": "https://localhost:8080/"
        }
      },
      "outputs": [
        {
          "output_type": "stream",
          "name": "stdout",
          "text": [
            "0\n",
            "1\n",
            "2\n",
            "3\n",
            "4\n"
          ]
        }
      ],
      "source": [
        "for rn in rng:\n",
        "    print(rn)"
      ]
    },
    {
      "cell_type": "markdown",
      "id": "0cc0d38e-7e61-4e20-b991-b7bae5a36c90",
      "metadata": {
        "id": "0cc0d38e-7e61-4e20-b991-b7bae5a36c90"
      },
      "source": [
        "another range:"
      ]
    },
    {
      "cell_type": "code",
      "execution_count": 70,
      "id": "54b9d3ca-7e6f-4531-b514-10750087322c",
      "metadata": {
        "id": "54b9d3ca-7e6f-4531-b514-10750087322c",
        "outputId": "bee6fe0e-e941-412e-9e30-4c55b6d83270",
        "colab": {
          "base_uri": "https://localhost:8080/"
        }
      },
      "outputs": [
        {
          "output_type": "stream",
          "name": "stdout",
          "text": [
            "1\n",
            "3\n",
            "5\n",
            "7\n",
            "9\n"
          ]
        }
      ],
      "source": [
        "rangy = range(1, 11, 2)\n",
        "for rn in rangy:\n",
        "    print(rn)"
      ]
    }
  ],
  "metadata": {
    "kernelspec": {
      "display_name": "Python 3 (ipykernel)",
      "language": "python",
      "name": "python3"
    },
    "language_info": {
      "codemirror_mode": {
        "name": "ipython",
        "version": 3
      },
      "file_extension": ".py",
      "mimetype": "text/x-python",
      "name": "python",
      "nbconvert_exporter": "python",
      "pygments_lexer": "ipython3",
      "version": "3.9.6"
    },
    "vscode": {
      "interpreter": {
        "hash": "31f2aee4e71d21fbe5cf8b01ff0e069b9275f58929596ceb00d14d90e3e16cd6"
      }
    },
    "colab": {
      "provenance": [],
      "include_colab_link": true
    }
  },
  "nbformat": 4,
  "nbformat_minor": 5
}