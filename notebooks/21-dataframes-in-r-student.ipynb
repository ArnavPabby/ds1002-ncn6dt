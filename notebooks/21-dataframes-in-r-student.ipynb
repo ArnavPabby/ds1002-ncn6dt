{
  "nbformat": 4,
  "nbformat_minor": 0,
  "metadata": {
    "colab": {
      "provenance": [],
      "include_colab_link": true
    },
    "kernelspec": {
      "name": "ir",
      "display_name": "R"
    },
    "language_info": {
      "name": "R"
    }
  },
  "cells": [
    {
      "cell_type": "markdown",
      "metadata": {
        "id": "view-in-github",
        "colab_type": "text"
      },
      "source": [
        "<a href=\"https://colab.research.google.com/github/ArnavPabby/ds1002-ncn6dt/blob/main/notebooks/21-dataframes-in-r-student.ipynb\" target=\"_parent\"><img src=\"https://colab.research.google.com/assets/colab-badge.svg\" alt=\"Open In Colab\"/></a>"
      ]
    },
    {
      "cell_type": "markdown",
      "source": [
        "# Data Frames in R\n",
        "\n",
        "Build a data frame by hand."
      ],
      "metadata": {
        "id": "n9Hyle2zcFZx"
      }
    },
    {
      "cell_type": "code",
      "execution_count": 1,
      "metadata": {
        "id": "zZJftFYrcFIb"
      },
      "outputs": [],
      "source": [
        "album <- c(\"The Low End Theory\", \"Nevermind\", \"Port of Morrow\",\n",
        "           \"Dark Side of the Moon\", \"Naked\", \"OK Computer\",\n",
        "           \"Abbey Road\", \"Thriller\", \"Rumours\", \"The Joshua Tree\")\n",
        "year <- c(1991, 1991, 2012, 1973, 1988, 1997, 1969, 1982, 1977, 1987)\n",
        "digital <- c(FALSE, FALSE, TRUE, FALSE, TRUE, TRUE, FALSE, FALSE, FALSE, TRUE)\n",
        "\n",
        "df <- data.frame(Album = album, Year = year, Digital = digital)"
      ]
    },
    {
      "cell_type": "code",
      "source": [
        "df\n",
        "df <- data.frame(Album = album, Year = year, Digital = digital)\n",
        "df"
      ],
      "metadata": {
        "id": "X_sJF7WYcQBs",
        "outputId": "133cd6ef-d136-4ca4-bbd1-2bdc79090d66",
        "colab": {
          "base_uri": "https://localhost:8080/",
          "height": 412
        }
      },
      "execution_count": 2,
      "outputs": [
        {
          "output_type": "display_data",
          "data": {
            "text/html": [
              "<table class=\"dataframe\">\n",
              "<caption>A data.frame: 10 × 3</caption>\n",
              "<thead>\n",
              "\t<tr><th scope=col>Album</th><th scope=col>Year</th><th scope=col>Digital</th></tr>\n",
              "\t<tr><th scope=col>&lt;chr&gt;</th><th scope=col>&lt;dbl&gt;</th><th scope=col>&lt;lgl&gt;</th></tr>\n",
              "</thead>\n",
              "<tbody>\n",
              "\t<tr><td>The Low End Theory   </td><td>1991</td><td>FALSE</td></tr>\n",
              "\t<tr><td>Nevermind            </td><td>1991</td><td>FALSE</td></tr>\n",
              "\t<tr><td>Port of Morrow       </td><td>2012</td><td> TRUE</td></tr>\n",
              "\t<tr><td>Dark Side of the Moon</td><td>1973</td><td>FALSE</td></tr>\n",
              "\t<tr><td>Naked                </td><td>1988</td><td> TRUE</td></tr>\n",
              "\t<tr><td>OK Computer          </td><td>1997</td><td> TRUE</td></tr>\n",
              "\t<tr><td>Abbey Road           </td><td>1969</td><td>FALSE</td></tr>\n",
              "\t<tr><td>Thriller             </td><td>1982</td><td>FALSE</td></tr>\n",
              "\t<tr><td>Rumours              </td><td>1977</td><td>FALSE</td></tr>\n",
              "\t<tr><td>The Joshua Tree      </td><td>1987</td><td> TRUE</td></tr>\n",
              "</tbody>\n",
              "</table>\n"
            ],
            "text/markdown": "\nA data.frame: 10 × 3\n\n| Album &lt;chr&gt; | Year &lt;dbl&gt; | Digital &lt;lgl&gt; |\n|---|---|---|\n| The Low End Theory    | 1991 | FALSE |\n| Nevermind             | 1991 | FALSE |\n| Port of Morrow        | 2012 |  TRUE |\n| Dark Side of the Moon | 1973 | FALSE |\n| Naked                 | 1988 |  TRUE |\n| OK Computer           | 1997 |  TRUE |\n| Abbey Road            | 1969 | FALSE |\n| Thriller              | 1982 | FALSE |\n| Rumours               | 1977 | FALSE |\n| The Joshua Tree       | 1987 |  TRUE |\n\n",
            "text/latex": "A data.frame: 10 × 3\n\\begin{tabular}{lll}\n Album & Year & Digital\\\\\n <chr> & <dbl> & <lgl>\\\\\n\\hline\n\t The Low End Theory    & 1991 & FALSE\\\\\n\t Nevermind             & 1991 & FALSE\\\\\n\t Port of Morrow        & 2012 &  TRUE\\\\\n\t Dark Side of the Moon & 1973 & FALSE\\\\\n\t Naked                 & 1988 &  TRUE\\\\\n\t OK Computer           & 1997 &  TRUE\\\\\n\t Abbey Road            & 1969 & FALSE\\\\\n\t Thriller              & 1982 & FALSE\\\\\n\t Rumours               & 1977 & FALSE\\\\\n\t The Joshua Tree       & 1987 &  TRUE\\\\\n\\end{tabular}\n",
            "text/plain": [
              "   Album                 Year Digital\n",
              "1  The Low End Theory    1991 FALSE  \n",
              "2  Nevermind             1991 FALSE  \n",
              "3  Port of Morrow        2012  TRUE  \n",
              "4  Dark Side of the Moon 1973 FALSE  \n",
              "5  Naked                 1988  TRUE  \n",
              "6  OK Computer           1997  TRUE  \n",
              "7  Abbey Road            1969 FALSE  \n",
              "8  Thriller              1982 FALSE  \n",
              "9  Rumours               1977 FALSE  \n",
              "10 The Joshua Tree       1987  TRUE  "
            ]
          },
          "metadata": {}
        }
      ]
    },
    {
      "cell_type": "markdown",
      "source": [
        "## Insert a Column"
      ],
      "metadata": {
        "id": "GlkoOWfzpiTp"
      }
    },
    {
      "cell_type": "code",
      "source": [
        "df$Year"
      ],
      "metadata": {
        "id": "-9oMqTMOpk73",
        "outputId": "5c1d03c2-0f26-46d8-e2e2-a2c68aefdec2",
        "colab": {
          "base_uri": "https://localhost:8080/",
          "height": 34
        }
      },
      "execution_count": 4,
      "outputs": [
        {
          "output_type": "display_data",
          "data": {
            "text/html": [
              "<style>\n",
              ".list-inline {list-style: none; margin:0; padding: 0}\n",
              ".list-inline>li {display: inline-block}\n",
              ".list-inline>li:not(:last-child)::after {content: \"\\00b7\"; padding: 0 .5ex}\n",
              "</style>\n",
              "<ol class=list-inline><li>1991</li><li>1991</li><li>2012</li><li>1973</li><li>1988</li><li>1997</li><li>1969</li><li>1982</li><li>1977</li><li>1987</li></ol>\n"
            ],
            "text/markdown": "1. 1991\n2. 1991\n3. 2012\n4. 1973\n5. 1988\n6. 1997\n7. 1969\n8. 1982\n9. 1977\n10. 1987\n\n\n",
            "text/latex": "\\begin{enumerate*}\n\\item 1991\n\\item 1991\n\\item 2012\n\\item 1973\n\\item 1988\n\\item 1997\n\\item 1969\n\\item 1982\n\\item 1977\n\\item 1987\n\\end{enumerate*}\n",
            "text/plain": [
              " [1] 1991 1991 2012 1973 1988 1997 1969 1982 1977 1987"
            ]
          },
          "metadata": {}
        }
      ]
    },
    {
      "cell_type": "markdown",
      "source": [
        "## Get the Structure"
      ],
      "metadata": {
        "id": "TQ4mxM8lpm69"
      }
    },
    {
      "cell_type": "code",
      "source": [
        "df$Artist <- c(\"A Tribe Called Quest\", \"Nirvana\", \"The Shins\",\n",
        "                \"Pink Floyd\", \"Talking Heads\", \"Radiohead\", \"The Beatles\",\n",
        "                \"Michael Jackson\", \"Fleetwood Mac\", \"U2\")\n",
        "\n",
        "df"
      ],
      "metadata": {
        "id": "6K63ICLKpokD",
        "outputId": "510a5b8f-6c3d-4d88-9731-1c4c19d7c832",
        "colab": {
          "base_uri": "https://localhost:8080/",
          "height": 412
        }
      },
      "execution_count": 6,
      "outputs": [
        {
          "output_type": "display_data",
          "data": {
            "text/html": [
              "<table class=\"dataframe\">\n",
              "<caption>A data.frame: 10 × 4</caption>\n",
              "<thead>\n",
              "\t<tr><th scope=col>Album</th><th scope=col>Year</th><th scope=col>Digital</th><th scope=col>Artist</th></tr>\n",
              "\t<tr><th scope=col>&lt;chr&gt;</th><th scope=col>&lt;dbl&gt;</th><th scope=col>&lt;lgl&gt;</th><th scope=col>&lt;chr&gt;</th></tr>\n",
              "</thead>\n",
              "<tbody>\n",
              "\t<tr><td>The Low End Theory   </td><td>1991</td><td>FALSE</td><td>A Tribe Called Quest</td></tr>\n",
              "\t<tr><td>Nevermind            </td><td>1991</td><td>FALSE</td><td>Nirvana             </td></tr>\n",
              "\t<tr><td>Port of Morrow       </td><td>2012</td><td> TRUE</td><td>The Shins           </td></tr>\n",
              "\t<tr><td>Dark Side of the Moon</td><td>1973</td><td>FALSE</td><td>Pink Floyd          </td></tr>\n",
              "\t<tr><td>Naked                </td><td>1988</td><td> TRUE</td><td>Talking Heads       </td></tr>\n",
              "\t<tr><td>OK Computer          </td><td>1997</td><td> TRUE</td><td>Radiohead           </td></tr>\n",
              "\t<tr><td>Abbey Road           </td><td>1969</td><td>FALSE</td><td>The Beatles         </td></tr>\n",
              "\t<tr><td>Thriller             </td><td>1982</td><td>FALSE</td><td>Michael Jackson     </td></tr>\n",
              "\t<tr><td>Rumours              </td><td>1977</td><td>FALSE</td><td>Fleetwood Mac       </td></tr>\n",
              "\t<tr><td>The Joshua Tree      </td><td>1987</td><td> TRUE</td><td>U2                  </td></tr>\n",
              "</tbody>\n",
              "</table>\n"
            ],
            "text/markdown": "\nA data.frame: 10 × 4\n\n| Album &lt;chr&gt; | Year &lt;dbl&gt; | Digital &lt;lgl&gt; | Artist &lt;chr&gt; |\n|---|---|---|---|\n| The Low End Theory    | 1991 | FALSE | A Tribe Called Quest |\n| Nevermind             | 1991 | FALSE | Nirvana              |\n| Port of Morrow        | 2012 |  TRUE | The Shins            |\n| Dark Side of the Moon | 1973 | FALSE | Pink Floyd           |\n| Naked                 | 1988 |  TRUE | Talking Heads        |\n| OK Computer           | 1997 |  TRUE | Radiohead            |\n| Abbey Road            | 1969 | FALSE | The Beatles          |\n| Thriller              | 1982 | FALSE | Michael Jackson      |\n| Rumours               | 1977 | FALSE | Fleetwood Mac        |\n| The Joshua Tree       | 1987 |  TRUE | U2                   |\n\n",
            "text/latex": "A data.frame: 10 × 4\n\\begin{tabular}{llll}\n Album & Year & Digital & Artist\\\\\n <chr> & <dbl> & <lgl> & <chr>\\\\\n\\hline\n\t The Low End Theory    & 1991 & FALSE & A Tribe Called Quest\\\\\n\t Nevermind             & 1991 & FALSE & Nirvana             \\\\\n\t Port of Morrow        & 2012 &  TRUE & The Shins           \\\\\n\t Dark Side of the Moon & 1973 & FALSE & Pink Floyd          \\\\\n\t Naked                 & 1988 &  TRUE & Talking Heads       \\\\\n\t OK Computer           & 1997 &  TRUE & Radiohead           \\\\\n\t Abbey Road            & 1969 & FALSE & The Beatles         \\\\\n\t Thriller              & 1982 & FALSE & Michael Jackson     \\\\\n\t Rumours               & 1977 & FALSE & Fleetwood Mac       \\\\\n\t The Joshua Tree       & 1987 &  TRUE & U2                  \\\\\n\\end{tabular}\n",
            "text/plain": [
              "   Album                 Year Digital Artist              \n",
              "1  The Low End Theory    1991 FALSE   A Tribe Called Quest\n",
              "2  Nevermind             1991 FALSE   Nirvana             \n",
              "3  Port of Morrow        2012  TRUE   The Shins           \n",
              "4  Dark Side of the Moon 1973 FALSE   Pink Floyd          \n",
              "5  Naked                 1988  TRUE   Talking Heads       \n",
              "6  OK Computer           1997  TRUE   Radiohead           \n",
              "7  Abbey Road            1969 FALSE   The Beatles         \n",
              "8  Thriller              1982 FALSE   Michael Jackson     \n",
              "9  Rumours               1977 FALSE   Fleetwood Mac       \n",
              "10 The Joshua Tree       1987  TRUE   U2                  "
            ]
          },
          "metadata": {}
        }
      ]
    },
    {
      "cell_type": "code",
      "source": [
        "str(df)"
      ],
      "metadata": {
        "id": "l7ZZUrDv1wqd",
        "outputId": "eb691707-5948-43ca-d1cf-299b40c4ad66",
        "colab": {
          "base_uri": "https://localhost:8080/"
        }
      },
      "execution_count": 7,
      "outputs": [
        {
          "output_type": "stream",
          "name": "stdout",
          "text": [
            "'data.frame':\t10 obs. of  4 variables:\n",
            " $ Album  : chr  \"The Low End Theory\" \"Nevermind\" \"Port of Morrow\" \"Dark Side of the Moon\" ...\n",
            " $ Year   : num  1991 1991 2012 1973 1988 ...\n",
            " $ Digital: logi  FALSE FALSE TRUE FALSE TRUE TRUE ...\n",
            " $ Artist : chr  \"A Tribe Called Quest\" \"Nirvana\" \"The Shins\" \"Pink Floyd\" ...\n"
          ]
        }
      ]
    },
    {
      "cell_type": "code",
      "source": [
        "df[,1:2]"
      ],
      "metadata": {
        "id": "6s3bwSV619vP",
        "outputId": "51f3c602-2ec6-4efe-a22a-e22a389002ef",
        "colab": {
          "base_uri": "https://localhost:8080/",
          "height": 412
        }
      },
      "execution_count": 8,
      "outputs": [
        {
          "output_type": "display_data",
          "data": {
            "text/html": [
              "<table class=\"dataframe\">\n",
              "<caption>A data.frame: 10 × 2</caption>\n",
              "<thead>\n",
              "\t<tr><th scope=col>Album</th><th scope=col>Year</th></tr>\n",
              "\t<tr><th scope=col>&lt;chr&gt;</th><th scope=col>&lt;dbl&gt;</th></tr>\n",
              "</thead>\n",
              "<tbody>\n",
              "\t<tr><td>The Low End Theory   </td><td>1991</td></tr>\n",
              "\t<tr><td>Nevermind            </td><td>1991</td></tr>\n",
              "\t<tr><td>Port of Morrow       </td><td>2012</td></tr>\n",
              "\t<tr><td>Dark Side of the Moon</td><td>1973</td></tr>\n",
              "\t<tr><td>Naked                </td><td>1988</td></tr>\n",
              "\t<tr><td>OK Computer          </td><td>1997</td></tr>\n",
              "\t<tr><td>Abbey Road           </td><td>1969</td></tr>\n",
              "\t<tr><td>Thriller             </td><td>1982</td></tr>\n",
              "\t<tr><td>Rumours              </td><td>1977</td></tr>\n",
              "\t<tr><td>The Joshua Tree      </td><td>1987</td></tr>\n",
              "</tbody>\n",
              "</table>\n"
            ],
            "text/markdown": "\nA data.frame: 10 × 2\n\n| Album &lt;chr&gt; | Year &lt;dbl&gt; |\n|---|---|\n| The Low End Theory    | 1991 |\n| Nevermind             | 1991 |\n| Port of Morrow        | 2012 |\n| Dark Side of the Moon | 1973 |\n| Naked                 | 1988 |\n| OK Computer           | 1997 |\n| Abbey Road            | 1969 |\n| Thriller              | 1982 |\n| Rumours               | 1977 |\n| The Joshua Tree       | 1987 |\n\n",
            "text/latex": "A data.frame: 10 × 2\n\\begin{tabular}{ll}\n Album & Year\\\\\n <chr> & <dbl>\\\\\n\\hline\n\t The Low End Theory    & 1991\\\\\n\t Nevermind             & 1991\\\\\n\t Port of Morrow        & 2012\\\\\n\t Dark Side of the Moon & 1973\\\\\n\t Naked                 & 1988\\\\\n\t OK Computer           & 1997\\\\\n\t Abbey Road            & 1969\\\\\n\t Thriller              & 1982\\\\\n\t Rumours               & 1977\\\\\n\t The Joshua Tree       & 1987\\\\\n\\end{tabular}\n",
            "text/plain": [
              "   Album                 Year\n",
              "1  The Low End Theory    1991\n",
              "2  Nevermind             1991\n",
              "3  Port of Morrow        2012\n",
              "4  Dark Side of the Moon 1973\n",
              "5  Naked                 1988\n",
              "6  OK Computer           1997\n",
              "7  Abbey Road            1969\n",
              "8  Thriller              1982\n",
              "9  Rumours               1977\n",
              "10 The Joshua Tree       1987"
            ]
          },
          "metadata": {}
        }
      ]
    },
    {
      "cell_type": "code",
      "source": [
        "df[1:5,]"
      ],
      "metadata": {
        "id": "8D1vhaHf2V0G",
        "outputId": "c137f690-7a3c-4b72-f2ea-cda935d51848",
        "colab": {
          "base_uri": "https://localhost:8080/",
          "height": 255
        }
      },
      "execution_count": 9,
      "outputs": [
        {
          "output_type": "display_data",
          "data": {
            "text/html": [
              "<table class=\"dataframe\">\n",
              "<caption>A data.frame: 5 × 4</caption>\n",
              "<thead>\n",
              "\t<tr><th></th><th scope=col>Album</th><th scope=col>Year</th><th scope=col>Digital</th><th scope=col>Artist</th></tr>\n",
              "\t<tr><th></th><th scope=col>&lt;chr&gt;</th><th scope=col>&lt;dbl&gt;</th><th scope=col>&lt;lgl&gt;</th><th scope=col>&lt;chr&gt;</th></tr>\n",
              "</thead>\n",
              "<tbody>\n",
              "\t<tr><th scope=row>1</th><td>The Low End Theory   </td><td>1991</td><td>FALSE</td><td>A Tribe Called Quest</td></tr>\n",
              "\t<tr><th scope=row>2</th><td>Nevermind            </td><td>1991</td><td>FALSE</td><td>Nirvana             </td></tr>\n",
              "\t<tr><th scope=row>3</th><td>Port of Morrow       </td><td>2012</td><td> TRUE</td><td>The Shins           </td></tr>\n",
              "\t<tr><th scope=row>4</th><td>Dark Side of the Moon</td><td>1973</td><td>FALSE</td><td>Pink Floyd          </td></tr>\n",
              "\t<tr><th scope=row>5</th><td>Naked                </td><td>1988</td><td> TRUE</td><td>Talking Heads       </td></tr>\n",
              "</tbody>\n",
              "</table>\n"
            ],
            "text/markdown": "\nA data.frame: 5 × 4\n\n| <!--/--> | Album &lt;chr&gt; | Year &lt;dbl&gt; | Digital &lt;lgl&gt; | Artist &lt;chr&gt; |\n|---|---|---|---|---|\n| 1 | The Low End Theory    | 1991 | FALSE | A Tribe Called Quest |\n| 2 | Nevermind             | 1991 | FALSE | Nirvana              |\n| 3 | Port of Morrow        | 2012 |  TRUE | The Shins            |\n| 4 | Dark Side of the Moon | 1973 | FALSE | Pink Floyd           |\n| 5 | Naked                 | 1988 |  TRUE | Talking Heads        |\n\n",
            "text/latex": "A data.frame: 5 × 4\n\\begin{tabular}{r|llll}\n  & Album & Year & Digital & Artist\\\\\n  & <chr> & <dbl> & <lgl> & <chr>\\\\\n\\hline\n\t1 & The Low End Theory    & 1991 & FALSE & A Tribe Called Quest\\\\\n\t2 & Nevermind             & 1991 & FALSE & Nirvana             \\\\\n\t3 & Port of Morrow        & 2012 &  TRUE & The Shins           \\\\\n\t4 & Dark Side of the Moon & 1973 & FALSE & Pink Floyd          \\\\\n\t5 & Naked                 & 1988 &  TRUE & Talking Heads       \\\\\n\\end{tabular}\n",
            "text/plain": [
              "  Album                 Year Digital Artist              \n",
              "1 The Low End Theory    1991 FALSE   A Tribe Called Quest\n",
              "2 Nevermind             1991 FALSE   Nirvana             \n",
              "3 Port of Morrow        2012  TRUE   The Shins           \n",
              "4 Dark Side of the Moon 1973 FALSE   Pink Floyd          \n",
              "5 Naked                 1988  TRUE   Talking Heads       "
            ]
          },
          "metadata": {}
        }
      ]
    },
    {
      "cell_type": "code",
      "source": [
        "df[6,4]"
      ],
      "metadata": {
        "id": "v6IFSJO22kOf",
        "outputId": "baf570f2-0ad5-4421-acc8-29e5f924f1a2",
        "colab": {
          "base_uri": "https://localhost:8080/",
          "height": 34
        }
      },
      "execution_count": 11,
      "outputs": [
        {
          "output_type": "display_data",
          "data": {
            "text/html": [
              "'Radiohead'"
            ],
            "text/markdown": "'Radiohead'",
            "text/latex": "'Radiohead'",
            "text/plain": [
              "[1] \"Radiohead\""
            ]
          },
          "metadata": {}
        }
      ]
    },
    {
      "cell_type": "code",
      "source": [
        "df[, -(2:3)]\n",
        "df[, c(1,4)]"
      ],
      "metadata": {
        "id": "AsD_nIqu29Mz",
        "outputId": "e9addc11-3858-41a8-f820-8ea734cf7a9e",
        "colab": {
          "base_uri": "https://localhost:8080/",
          "height": 806
        }
      },
      "execution_count": 13,
      "outputs": [
        {
          "output_type": "display_data",
          "data": {
            "text/html": [
              "<table class=\"dataframe\">\n",
              "<caption>A data.frame: 10 × 2</caption>\n",
              "<thead>\n",
              "\t<tr><th scope=col>Album</th><th scope=col>Artist</th></tr>\n",
              "\t<tr><th scope=col>&lt;chr&gt;</th><th scope=col>&lt;chr&gt;</th></tr>\n",
              "</thead>\n",
              "<tbody>\n",
              "\t<tr><td>The Low End Theory   </td><td>A Tribe Called Quest</td></tr>\n",
              "\t<tr><td>Nevermind            </td><td>Nirvana             </td></tr>\n",
              "\t<tr><td>Port of Morrow       </td><td>The Shins           </td></tr>\n",
              "\t<tr><td>Dark Side of the Moon</td><td>Pink Floyd          </td></tr>\n",
              "\t<tr><td>Naked                </td><td>Talking Heads       </td></tr>\n",
              "\t<tr><td>OK Computer          </td><td>Radiohead           </td></tr>\n",
              "\t<tr><td>Abbey Road           </td><td>The Beatles         </td></tr>\n",
              "\t<tr><td>Thriller             </td><td>Michael Jackson     </td></tr>\n",
              "\t<tr><td>Rumours              </td><td>Fleetwood Mac       </td></tr>\n",
              "\t<tr><td>The Joshua Tree      </td><td>U2                  </td></tr>\n",
              "</tbody>\n",
              "</table>\n"
            ],
            "text/markdown": "\nA data.frame: 10 × 2\n\n| Album &lt;chr&gt; | Artist &lt;chr&gt; |\n|---|---|\n| The Low End Theory    | A Tribe Called Quest |\n| Nevermind             | Nirvana              |\n| Port of Morrow        | The Shins            |\n| Dark Side of the Moon | Pink Floyd           |\n| Naked                 | Talking Heads        |\n| OK Computer           | Radiohead            |\n| Abbey Road            | The Beatles          |\n| Thriller              | Michael Jackson      |\n| Rumours               | Fleetwood Mac        |\n| The Joshua Tree       | U2                   |\n\n",
            "text/latex": "A data.frame: 10 × 2\n\\begin{tabular}{ll}\n Album & Artist\\\\\n <chr> & <chr>\\\\\n\\hline\n\t The Low End Theory    & A Tribe Called Quest\\\\\n\t Nevermind             & Nirvana             \\\\\n\t Port of Morrow        & The Shins           \\\\\n\t Dark Side of the Moon & Pink Floyd          \\\\\n\t Naked                 & Talking Heads       \\\\\n\t OK Computer           & Radiohead           \\\\\n\t Abbey Road            & The Beatles         \\\\\n\t Thriller              & Michael Jackson     \\\\\n\t Rumours               & Fleetwood Mac       \\\\\n\t The Joshua Tree       & U2                  \\\\\n\\end{tabular}\n",
            "text/plain": [
              "   Album                 Artist              \n",
              "1  The Low End Theory    A Tribe Called Quest\n",
              "2  Nevermind             Nirvana             \n",
              "3  Port of Morrow        The Shins           \n",
              "4  Dark Side of the Moon Pink Floyd          \n",
              "5  Naked                 Talking Heads       \n",
              "6  OK Computer           Radiohead           \n",
              "7  Abbey Road            The Beatles         \n",
              "8  Thriller              Michael Jackson     \n",
              "9  Rumours               Fleetwood Mac       \n",
              "10 The Joshua Tree       U2                  "
            ]
          },
          "metadata": {}
        },
        {
          "output_type": "display_data",
          "data": {
            "text/html": [
              "<table class=\"dataframe\">\n",
              "<caption>A data.frame: 10 × 2</caption>\n",
              "<thead>\n",
              "\t<tr><th scope=col>Album</th><th scope=col>Artist</th></tr>\n",
              "\t<tr><th scope=col>&lt;chr&gt;</th><th scope=col>&lt;chr&gt;</th></tr>\n",
              "</thead>\n",
              "<tbody>\n",
              "\t<tr><td>The Low End Theory   </td><td>A Tribe Called Quest</td></tr>\n",
              "\t<tr><td>Nevermind            </td><td>Nirvana             </td></tr>\n",
              "\t<tr><td>Port of Morrow       </td><td>The Shins           </td></tr>\n",
              "\t<tr><td>Dark Side of the Moon</td><td>Pink Floyd          </td></tr>\n",
              "\t<tr><td>Naked                </td><td>Talking Heads       </td></tr>\n",
              "\t<tr><td>OK Computer          </td><td>Radiohead           </td></tr>\n",
              "\t<tr><td>Abbey Road           </td><td>The Beatles         </td></tr>\n",
              "\t<tr><td>Thriller             </td><td>Michael Jackson     </td></tr>\n",
              "\t<tr><td>Rumours              </td><td>Fleetwood Mac       </td></tr>\n",
              "\t<tr><td>The Joshua Tree      </td><td>U2                  </td></tr>\n",
              "</tbody>\n",
              "</table>\n"
            ],
            "text/markdown": "\nA data.frame: 10 × 2\n\n| Album &lt;chr&gt; | Artist &lt;chr&gt; |\n|---|---|\n| The Low End Theory    | A Tribe Called Quest |\n| Nevermind             | Nirvana              |\n| Port of Morrow        | The Shins            |\n| Dark Side of the Moon | Pink Floyd           |\n| Naked                 | Talking Heads        |\n| OK Computer           | Radiohead            |\n| Abbey Road            | The Beatles          |\n| Thriller              | Michael Jackson      |\n| Rumours               | Fleetwood Mac        |\n| The Joshua Tree       | U2                   |\n\n",
            "text/latex": "A data.frame: 10 × 2\n\\begin{tabular}{ll}\n Album & Artist\\\\\n <chr> & <chr>\\\\\n\\hline\n\t The Low End Theory    & A Tribe Called Quest\\\\\n\t Nevermind             & Nirvana             \\\\\n\t Port of Morrow        & The Shins           \\\\\n\t Dark Side of the Moon & Pink Floyd          \\\\\n\t Naked                 & Talking Heads       \\\\\n\t OK Computer           & Radiohead           \\\\\n\t Abbey Road            & The Beatles         \\\\\n\t Thriller              & Michael Jackson     \\\\\n\t Rumours               & Fleetwood Mac       \\\\\n\t The Joshua Tree       & U2                  \\\\\n\\end{tabular}\n",
            "text/plain": [
              "   Album                 Artist              \n",
              "1  The Low End Theory    A Tribe Called Quest\n",
              "2  Nevermind             Nirvana             \n",
              "3  Port of Morrow        The Shins           \n",
              "4  Dark Side of the Moon Pink Floyd          \n",
              "5  Naked                 Talking Heads       \n",
              "6  OK Computer           Radiohead           \n",
              "7  Abbey Road            The Beatles         \n",
              "8  Thriller              Michael Jackson     \n",
              "9  Rumours               Fleetwood Mac       \n",
              "10 The Joshua Tree       U2                  "
            ]
          },
          "metadata": {}
        }
      ]
    },
    {
      "cell_type": "code",
      "source": [
        "df[, c(4,2)]"
      ],
      "metadata": {
        "id": "Rq0xUWgM3u66",
        "outputId": "30a66339-0146-4294-c5f3-a399ed4c6d5a",
        "colab": {
          "base_uri": "https://localhost:8080/",
          "height": 412
        }
      },
      "execution_count": 14,
      "outputs": [
        {
          "output_type": "display_data",
          "data": {
            "text/html": [
              "<table class=\"dataframe\">\n",
              "<caption>A data.frame: 10 × 2</caption>\n",
              "<thead>\n",
              "\t<tr><th scope=col>Artist</th><th scope=col>Year</th></tr>\n",
              "\t<tr><th scope=col>&lt;chr&gt;</th><th scope=col>&lt;dbl&gt;</th></tr>\n",
              "</thead>\n",
              "<tbody>\n",
              "\t<tr><td>A Tribe Called Quest</td><td>1991</td></tr>\n",
              "\t<tr><td>Nirvana             </td><td>1991</td></tr>\n",
              "\t<tr><td>The Shins           </td><td>2012</td></tr>\n",
              "\t<tr><td>Pink Floyd          </td><td>1973</td></tr>\n",
              "\t<tr><td>Talking Heads       </td><td>1988</td></tr>\n",
              "\t<tr><td>Radiohead           </td><td>1997</td></tr>\n",
              "\t<tr><td>The Beatles         </td><td>1969</td></tr>\n",
              "\t<tr><td>Michael Jackson     </td><td>1982</td></tr>\n",
              "\t<tr><td>Fleetwood Mac       </td><td>1977</td></tr>\n",
              "\t<tr><td>U2                  </td><td>1987</td></tr>\n",
              "</tbody>\n",
              "</table>\n"
            ],
            "text/markdown": "\nA data.frame: 10 × 2\n\n| Artist &lt;chr&gt; | Year &lt;dbl&gt; |\n|---|---|\n| A Tribe Called Quest | 1991 |\n| Nirvana              | 1991 |\n| The Shins            | 2012 |\n| Pink Floyd           | 1973 |\n| Talking Heads        | 1988 |\n| Radiohead            | 1997 |\n| The Beatles          | 1969 |\n| Michael Jackson      | 1982 |\n| Fleetwood Mac        | 1977 |\n| U2                   | 1987 |\n\n",
            "text/latex": "A data.frame: 10 × 2\n\\begin{tabular}{ll}\n Artist & Year\\\\\n <chr> & <dbl>\\\\\n\\hline\n\t A Tribe Called Quest & 1991\\\\\n\t Nirvana              & 1991\\\\\n\t The Shins            & 2012\\\\\n\t Pink Floyd           & 1973\\\\\n\t Talking Heads        & 1988\\\\\n\t Radiohead            & 1997\\\\\n\t The Beatles          & 1969\\\\\n\t Michael Jackson      & 1982\\\\\n\t Fleetwood Mac        & 1977\\\\\n\t U2                   & 1987\\\\\n\\end{tabular}\n",
            "text/plain": [
              "   Artist               Year\n",
              "1  A Tribe Called Quest 1991\n",
              "2  Nirvana              1991\n",
              "3  The Shins            2012\n",
              "4  Pink Floyd           1973\n",
              "5  Talking Heads        1988\n",
              "6  Radiohead            1997\n",
              "7  The Beatles          1969\n",
              "8  Michael Jackson      1982\n",
              "9  Fleetwood Mac        1977\n",
              "10 U2                   1987"
            ]
          },
          "metadata": {}
        }
      ]
    },
    {
      "cell_type": "code",
      "source": [
        "df[,c(\"Album\", \"Artist\")]"
      ],
      "metadata": {
        "id": "X2dtyX5n4MVe",
        "outputId": "4f44ff7f-e49e-4471-9900-68ce74c7409b",
        "colab": {
          "base_uri": "https://localhost:8080/",
          "height": 412
        }
      },
      "execution_count": 15,
      "outputs": [
        {
          "output_type": "display_data",
          "data": {
            "text/html": [
              "<table class=\"dataframe\">\n",
              "<caption>A data.frame: 10 × 2</caption>\n",
              "<thead>\n",
              "\t<tr><th scope=col>Album</th><th scope=col>Artist</th></tr>\n",
              "\t<tr><th scope=col>&lt;chr&gt;</th><th scope=col>&lt;chr&gt;</th></tr>\n",
              "</thead>\n",
              "<tbody>\n",
              "\t<tr><td>The Low End Theory   </td><td>A Tribe Called Quest</td></tr>\n",
              "\t<tr><td>Nevermind            </td><td>Nirvana             </td></tr>\n",
              "\t<tr><td>Port of Morrow       </td><td>The Shins           </td></tr>\n",
              "\t<tr><td>Dark Side of the Moon</td><td>Pink Floyd          </td></tr>\n",
              "\t<tr><td>Naked                </td><td>Talking Heads       </td></tr>\n",
              "\t<tr><td>OK Computer          </td><td>Radiohead           </td></tr>\n",
              "\t<tr><td>Abbey Road           </td><td>The Beatles         </td></tr>\n",
              "\t<tr><td>Thriller             </td><td>Michael Jackson     </td></tr>\n",
              "\t<tr><td>Rumours              </td><td>Fleetwood Mac       </td></tr>\n",
              "\t<tr><td>The Joshua Tree      </td><td>U2                  </td></tr>\n",
              "</tbody>\n",
              "</table>\n"
            ],
            "text/markdown": "\nA data.frame: 10 × 2\n\n| Album &lt;chr&gt; | Artist &lt;chr&gt; |\n|---|---|\n| The Low End Theory    | A Tribe Called Quest |\n| Nevermind             | Nirvana              |\n| Port of Morrow        | The Shins            |\n| Dark Side of the Moon | Pink Floyd           |\n| Naked                 | Talking Heads        |\n| OK Computer           | Radiohead            |\n| Abbey Road            | The Beatles          |\n| Thriller              | Michael Jackson      |\n| Rumours               | Fleetwood Mac        |\n| The Joshua Tree       | U2                   |\n\n",
            "text/latex": "A data.frame: 10 × 2\n\\begin{tabular}{ll}\n Album & Artist\\\\\n <chr> & <chr>\\\\\n\\hline\n\t The Low End Theory    & A Tribe Called Quest\\\\\n\t Nevermind             & Nirvana             \\\\\n\t Port of Morrow        & The Shins           \\\\\n\t Dark Side of the Moon & Pink Floyd          \\\\\n\t Naked                 & Talking Heads       \\\\\n\t OK Computer           & Radiohead           \\\\\n\t Abbey Road            & The Beatles         \\\\\n\t Thriller              & Michael Jackson     \\\\\n\t Rumours               & Fleetwood Mac       \\\\\n\t The Joshua Tree       & U2                  \\\\\n\\end{tabular}\n",
            "text/plain": [
              "   Album                 Artist              \n",
              "1  The Low End Theory    A Tribe Called Quest\n",
              "2  Nevermind             Nirvana             \n",
              "3  Port of Morrow        The Shins           \n",
              "4  Dark Side of the Moon Pink Floyd          \n",
              "5  Naked                 Talking Heads       \n",
              "6  OK Computer           Radiohead           \n",
              "7  Abbey Road            The Beatles         \n",
              "8  Thriller              Michael Jackson     \n",
              "9  Rumours               Fleetwood Mac       \n",
              "10 The Joshua Tree       U2                  "
            ]
          },
          "metadata": {}
        }
      ]
    },
    {
      "cell_type": "markdown",
      "source": [
        "## Slicing & Filtering\n",
        "\n",
        "Remember that a data frame is simply a 2-dimensional array. Rows + Columns.\n",
        "\n",
        "The `[ ]` selector has two halves, separated by a comma: `[ <ROWS> , <COLUMNS> ]`"
      ],
      "metadata": {
        "id": "ggsLz7-bprEE"
      }
    },
    {
      "cell_type": "code",
      "source": [
        "df[df$Digital == FALSE,]"
      ],
      "metadata": {
        "id": "ekzV9ct2psrO",
        "outputId": "7da61335-062c-45a1-89ac-8539456fb9c8",
        "colab": {
          "base_uri": "https://localhost:8080/",
          "height": 286
        }
      },
      "execution_count": 17,
      "outputs": [
        {
          "output_type": "display_data",
          "data": {
            "text/html": [
              "<table class=\"dataframe\">\n",
              "<caption>A data.frame: 6 × 4</caption>\n",
              "<thead>\n",
              "\t<tr><th></th><th scope=col>Album</th><th scope=col>Year</th><th scope=col>Digital</th><th scope=col>Artist</th></tr>\n",
              "\t<tr><th></th><th scope=col>&lt;chr&gt;</th><th scope=col>&lt;dbl&gt;</th><th scope=col>&lt;lgl&gt;</th><th scope=col>&lt;chr&gt;</th></tr>\n",
              "</thead>\n",
              "<tbody>\n",
              "\t<tr><th scope=row>1</th><td>The Low End Theory   </td><td>1991</td><td>FALSE</td><td>A Tribe Called Quest</td></tr>\n",
              "\t<tr><th scope=row>2</th><td>Nevermind            </td><td>1991</td><td>FALSE</td><td>Nirvana             </td></tr>\n",
              "\t<tr><th scope=row>4</th><td>Dark Side of the Moon</td><td>1973</td><td>FALSE</td><td>Pink Floyd          </td></tr>\n",
              "\t<tr><th scope=row>7</th><td>Abbey Road           </td><td>1969</td><td>FALSE</td><td>The Beatles         </td></tr>\n",
              "\t<tr><th scope=row>8</th><td>Thriller             </td><td>1982</td><td>FALSE</td><td>Michael Jackson     </td></tr>\n",
              "\t<tr><th scope=row>9</th><td>Rumours              </td><td>1977</td><td>FALSE</td><td>Fleetwood Mac       </td></tr>\n",
              "</tbody>\n",
              "</table>\n"
            ],
            "text/markdown": "\nA data.frame: 6 × 4\n\n| <!--/--> | Album &lt;chr&gt; | Year &lt;dbl&gt; | Digital &lt;lgl&gt; | Artist &lt;chr&gt; |\n|---|---|---|---|---|\n| 1 | The Low End Theory    | 1991 | FALSE | A Tribe Called Quest |\n| 2 | Nevermind             | 1991 | FALSE | Nirvana              |\n| 4 | Dark Side of the Moon | 1973 | FALSE | Pink Floyd           |\n| 7 | Abbey Road            | 1969 | FALSE | The Beatles          |\n| 8 | Thriller              | 1982 | FALSE | Michael Jackson      |\n| 9 | Rumours               | 1977 | FALSE | Fleetwood Mac        |\n\n",
            "text/latex": "A data.frame: 6 × 4\n\\begin{tabular}{r|llll}\n  & Album & Year & Digital & Artist\\\\\n  & <chr> & <dbl> & <lgl> & <chr>\\\\\n\\hline\n\t1 & The Low End Theory    & 1991 & FALSE & A Tribe Called Quest\\\\\n\t2 & Nevermind             & 1991 & FALSE & Nirvana             \\\\\n\t4 & Dark Side of the Moon & 1973 & FALSE & Pink Floyd          \\\\\n\t7 & Abbey Road            & 1969 & FALSE & The Beatles         \\\\\n\t8 & Thriller              & 1982 & FALSE & Michael Jackson     \\\\\n\t9 & Rumours               & 1977 & FALSE & Fleetwood Mac       \\\\\n\\end{tabular}\n",
            "text/plain": [
              "  Album                 Year Digital Artist              \n",
              "1 The Low End Theory    1991 FALSE   A Tribe Called Quest\n",
              "2 Nevermind             1991 FALSE   Nirvana             \n",
              "4 Dark Side of the Moon 1973 FALSE   Pink Floyd          \n",
              "7 Abbey Road            1969 FALSE   The Beatles         \n",
              "8 Thriller              1982 FALSE   Michael Jackson     \n",
              "9 Rumours               1977 FALSE   Fleetwood Mac       "
            ]
          },
          "metadata": {}
        }
      ]
    },
    {
      "cell_type": "code",
      "source": [
        "df[df$Year > 1990,]"
      ],
      "metadata": {
        "id": "lajmMc1VptgT",
        "outputId": "74e77dbc-5057-4703-ad1c-ca05dcb3a2d4",
        "colab": {
          "base_uri": "https://localhost:8080/",
          "height": 224
        }
      },
      "execution_count": 18,
      "outputs": [
        {
          "output_type": "display_data",
          "data": {
            "text/html": [
              "<table class=\"dataframe\">\n",
              "<caption>A data.frame: 4 × 4</caption>\n",
              "<thead>\n",
              "\t<tr><th></th><th scope=col>Album</th><th scope=col>Year</th><th scope=col>Digital</th><th scope=col>Artist</th></tr>\n",
              "\t<tr><th></th><th scope=col>&lt;chr&gt;</th><th scope=col>&lt;dbl&gt;</th><th scope=col>&lt;lgl&gt;</th><th scope=col>&lt;chr&gt;</th></tr>\n",
              "</thead>\n",
              "<tbody>\n",
              "\t<tr><th scope=row>1</th><td>The Low End Theory</td><td>1991</td><td>FALSE</td><td>A Tribe Called Quest</td></tr>\n",
              "\t<tr><th scope=row>2</th><td>Nevermind         </td><td>1991</td><td>FALSE</td><td>Nirvana             </td></tr>\n",
              "\t<tr><th scope=row>3</th><td>Port of Morrow    </td><td>2012</td><td> TRUE</td><td>The Shins           </td></tr>\n",
              "\t<tr><th scope=row>6</th><td>OK Computer       </td><td>1997</td><td> TRUE</td><td>Radiohead           </td></tr>\n",
              "</tbody>\n",
              "</table>\n"
            ],
            "text/markdown": "\nA data.frame: 4 × 4\n\n| <!--/--> | Album &lt;chr&gt; | Year &lt;dbl&gt; | Digital &lt;lgl&gt; | Artist &lt;chr&gt; |\n|---|---|---|---|---|\n| 1 | The Low End Theory | 1991 | FALSE | A Tribe Called Quest |\n| 2 | Nevermind          | 1991 | FALSE | Nirvana              |\n| 3 | Port of Morrow     | 2012 |  TRUE | The Shins            |\n| 6 | OK Computer        | 1997 |  TRUE | Radiohead            |\n\n",
            "text/latex": "A data.frame: 4 × 4\n\\begin{tabular}{r|llll}\n  & Album & Year & Digital & Artist\\\\\n  & <chr> & <dbl> & <lgl> & <chr>\\\\\n\\hline\n\t1 & The Low End Theory & 1991 & FALSE & A Tribe Called Quest\\\\\n\t2 & Nevermind          & 1991 & FALSE & Nirvana             \\\\\n\t3 & Port of Morrow     & 2012 &  TRUE & The Shins           \\\\\n\t6 & OK Computer        & 1997 &  TRUE & Radiohead           \\\\\n\\end{tabular}\n",
            "text/plain": [
              "  Album              Year Digital Artist              \n",
              "1 The Low End Theory 1991 FALSE   A Tribe Called Quest\n",
              "2 Nevermind          1991 FALSE   Nirvana             \n",
              "3 Port of Morrow     2012  TRUE   The Shins           \n",
              "6 OK Computer        1997  TRUE   Radiohead           "
            ]
          },
          "metadata": {}
        }
      ]
    },
    {
      "cell_type": "code",
      "source": [
        "df[df$Year > 1990 & df$Digital == TRUE,]"
      ],
      "metadata": {
        "id": "8Li_TatiptYh",
        "outputId": "4812a102-2378-4f37-c228-17632b151f40",
        "colab": {
          "base_uri": "https://localhost:8080/",
          "height": 161
        }
      },
      "execution_count": 19,
      "outputs": [
        {
          "output_type": "display_data",
          "data": {
            "text/html": [
              "<table class=\"dataframe\">\n",
              "<caption>A data.frame: 2 × 4</caption>\n",
              "<thead>\n",
              "\t<tr><th></th><th scope=col>Album</th><th scope=col>Year</th><th scope=col>Digital</th><th scope=col>Artist</th></tr>\n",
              "\t<tr><th></th><th scope=col>&lt;chr&gt;</th><th scope=col>&lt;dbl&gt;</th><th scope=col>&lt;lgl&gt;</th><th scope=col>&lt;chr&gt;</th></tr>\n",
              "</thead>\n",
              "<tbody>\n",
              "\t<tr><th scope=row>3</th><td>Port of Morrow</td><td>2012</td><td>TRUE</td><td>The Shins</td></tr>\n",
              "\t<tr><th scope=row>6</th><td>OK Computer   </td><td>1997</td><td>TRUE</td><td>Radiohead</td></tr>\n",
              "</tbody>\n",
              "</table>\n"
            ],
            "text/markdown": "\nA data.frame: 2 × 4\n\n| <!--/--> | Album &lt;chr&gt; | Year &lt;dbl&gt; | Digital &lt;lgl&gt; | Artist &lt;chr&gt; |\n|---|---|---|---|---|\n| 3 | Port of Morrow | 2012 | TRUE | The Shins |\n| 6 | OK Computer    | 1997 | TRUE | Radiohead |\n\n",
            "text/latex": "A data.frame: 2 × 4\n\\begin{tabular}{r|llll}\n  & Album & Year & Digital & Artist\\\\\n  & <chr> & <dbl> & <lgl> & <chr>\\\\\n\\hline\n\t3 & Port of Morrow & 2012 & TRUE & The Shins\\\\\n\t6 & OK Computer    & 1997 & TRUE & Radiohead\\\\\n\\end{tabular}\n",
            "text/plain": [
              "  Album          Year Digital Artist   \n",
              "3 Port of Morrow 2012 TRUE    The Shins\n",
              "6 OK Computer    1997 TRUE    Radiohead"
            ]
          },
          "metadata": {}
        }
      ]
    },
    {
      "cell_type": "code",
      "source": [
        "df[df$Year > 1990 | df$Digital == TRUE,]"
      ],
      "metadata": {
        "id": "Obg94MoNptCB",
        "outputId": "ddf45f70-2fae-4bcf-bf3d-1998b3177775",
        "colab": {
          "base_uri": "https://localhost:8080/",
          "height": 286
        }
      },
      "execution_count": 20,
      "outputs": [
        {
          "output_type": "display_data",
          "data": {
            "text/html": [
              "<table class=\"dataframe\">\n",
              "<caption>A data.frame: 6 × 4</caption>\n",
              "<thead>\n",
              "\t<tr><th></th><th scope=col>Album</th><th scope=col>Year</th><th scope=col>Digital</th><th scope=col>Artist</th></tr>\n",
              "\t<tr><th></th><th scope=col>&lt;chr&gt;</th><th scope=col>&lt;dbl&gt;</th><th scope=col>&lt;lgl&gt;</th><th scope=col>&lt;chr&gt;</th></tr>\n",
              "</thead>\n",
              "<tbody>\n",
              "\t<tr><th scope=row>1</th><td>The Low End Theory</td><td>1991</td><td>FALSE</td><td>A Tribe Called Quest</td></tr>\n",
              "\t<tr><th scope=row>2</th><td>Nevermind         </td><td>1991</td><td>FALSE</td><td>Nirvana             </td></tr>\n",
              "\t<tr><th scope=row>3</th><td>Port of Morrow    </td><td>2012</td><td> TRUE</td><td>The Shins           </td></tr>\n",
              "\t<tr><th scope=row>5</th><td>Naked             </td><td>1988</td><td> TRUE</td><td>Talking Heads       </td></tr>\n",
              "\t<tr><th scope=row>6</th><td>OK Computer       </td><td>1997</td><td> TRUE</td><td>Radiohead           </td></tr>\n",
              "\t<tr><th scope=row>10</th><td>The Joshua Tree   </td><td>1987</td><td> TRUE</td><td>U2                  </td></tr>\n",
              "</tbody>\n",
              "</table>\n"
            ],
            "text/markdown": "\nA data.frame: 6 × 4\n\n| <!--/--> | Album &lt;chr&gt; | Year &lt;dbl&gt; | Digital &lt;lgl&gt; | Artist &lt;chr&gt; |\n|---|---|---|---|---|\n| 1 | The Low End Theory | 1991 | FALSE | A Tribe Called Quest |\n| 2 | Nevermind          | 1991 | FALSE | Nirvana              |\n| 3 | Port of Morrow     | 2012 |  TRUE | The Shins            |\n| 5 | Naked              | 1988 |  TRUE | Talking Heads        |\n| 6 | OK Computer        | 1997 |  TRUE | Radiohead            |\n| 10 | The Joshua Tree    | 1987 |  TRUE | U2                   |\n\n",
            "text/latex": "A data.frame: 6 × 4\n\\begin{tabular}{r|llll}\n  & Album & Year & Digital & Artist\\\\\n  & <chr> & <dbl> & <lgl> & <chr>\\\\\n\\hline\n\t1 & The Low End Theory & 1991 & FALSE & A Tribe Called Quest\\\\\n\t2 & Nevermind          & 1991 & FALSE & Nirvana             \\\\\n\t3 & Port of Morrow     & 2012 &  TRUE & The Shins           \\\\\n\t5 & Naked              & 1988 &  TRUE & Talking Heads       \\\\\n\t6 & OK Computer        & 1997 &  TRUE & Radiohead           \\\\\n\t10 & The Joshua Tree    & 1987 &  TRUE & U2                  \\\\\n\\end{tabular}\n",
            "text/plain": [
              "   Album              Year Digital Artist              \n",
              "1  The Low End Theory 1991 FALSE   A Tribe Called Quest\n",
              "2  Nevermind          1991 FALSE   Nirvana             \n",
              "3  Port of Morrow     2012  TRUE   The Shins           \n",
              "5  Naked              1988  TRUE   Talking Heads       \n",
              "6  OK Computer        1997  TRUE   Radiohead           \n",
              "10 The Joshua Tree    1987  TRUE   U2                  "
            ]
          },
          "metadata": {}
        }
      ]
    },
    {
      "cell_type": "markdown",
      "source": [
        "## `tidyverse`"
      ],
      "metadata": {
        "id": "fALGIGm_p0Hq"
      }
    },
    {
      "cell_type": "code",
      "source": [
        "# Installing packages\n",
        "install.packages(\"tidyverse\")\n",
        "library(tidyverse)"
      ],
      "metadata": {
        "id": "Kyz85b73p2BQ",
        "outputId": "ce0e91e8-27b5-49ad-af3a-fa451f5aa2df",
        "colab": {
          "base_uri": "https://localhost:8080/"
        }
      },
      "execution_count": 24,
      "outputs": [
        {
          "output_type": "stream",
          "name": "stderr",
          "text": [
            "Installing package into ‘/usr/local/lib/R/site-library’\n",
            "(as ‘lib’ is unspecified)\n",
            "\n"
          ]
        }
      ]
    },
    {
      "cell_type": "code",
      "source": [
        "# Loading a library\n"
      ],
      "metadata": {
        "id": "ga-N-9ULrNy9"
      },
      "execution_count": null,
      "outputs": []
    },
    {
      "cell_type": "code",
      "source": [
        "# Piping\n",
        " %>% = piping"
      ],
      "metadata": {
        "id": "Ydtq1VX7p-Or",
        "outputId": "9b0eaf42-3168-40c3-e046-5faaa648bc7a",
        "colab": {
          "base_uri": "https://localhost:8080/",
          "height": 161
        }
      },
      "execution_count": 26,
      "outputs": [
        {
          "output_type": "error",
          "ename": "ERROR",
          "evalue": "ignored",
          "traceback": [
            "Error in parse(text = x, srcfile = src): <text>:2:2: unexpected SPECIAL\n1: # Piping\n2:  %>%\n    ^\nTraceback:\n"
          ]
        }
      ]
    },
    {
      "cell_type": "code",
      "source": [
        "df %>%\n",
        "  select(Albun,Year)%>%\n",
        "  filter(Year>1990)"
      ],
      "metadata": {
        "id": "8HqJXDTG7D6P",
        "outputId": "284a371a-b72e-4972-fba4-eeda7acaf434",
        "colab": {
          "base_uri": "https://localhost:8080/",
          "height": 1000
        }
      },
      "execution_count": 27,
      "outputs": [
        {
          "output_type": "error",
          "ename": "ERROR",
          "evalue": "ignored",
          "traceback": [
            "\u001b[1m\u001b[33mError\u001b[39m in `select()`:\u001b[22m\n\u001b[33m!\u001b[39m Can't subset columns that don't exist.\n\u001b[31m✖\u001b[39m Column `Albun` doesn't exist.\nTraceback:\n",
            "1. df %>% select(Albun, Year) %>% filter(Year > 1990)",
            "2. filter(., Year > 1990)",
            "3. select(., Albun, Year)",
            "4. select.data.frame(., Albun, Year)",
            "5. tidyselect::eval_select(expr(c(...)), data = .data, error_call = error_call)",
            "6. eval_select_impl(data, names(data), as_quosure(expr, env), include = include, \n .     exclude = exclude, strict = strict, name_spec = name_spec, \n .     allow_rename = allow_rename, allow_empty = allow_empty, allow_predicates = allow_predicates, \n .     error_call = error_call, )",
            "7. with_subscript_errors(out <- vars_select_eval(vars, expr, strict = strict, \n .     data = x, name_spec = name_spec, uniquely_named = uniquely_named, \n .     allow_rename = allow_rename, allow_empty = allow_empty, allow_predicates = allow_predicates, \n .     type = type, error_call = error_call), type = type)",
            "8. try_fetch(expr, vctrs_error_subscript = function(cnd) {\n .     cnd$subscript_action <- subscript_action(type)\n .     cnd$subscript_elt <- \"column\"\n .     cnd_signal(cnd)\n . })",
            "9. withCallingHandlers(expr, condition = function(cnd) {\n .     {\n .         .__handler_frame__. <- TRUE\n .         .__setup_frame__. <- frame\n .         if (inherits(cnd, \"message\")) {\n .             except <- c(\"warning\", \"error\")\n .         }\n .         else if (inherits(cnd, \"warning\")) {\n .             except <- \"error\"\n .         }\n .         else {\n .             except <- \"\"\n .         }\n .     }\n .     while (!is_null(cnd)) {\n .         if (inherits(cnd, \"vctrs_error_subscript\")) {\n .             out <- handlers[[1L]](cnd)\n .             if (!inherits(out, \"rlang_zap\")) \n .                 throw(out)\n .         }\n .         inherit <- .subset2(.subset2(cnd, \"rlang\"), \"inherit\")\n .         if (is_false(inherit)) {\n .             return()\n .         }\n .         cnd <- .subset2(cnd, \"parent\")\n .     }\n . })",
            "10. vars_select_eval(vars, expr, strict = strict, data = x, name_spec = name_spec, \n  .     uniquely_named = uniquely_named, allow_rename = allow_rename, \n  .     allow_empty = allow_empty, allow_predicates = allow_predicates, \n  .     type = type, error_call = error_call)",
            "11. walk_data_tree(expr, data_mask, context_mask)",
            "12. eval_c(expr, data_mask, context_mask)",
            "13. reduce_sels(node, data_mask, context_mask, init = init)",
            "14. walk_data_tree(new, data_mask, context_mask)",
            "15. as_indices_sel_impl(out, vars = vars, strict = strict, data = data, \n  .     allow_predicates = allow_predicates, call = error_call, arg = as_label(expr))",
            "16. as_indices_impl(x, vars, call = call, arg = arg, strict = strict)",
            "17. chr_as_locations(x, vars, call = call, arg = arg)",
            "18. vctrs::vec_as_location(x, n = length(vars), names = vars, call = call, \n  .     arg = arg)",
            "19. (function () \n  . stop_subscript_oob(i = i, subscript_type = subscript_type, names = names, \n  .     subscript_action = subscript_action, subscript_arg = subscript_arg, \n  .     call = call))()",
            "20. stop_subscript_oob(i = i, subscript_type = subscript_type, names = names, \n  .     subscript_action = subscript_action, subscript_arg = subscript_arg, \n  .     call = call)",
            "21. stop_subscript(class = \"vctrs_error_subscript_oob\", i = i, subscript_type = subscript_type, \n  .     ..., call = call)",
            "22. abort(class = c(class, \"vctrs_error_subscript\"), i = i, ..., \n  .     call = call)",
            "23. signal_abort(cnd, .file)",
            "24. signalCondition(cnd)",
            "25. (function (cnd) \n  . {\n  .     {\n  .         .__handler_frame__. <- TRUE\n  .         .__setup_frame__. <- frame\n  .         if (inherits(cnd, \"message\")) {\n  .             except <- c(\"warning\", \"error\")\n  .         }\n  .         else if (inherits(cnd, \"warning\")) {\n  .             except <- \"error\"\n  .         }\n  .         else {\n  .             except <- \"\"\n  .         }\n  .     }\n  .     while (!is_null(cnd)) {\n  .         if (inherits(cnd, \"vctrs_error_subscript\")) {\n  .             out <- handlers[[1L]](cnd)\n  .             if (!inherits(out, \"rlang_zap\")) \n  .                 throw(out)\n  .         }\n  .         inherit <- .subset2(.subset2(cnd, \"rlang\"), \"inherit\")\n  .         if (is_false(inherit)) {\n  .             return()\n  .         }\n  .         cnd <- .subset2(cnd, \"parent\")\n  .     }\n  . })(structure(list(message = \"\", trace = structure(list(call = list(\n  .     IRkernel::main(), kernel$run(), handle_shell(), executor$execute(msg), \n  .     tryCatch(evaluate(request$content$code, envir = .GlobalEnv, \n  .         output_handler = oh, stop_on_error = 1L), interrupt = function(cond) {\n  .         log_debug(\"Interrupt during execution\")\n  .         interrupted <<- TRUE\n  .     }, error = .self$handle_error), tryCatchList(expr, classes, \n  .         parentenv, handlers), tryCatchOne(tryCatchList(expr, \n  .         names[-nh], parentenv, handlers[-nh]), names[nh], parentenv, \n  .         handlers[[nh]]), doTryCatch(return(expr), name, parentenv, \n  .         handler), tryCatchList(expr, names[-nh], parentenv, handlers[-nh]), \n  .     tryCatchOne(expr, names, parentenv, handlers[[1L]]), doTryCatch(return(expr), \n  .         name, parentenv, handler), evaluate(request$content$code, \n  .         envir = .GlobalEnv, output_handler = oh, stop_on_error = 1L), \n  .     evaluate_call(expr, parsed$src[[i]], envir = envir, enclos = enclos, \n  .         debug = debug, last = i == length(out), use_try = stop_on_error != \n  .             2L, keep_warning = keep_warning, keep_message = keep_message, \n  .         log_echo = log_echo, log_warning = log_warning, output_handler = output_handler, \n  .         include_timing = include_timing), timing_fn(handle(ev <- withCallingHandlers(withVisible(eval_with_user_handlers(expr, \n  .         envir, enclos, user_handlers)), warning = wHandler, error = eHandler, \n  .         message = mHandler))), handle(ev <- withCallingHandlers(withVisible(eval_with_user_handlers(expr, \n  .         envir, enclos, user_handlers)), warning = wHandler, error = eHandler, \n  .         message = mHandler)), try(f, silent = TRUE), tryCatch(expr, \n  .         error = function(e) {\n  .             call <- conditionCall(e)\n  .             if (!is.null(call)) {\n  .                 if (identical(call[[1L]], quote(doTryCatch))) \n  .                   call <- sys.call(-4L)\n  .                 dcall <- deparse(call, nlines = 1L)\n  .                 prefix <- paste(\"Error in\", dcall, \": \")\n  .                 LONG <- 75L\n  .                 sm <- strsplit(conditionMessage(e), \"\\n\")[[1L]]\n  .                 w <- 14L + nchar(dcall, type = \"w\") + nchar(sm[1L], \n  .                   type = \"w\")\n  .                 if (is.na(w)) \n  .                   w <- 14L + nchar(dcall, type = \"b\") + nchar(sm[1L], \n  .                     type = \"b\")\n  .                 if (w > LONG) \n  .                   prefix <- paste0(prefix, \"\\n  \")\n  .             }\n  .             else prefix <- \"Error : \"\n  .             msg <- paste0(prefix, conditionMessage(e), \"\\n\")\n  .             .Internal(seterrmessage(msg[1L]))\n  .             if (!silent && isTRUE(getOption(\"show.error.messages\"))) {\n  .                 cat(msg, file = outFile)\n  .                 .Internal(printDeferredWarnings())\n  .             }\n  .             invisible(structure(msg, class = \"try-error\", condition = e))\n  .         }), tryCatchList(expr, classes, parentenv, handlers), \n  .     tryCatchOne(expr, names, parentenv, handlers[[1L]]), doTryCatch(return(expr), \n  .         name, parentenv, handler), withCallingHandlers(withVisible(eval_with_user_handlers(expr, \n  .         envir, enclos, user_handlers)), warning = wHandler, error = eHandler, \n  .         message = mHandler), withVisible(eval_with_user_handlers(expr, \n  .         envir, enclos, user_handlers)), eval_with_user_handlers(expr, \n  .         envir, enclos, user_handlers), eval(expr, envir, enclos), \n  .     eval(expr, envir, enclos), df %>% select(Albun, Year) %>% \n  .         filter(Year > 1990), filter(., Year > 1990), select(., \n  .         Albun, Year), select.data.frame(., Albun, Year), tidyselect::eval_select(expr(c(...)), \n  .         data = .data, error_call = error_call), eval_select_impl(data, \n  .         names(data), as_quosure(expr, env), include = include, \n  .         exclude = exclude, strict = strict, name_spec = name_spec, \n  .         allow_rename = allow_rename, allow_empty = allow_empty, \n  .         allow_predicates = allow_predicates, error_call = error_call, \n  .         ), with_subscript_errors(out <- vars_select_eval(vars, \n  .         expr, strict = strict, data = x, name_spec = name_spec, \n  .         uniquely_named = uniquely_named, allow_rename = allow_rename, \n  .         allow_empty = allow_empty, allow_predicates = allow_predicates, \n  .         type = type, error_call = error_call), type = type), \n  .     try_fetch(expr, vctrs_error_subscript = function(cnd) {\n  .         cnd$subscript_action <- subscript_action(type)\n  .         cnd$subscript_elt <- \"column\"\n  .         cnd_signal(cnd)\n  .     }), withCallingHandlers(expr, condition = function(cnd) {\n  .         {\n  .             .__handler_frame__. <- TRUE\n  .             .__setup_frame__. <- frame\n  .             if (inherits(cnd, \"message\")) {\n  .                 except <- c(\"warning\", \"error\")\n  .             }\n  .             else if (inherits(cnd, \"warning\")) {\n  .                 except <- \"error\"\n  .             }\n  .             else {\n  .                 except <- \"\"\n  .             }\n  .         }\n  .         while (!is_null(cnd)) {\n  .             if (inherits(cnd, \"vctrs_error_subscript\")) {\n  .                 out <- handlers[[1L]](cnd)\n  .                 if (!inherits(out, \"rlang_zap\")) \n  .                   throw(out)\n  .             }\n  .             inherit <- .subset2(.subset2(cnd, \"rlang\"), \"inherit\")\n  .             if (is_false(inherit)) {\n  .                 return()\n  .             }\n  .             cnd <- .subset2(cnd, \"parent\")\n  .         }\n  .     }), vars_select_eval(vars, expr, strict = strict, data = x, \n  .         name_spec = name_spec, uniquely_named = uniquely_named, \n  .         allow_rename = allow_rename, allow_empty = allow_empty, \n  .         allow_predicates = allow_predicates, type = type, error_call = error_call), \n  .     walk_data_tree(expr, data_mask, context_mask), eval_c(expr, \n  .         data_mask, context_mask), reduce_sels(node, data_mask, \n  .         context_mask, init = init), walk_data_tree(new, data_mask, \n  .         context_mask), as_indices_sel_impl(out, vars = vars, \n  .         strict = strict, data = data, allow_predicates = allow_predicates, \n  .         call = error_call, arg = as_label(expr)), as_indices_impl(x, \n  .         vars, call = call, arg = arg, strict = strict), chr_as_locations(x, \n  .         vars, call = call, arg = arg), vctrs::vec_as_location(x, \n  .         n = length(vars), names = vars, call = call, arg = arg), \n  .     `<fn>`(), stop_subscript_oob(i = i, subscript_type = subscript_type, \n  .         names = names, subscript_action = subscript_action, subscript_arg = subscript_arg, \n  .         call = call), stop_subscript(class = \"vctrs_error_subscript_oob\", \n  .         i = i, subscript_type = subscript_type, ..., call = call), \n  .     abort(class = c(class, \"vctrs_error_subscript\"), i = i, ..., \n  .         call = call)), parent = c(0L, 1L, 2L, 3L, 4L, 5L, 6L, \n  . 7L, 6L, 9L, 10L, 4L, 12L, 13L, 13L, 15L, 16L, 17L, 18L, 19L, \n  . 13L, 13L, 13L, 23L, 24L, 0L, 0L, 0L, 0L, 29L, 30L, 31L, 32L, \n  . 33L, 31L, 35L, 36L, 37L, 38L, 39L, 40L, 41L, 42L, 0L, 44L, 45L, \n  . 46L), visible = c(TRUE, TRUE, TRUE, TRUE, TRUE, TRUE, TRUE, TRUE, \n  . TRUE, TRUE, TRUE, TRUE, TRUE, TRUE, TRUE, TRUE, TRUE, TRUE, TRUE, \n  . TRUE, TRUE, TRUE, TRUE, TRUE, TRUE, TRUE, TRUE, TRUE, TRUE, FALSE, \n  . FALSE, FALSE, FALSE, FALSE, FALSE, FALSE, FALSE, FALSE, FALSE, \n  . FALSE, FALSE, FALSE, FALSE, FALSE, FALSE, FALSE, FALSE), namespace = c(\"IRkernel\", \n  . NA, \"IRkernel\", NA, \"base\", \"base\", \"base\", \"base\", \"base\", \"base\", \n  . \"base\", \"evaluate\", \"evaluate\", \"evaluate\", \"evaluate\", \"base\", \n  . \"base\", \"base\", \"base\", \"base\", \"base\", \"base\", \"evaluate\", \"base\", \n  . \"base\", NA, \"dplyr\", \"dplyr\", \"dplyr\", \"tidyselect\", \"tidyselect\", \n  . \"tidyselect\", \"rlang\", \"base\", \"tidyselect\", \"tidyselect\", \"tidyselect\", \n  . \"tidyselect\", \"tidyselect\", \"tidyselect\", \"tidyselect\", \"tidyselect\", \n  . \"vctrs\", \"vctrs\", \"vctrs\", \"vctrs\", \"rlang\"), scope = c(\"::\", \n  . NA, \"local\", NA, \"::\", \"local\", \"local\", \"local\", \"local\", \"local\", \n  . \"local\", \"::\", \":::\", \"local\", \"local\", \"::\", \"::\", \"local\", \n  . \"local\", \"local\", \"::\", \"::\", \":::\", \"::\", \"::\", NA, \"::\", \"::\", \n  . \":::\", \"::\", \":::\", \":::\", \"::\", \"::\", \":::\", \":::\", \":::\", \":::\", \n  . \":::\", \":::\", \":::\", \":::\", \"::\", \"local\", \":::\", \":::\", \"::\"\n  . ), error_frame = c(FALSE, FALSE, FALSE, FALSE, FALSE, FALSE, \n  . FALSE, FALSE, FALSE, FALSE, FALSE, FALSE, FALSE, FALSE, FALSE, \n  . FALSE, FALSE, FALSE, FALSE, FALSE, FALSE, FALSE, FALSE, FALSE, \n  . FALSE, FALSE, FALSE, FALSE, TRUE, FALSE, FALSE, FALSE, FALSE, \n  . FALSE, FALSE, FALSE, FALSE, FALSE, FALSE, FALSE, FALSE, FALSE, \n  . FALSE, FALSE, FALSE, FALSE, FALSE)), row.names = c(NA, -47L), version = 2L, class = c(\"rlang_trace\", \n  . \"rlib_trace\", \"tbl\", \"data.frame\")), parent = NULL, i = \"Albun\", \n  .     subscript_type = \"character\", names = c(\"Album\", \"Year\", \n  .     \"Digital\", \"Artist\"), subscript_action = NULL, subscript_arg = \"Albun\", \n  .     rlang = list(inherit = TRUE), call = select(., Albun, Year)), class = c(\"vctrs_error_subscript_oob\", \n  . \"vctrs_error_subscript\", \"rlang_error\", \"error\", \"condition\")))",
            "26. handlers[[1L]](cnd)",
            "27. cnd_signal(cnd)",
            "28. signal_abort(cnd)"
          ]
        }
      ]
    },
    {
      "cell_type": "code",
      "source": [
        "# Loading a CSV file into a data frame\n",
        "titanic <- read.csv(\"https://raw.githubusercontent.com/datasciencedojo/datasets/master/titanic.csv\")"
      ],
      "metadata": {
        "id": "3YMU_jGGqQuL"
      },
      "execution_count": 29,
      "outputs": []
    },
    {
      "cell_type": "code",
      "source": [
        "titanic"
      ],
      "metadata": {
        "id": "Rij5MZ1A7UPf",
        "outputId": "d0a028d7-676d-45cf-84ff-0482aabefaef",
        "colab": {
          "base_uri": "https://localhost:8080/",
          "height": 1000
        }
      },
      "execution_count": 30,
      "outputs": [
        {
          "output_type": "display_data",
          "data": {
            "text/html": [
              "<table class=\"dataframe\">\n",
              "<caption>A data.frame: 891 × 12</caption>\n",
              "<thead>\n",
              "\t<tr><th scope=col>PassengerId</th><th scope=col>Survived</th><th scope=col>Pclass</th><th scope=col>Name</th><th scope=col>Sex</th><th scope=col>Age</th><th scope=col>SibSp</th><th scope=col>Parch</th><th scope=col>Ticket</th><th scope=col>Fare</th><th scope=col>Cabin</th><th scope=col>Embarked</th></tr>\n",
              "\t<tr><th scope=col>&lt;int&gt;</th><th scope=col>&lt;int&gt;</th><th scope=col>&lt;int&gt;</th><th scope=col>&lt;chr&gt;</th><th scope=col>&lt;chr&gt;</th><th scope=col>&lt;dbl&gt;</th><th scope=col>&lt;int&gt;</th><th scope=col>&lt;int&gt;</th><th scope=col>&lt;chr&gt;</th><th scope=col>&lt;dbl&gt;</th><th scope=col>&lt;chr&gt;</th><th scope=col>&lt;chr&gt;</th></tr>\n",
              "</thead>\n",
              "<tbody>\n",
              "\t<tr><td> 1</td><td>0</td><td>3</td><td>Braund, Mr. Owen Harris                                  </td><td>male  </td><td>22</td><td>1</td><td>0</td><td>A/5 21171       </td><td>  7.2500</td><td>           </td><td>S</td></tr>\n",
              "\t<tr><td> 2</td><td>1</td><td>1</td><td>Cumings, Mrs. John Bradley (Florence Briggs Thayer)      </td><td>female</td><td>38</td><td>1</td><td>0</td><td>PC 17599        </td><td> 71.2833</td><td>C85        </td><td>C</td></tr>\n",
              "\t<tr><td> 3</td><td>1</td><td>3</td><td>Heikkinen, Miss. Laina                                   </td><td>female</td><td>26</td><td>0</td><td>0</td><td>STON/O2. 3101282</td><td>  7.9250</td><td>           </td><td>S</td></tr>\n",
              "\t<tr><td> 4</td><td>1</td><td>1</td><td>Futrelle, Mrs. Jacques Heath (Lily May Peel)             </td><td>female</td><td>35</td><td>1</td><td>0</td><td>113803          </td><td> 53.1000</td><td>C123       </td><td>S</td></tr>\n",
              "\t<tr><td> 5</td><td>0</td><td>3</td><td>Allen, Mr. William Henry                                 </td><td>male  </td><td>35</td><td>0</td><td>0</td><td>373450          </td><td>  8.0500</td><td>           </td><td>S</td></tr>\n",
              "\t<tr><td> 6</td><td>0</td><td>3</td><td>Moran, Mr. James                                         </td><td>male  </td><td>NA</td><td>0</td><td>0</td><td>330877          </td><td>  8.4583</td><td>           </td><td>Q</td></tr>\n",
              "\t<tr><td> 7</td><td>0</td><td>1</td><td>McCarthy, Mr. Timothy J                                  </td><td>male  </td><td>54</td><td>0</td><td>0</td><td>17463           </td><td> 51.8625</td><td>E46        </td><td>S</td></tr>\n",
              "\t<tr><td> 8</td><td>0</td><td>3</td><td>Palsson, Master. Gosta Leonard                           </td><td>male  </td><td> 2</td><td>3</td><td>1</td><td>349909          </td><td> 21.0750</td><td>           </td><td>S</td></tr>\n",
              "\t<tr><td> 9</td><td>1</td><td>3</td><td>Johnson, Mrs. Oscar W (Elisabeth Vilhelmina Berg)        </td><td>female</td><td>27</td><td>0</td><td>2</td><td>347742          </td><td> 11.1333</td><td>           </td><td>S</td></tr>\n",
              "\t<tr><td>10</td><td>1</td><td>2</td><td>Nasser, Mrs. Nicholas (Adele Achem)                      </td><td>female</td><td>14</td><td>1</td><td>0</td><td>237736          </td><td> 30.0708</td><td>           </td><td>C</td></tr>\n",
              "\t<tr><td>11</td><td>1</td><td>3</td><td>Sandstrom, Miss. Marguerite Rut                          </td><td>female</td><td> 4</td><td>1</td><td>1</td><td>PP 9549         </td><td> 16.7000</td><td>G6         </td><td>S</td></tr>\n",
              "\t<tr><td>12</td><td>1</td><td>1</td><td>Bonnell, Miss. Elizabeth                                 </td><td>female</td><td>58</td><td>0</td><td>0</td><td>113783          </td><td> 26.5500</td><td>C103       </td><td>S</td></tr>\n",
              "\t<tr><td>13</td><td>0</td><td>3</td><td>Saundercock, Mr. William Henry                           </td><td>male  </td><td>20</td><td>0</td><td>0</td><td>A/5. 2151       </td><td>  8.0500</td><td>           </td><td>S</td></tr>\n",
              "\t<tr><td>14</td><td>0</td><td>3</td><td>Andersson, Mr. Anders Johan                              </td><td>male  </td><td>39</td><td>1</td><td>5</td><td>347082          </td><td> 31.2750</td><td>           </td><td>S</td></tr>\n",
              "\t<tr><td>15</td><td>0</td><td>3</td><td>Vestrom, Miss. Hulda Amanda Adolfina                     </td><td>female</td><td>14</td><td>0</td><td>0</td><td>350406          </td><td>  7.8542</td><td>           </td><td>S</td></tr>\n",
              "\t<tr><td>16</td><td>1</td><td>2</td><td>Hewlett, Mrs. (Mary D Kingcome)                          </td><td>female</td><td>55</td><td>0</td><td>0</td><td>248706          </td><td> 16.0000</td><td>           </td><td>S</td></tr>\n",
              "\t<tr><td>17</td><td>0</td><td>3</td><td>Rice, Master. Eugene                                     </td><td>male  </td><td> 2</td><td>4</td><td>1</td><td>382652          </td><td> 29.1250</td><td>           </td><td>Q</td></tr>\n",
              "\t<tr><td>18</td><td>1</td><td>2</td><td>Williams, Mr. Charles Eugene                             </td><td>male  </td><td>NA</td><td>0</td><td>0</td><td>244373          </td><td> 13.0000</td><td>           </td><td>S</td></tr>\n",
              "\t<tr><td>19</td><td>0</td><td>3</td><td>Vander Planke, Mrs. Julius (Emelia Maria Vandemoortele)  </td><td>female</td><td>31</td><td>1</td><td>0</td><td>345763          </td><td> 18.0000</td><td>           </td><td>S</td></tr>\n",
              "\t<tr><td>20</td><td>1</td><td>3</td><td>Masselmani, Mrs. Fatima                                  </td><td>female</td><td>NA</td><td>0</td><td>0</td><td>2649            </td><td>  7.2250</td><td>           </td><td>C</td></tr>\n",
              "\t<tr><td>21</td><td>0</td><td>2</td><td>Fynney, Mr. Joseph J                                     </td><td>male  </td><td>35</td><td>0</td><td>0</td><td>239865          </td><td> 26.0000</td><td>           </td><td>S</td></tr>\n",
              "\t<tr><td>22</td><td>1</td><td>2</td><td>Beesley, Mr. Lawrence                                    </td><td>male  </td><td>34</td><td>0</td><td>0</td><td>248698          </td><td> 13.0000</td><td>D56        </td><td>S</td></tr>\n",
              "\t<tr><td>23</td><td>1</td><td>3</td><td>McGowan, Miss. Anna \"Annie\"                              </td><td>female</td><td>15</td><td>0</td><td>0</td><td>330923          </td><td>  8.0292</td><td>           </td><td>Q</td></tr>\n",
              "\t<tr><td>24</td><td>1</td><td>1</td><td>Sloper, Mr. William Thompson                             </td><td>male  </td><td>28</td><td>0</td><td>0</td><td>113788          </td><td> 35.5000</td><td>A6         </td><td>S</td></tr>\n",
              "\t<tr><td>25</td><td>0</td><td>3</td><td>Palsson, Miss. Torborg Danira                            </td><td>female</td><td> 8</td><td>3</td><td>1</td><td>349909          </td><td> 21.0750</td><td>           </td><td>S</td></tr>\n",
              "\t<tr><td>26</td><td>1</td><td>3</td><td>Asplund, Mrs. Carl Oscar (Selma Augusta Emilia Johansson)</td><td>female</td><td>38</td><td>1</td><td>5</td><td>347077          </td><td> 31.3875</td><td>           </td><td>S</td></tr>\n",
              "\t<tr><td>27</td><td>0</td><td>3</td><td>Emir, Mr. Farred Chehab                                  </td><td>male  </td><td>NA</td><td>0</td><td>0</td><td>2631            </td><td>  7.2250</td><td>           </td><td>C</td></tr>\n",
              "\t<tr><td>28</td><td>0</td><td>1</td><td>Fortune, Mr. Charles Alexander                           </td><td>male  </td><td>19</td><td>3</td><td>2</td><td>19950           </td><td>263.0000</td><td>C23 C25 C27</td><td>S</td></tr>\n",
              "\t<tr><td>29</td><td>1</td><td>3</td><td>O'Dwyer, Miss. Ellen \"Nellie\"                            </td><td>female</td><td>NA</td><td>0</td><td>0</td><td>330959          </td><td>  7.8792</td><td>           </td><td>Q</td></tr>\n",
              "\t<tr><td>30</td><td>0</td><td>3</td><td>Todoroff, Mr. Lalio                                      </td><td>male  </td><td>NA</td><td>0</td><td>0</td><td>349216          </td><td>  7.8958</td><td>           </td><td>S</td></tr>\n",
              "\t<tr><td>⋮</td><td>⋮</td><td>⋮</td><td>⋮</td><td>⋮</td><td>⋮</td><td>⋮</td><td>⋮</td><td>⋮</td><td>⋮</td><td>⋮</td><td>⋮</td></tr>\n",
              "\t<tr><td>862</td><td>0</td><td>2</td><td>Giles, Mr. Frederick Edward                        </td><td>male  </td><td>21</td><td>1</td><td>0</td><td>28134           </td><td>11.5000</td><td>           </td><td>S</td></tr>\n",
              "\t<tr><td>863</td><td>1</td><td>1</td><td>Swift, Mrs. Frederick Joel (Margaret Welles Barron)</td><td>female</td><td>48</td><td>0</td><td>0</td><td>17466           </td><td>25.9292</td><td>D17        </td><td>S</td></tr>\n",
              "\t<tr><td>864</td><td>0</td><td>3</td><td>Sage, Miss. Dorothy Edith \"Dolly\"                  </td><td>female</td><td>NA</td><td>8</td><td>2</td><td>CA. 2343        </td><td>69.5500</td><td>           </td><td>S</td></tr>\n",
              "\t<tr><td>865</td><td>0</td><td>2</td><td>Gill, Mr. John William                             </td><td>male  </td><td>24</td><td>0</td><td>0</td><td>233866          </td><td>13.0000</td><td>           </td><td>S</td></tr>\n",
              "\t<tr><td>866</td><td>1</td><td>2</td><td>Bystrom, Mrs. (Karolina)                           </td><td>female</td><td>42</td><td>0</td><td>0</td><td>236852          </td><td>13.0000</td><td>           </td><td>S</td></tr>\n",
              "\t<tr><td>867</td><td>1</td><td>2</td><td>Duran y More, Miss. Asuncion                       </td><td>female</td><td>27</td><td>1</td><td>0</td><td>SC/PARIS 2149   </td><td>13.8583</td><td>           </td><td>C</td></tr>\n",
              "\t<tr><td>868</td><td>0</td><td>1</td><td>Roebling, Mr. Washington Augustus II               </td><td>male  </td><td>31</td><td>0</td><td>0</td><td>PC 17590        </td><td>50.4958</td><td>A24        </td><td>S</td></tr>\n",
              "\t<tr><td>869</td><td>0</td><td>3</td><td>van Melkebeke, Mr. Philemon                        </td><td>male  </td><td>NA</td><td>0</td><td>0</td><td>345777          </td><td> 9.5000</td><td>           </td><td>S</td></tr>\n",
              "\t<tr><td>870</td><td>1</td><td>3</td><td>Johnson, Master. Harold Theodor                    </td><td>male  </td><td> 4</td><td>1</td><td>1</td><td>347742          </td><td>11.1333</td><td>           </td><td>S</td></tr>\n",
              "\t<tr><td>871</td><td>0</td><td>3</td><td>Balkic, Mr. Cerin                                  </td><td>male  </td><td>26</td><td>0</td><td>0</td><td>349248          </td><td> 7.8958</td><td>           </td><td>S</td></tr>\n",
              "\t<tr><td>872</td><td>1</td><td>1</td><td>Beckwith, Mrs. Richard Leonard (Sallie Monypeny)   </td><td>female</td><td>47</td><td>1</td><td>1</td><td>11751           </td><td>52.5542</td><td>D35        </td><td>S</td></tr>\n",
              "\t<tr><td>873</td><td>0</td><td>1</td><td>Carlsson, Mr. Frans Olof                           </td><td>male  </td><td>33</td><td>0</td><td>0</td><td>695             </td><td> 5.0000</td><td>B51 B53 B55</td><td>S</td></tr>\n",
              "\t<tr><td>874</td><td>0</td><td>3</td><td>Vander Cruyssen, Mr. Victor                        </td><td>male  </td><td>47</td><td>0</td><td>0</td><td>345765          </td><td> 9.0000</td><td>           </td><td>S</td></tr>\n",
              "\t<tr><td>875</td><td>1</td><td>2</td><td>Abelson, Mrs. Samuel (Hannah Wizosky)              </td><td>female</td><td>28</td><td>1</td><td>0</td><td>P/PP 3381       </td><td>24.0000</td><td>           </td><td>C</td></tr>\n",
              "\t<tr><td>876</td><td>1</td><td>3</td><td>Najib, Miss. Adele Kiamie \"Jane\"                   </td><td>female</td><td>15</td><td>0</td><td>0</td><td>2667            </td><td> 7.2250</td><td>           </td><td>C</td></tr>\n",
              "\t<tr><td>877</td><td>0</td><td>3</td><td>Gustafsson, Mr. Alfred Ossian                      </td><td>male  </td><td>20</td><td>0</td><td>0</td><td>7534            </td><td> 9.8458</td><td>           </td><td>S</td></tr>\n",
              "\t<tr><td>878</td><td>0</td><td>3</td><td>Petroff, Mr. Nedelio                               </td><td>male  </td><td>19</td><td>0</td><td>0</td><td>349212          </td><td> 7.8958</td><td>           </td><td>S</td></tr>\n",
              "\t<tr><td>879</td><td>0</td><td>3</td><td>Laleff, Mr. Kristo                                 </td><td>male  </td><td>NA</td><td>0</td><td>0</td><td>349217          </td><td> 7.8958</td><td>           </td><td>S</td></tr>\n",
              "\t<tr><td>880</td><td>1</td><td>1</td><td>Potter, Mrs. Thomas Jr (Lily Alexenia Wilson)      </td><td>female</td><td>56</td><td>0</td><td>1</td><td>11767           </td><td>83.1583</td><td>C50        </td><td>C</td></tr>\n",
              "\t<tr><td>881</td><td>1</td><td>2</td><td>Shelley, Mrs. William (Imanita Parrish Hall)       </td><td>female</td><td>25</td><td>0</td><td>1</td><td>230433          </td><td>26.0000</td><td>           </td><td>S</td></tr>\n",
              "\t<tr><td>882</td><td>0</td><td>3</td><td>Markun, Mr. Johann                                 </td><td>male  </td><td>33</td><td>0</td><td>0</td><td>349257          </td><td> 7.8958</td><td>           </td><td>S</td></tr>\n",
              "\t<tr><td>883</td><td>0</td><td>3</td><td>Dahlberg, Miss. Gerda Ulrika                       </td><td>female</td><td>22</td><td>0</td><td>0</td><td>7552            </td><td>10.5167</td><td>           </td><td>S</td></tr>\n",
              "\t<tr><td>884</td><td>0</td><td>2</td><td>Banfield, Mr. Frederick James                      </td><td>male  </td><td>28</td><td>0</td><td>0</td><td>C.A./SOTON 34068</td><td>10.5000</td><td>           </td><td>S</td></tr>\n",
              "\t<tr><td>885</td><td>0</td><td>3</td><td>Sutehall, Mr. Henry Jr                             </td><td>male  </td><td>25</td><td>0</td><td>0</td><td>SOTON/OQ 392076 </td><td> 7.0500</td><td>           </td><td>S</td></tr>\n",
              "\t<tr><td>886</td><td>0</td><td>3</td><td>Rice, Mrs. William (Margaret Norton)               </td><td>female</td><td>39</td><td>0</td><td>5</td><td>382652          </td><td>29.1250</td><td>           </td><td>Q</td></tr>\n",
              "\t<tr><td>887</td><td>0</td><td>2</td><td>Montvila, Rev. Juozas                              </td><td>male  </td><td>27</td><td>0</td><td>0</td><td>211536          </td><td>13.0000</td><td>           </td><td>S</td></tr>\n",
              "\t<tr><td>888</td><td>1</td><td>1</td><td>Graham, Miss. Margaret Edith                       </td><td>female</td><td>19</td><td>0</td><td>0</td><td>112053          </td><td>30.0000</td><td>B42        </td><td>S</td></tr>\n",
              "\t<tr><td>889</td><td>0</td><td>3</td><td>Johnston, Miss. Catherine Helen \"Carrie\"           </td><td>female</td><td>NA</td><td>1</td><td>2</td><td>W./C. 6607      </td><td>23.4500</td><td>           </td><td>S</td></tr>\n",
              "\t<tr><td>890</td><td>1</td><td>1</td><td>Behr, Mr. Karl Howell                              </td><td>male  </td><td>26</td><td>0</td><td>0</td><td>111369          </td><td>30.0000</td><td>C148       </td><td>C</td></tr>\n",
              "\t<tr><td>891</td><td>0</td><td>3</td><td>Dooley, Mr. Patrick                                </td><td>male  </td><td>32</td><td>0</td><td>0</td><td>370376          </td><td> 7.7500</td><td>           </td><td>Q</td></tr>\n",
              "</tbody>\n",
              "</table>\n"
            ],
            "text/markdown": "\nA data.frame: 891 × 12\n\n| PassengerId &lt;int&gt; | Survived &lt;int&gt; | Pclass &lt;int&gt; | Name &lt;chr&gt; | Sex &lt;chr&gt; | Age &lt;dbl&gt; | SibSp &lt;int&gt; | Parch &lt;int&gt; | Ticket &lt;chr&gt; | Fare &lt;dbl&gt; | Cabin &lt;chr&gt; | Embarked &lt;chr&gt; |\n|---|---|---|---|---|---|---|---|---|---|---|---|\n|  1 | 0 | 3 | Braund, Mr. Owen Harris                                   | male   | 22 | 1 | 0 | A/5 21171        |   7.2500 | <!----> | S |\n|  2 | 1 | 1 | Cumings, Mrs. John Bradley (Florence Briggs Thayer)       | female | 38 | 1 | 0 | PC 17599         |  71.2833 | C85         | C |\n|  3 | 1 | 3 | Heikkinen, Miss. Laina                                    | female | 26 | 0 | 0 | STON/O2. 3101282 |   7.9250 | <!----> | S |\n|  4 | 1 | 1 | Futrelle, Mrs. Jacques Heath (Lily May Peel)              | female | 35 | 1 | 0 | 113803           |  53.1000 | C123        | S |\n|  5 | 0 | 3 | Allen, Mr. William Henry                                  | male   | 35 | 0 | 0 | 373450           |   8.0500 | <!----> | S |\n|  6 | 0 | 3 | Moran, Mr. James                                          | male   | NA | 0 | 0 | 330877           |   8.4583 | <!----> | Q |\n|  7 | 0 | 1 | McCarthy, Mr. Timothy J                                   | male   | 54 | 0 | 0 | 17463            |  51.8625 | E46         | S |\n|  8 | 0 | 3 | Palsson, Master. Gosta Leonard                            | male   |  2 | 3 | 1 | 349909           |  21.0750 | <!----> | S |\n|  9 | 1 | 3 | Johnson, Mrs. Oscar W (Elisabeth Vilhelmina Berg)         | female | 27 | 0 | 2 | 347742           |  11.1333 | <!----> | S |\n| 10 | 1 | 2 | Nasser, Mrs. Nicholas (Adele Achem)                       | female | 14 | 1 | 0 | 237736           |  30.0708 | <!----> | C |\n| 11 | 1 | 3 | Sandstrom, Miss. Marguerite Rut                           | female |  4 | 1 | 1 | PP 9549          |  16.7000 | G6          | S |\n| 12 | 1 | 1 | Bonnell, Miss. Elizabeth                                  | female | 58 | 0 | 0 | 113783           |  26.5500 | C103        | S |\n| 13 | 0 | 3 | Saundercock, Mr. William Henry                            | male   | 20 | 0 | 0 | A/5. 2151        |   8.0500 | <!----> | S |\n| 14 | 0 | 3 | Andersson, Mr. Anders Johan                               | male   | 39 | 1 | 5 | 347082           |  31.2750 | <!----> | S |\n| 15 | 0 | 3 | Vestrom, Miss. Hulda Amanda Adolfina                      | female | 14 | 0 | 0 | 350406           |   7.8542 | <!----> | S |\n| 16 | 1 | 2 | Hewlett, Mrs. (Mary D Kingcome)                           | female | 55 | 0 | 0 | 248706           |  16.0000 | <!----> | S |\n| 17 | 0 | 3 | Rice, Master. Eugene                                      | male   |  2 | 4 | 1 | 382652           |  29.1250 | <!----> | Q |\n| 18 | 1 | 2 | Williams, Mr. Charles Eugene                              | male   | NA | 0 | 0 | 244373           |  13.0000 | <!----> | S |\n| 19 | 0 | 3 | Vander Planke, Mrs. Julius (Emelia Maria Vandemoortele)   | female | 31 | 1 | 0 | 345763           |  18.0000 | <!----> | S |\n| 20 | 1 | 3 | Masselmani, Mrs. Fatima                                   | female | NA | 0 | 0 | 2649             |   7.2250 | <!----> | C |\n| 21 | 0 | 2 | Fynney, Mr. Joseph J                                      | male   | 35 | 0 | 0 | 239865           |  26.0000 | <!----> | S |\n| 22 | 1 | 2 | Beesley, Mr. Lawrence                                     | male   | 34 | 0 | 0 | 248698           |  13.0000 | D56         | S |\n| 23 | 1 | 3 | McGowan, Miss. Anna \"Annie\"                               | female | 15 | 0 | 0 | 330923           |   8.0292 | <!----> | Q |\n| 24 | 1 | 1 | Sloper, Mr. William Thompson                              | male   | 28 | 0 | 0 | 113788           |  35.5000 | A6          | S |\n| 25 | 0 | 3 | Palsson, Miss. Torborg Danira                             | female |  8 | 3 | 1 | 349909           |  21.0750 | <!----> | S |\n| 26 | 1 | 3 | Asplund, Mrs. Carl Oscar (Selma Augusta Emilia Johansson) | female | 38 | 1 | 5 | 347077           |  31.3875 | <!----> | S |\n| 27 | 0 | 3 | Emir, Mr. Farred Chehab                                   | male   | NA | 0 | 0 | 2631             |   7.2250 | <!----> | C |\n| 28 | 0 | 1 | Fortune, Mr. Charles Alexander                            | male   | 19 | 3 | 2 | 19950            | 263.0000 | C23 C25 C27 | S |\n| 29 | 1 | 3 | O'Dwyer, Miss. Ellen \"Nellie\"                             | female | NA | 0 | 0 | 330959           |   7.8792 | <!----> | Q |\n| 30 | 0 | 3 | Todoroff, Mr. Lalio                                       | male   | NA | 0 | 0 | 349216           |   7.8958 | <!----> | S |\n| ⋮ | ⋮ | ⋮ | ⋮ | ⋮ | ⋮ | ⋮ | ⋮ | ⋮ | ⋮ | ⋮ | ⋮ |\n| 862 | 0 | 2 | Giles, Mr. Frederick Edward                         | male   | 21 | 1 | 0 | 28134            | 11.5000 | <!----> | S |\n| 863 | 1 | 1 | Swift, Mrs. Frederick Joel (Margaret Welles Barron) | female | 48 | 0 | 0 | 17466            | 25.9292 | D17         | S |\n| 864 | 0 | 3 | Sage, Miss. Dorothy Edith \"Dolly\"                   | female | NA | 8 | 2 | CA. 2343         | 69.5500 | <!----> | S |\n| 865 | 0 | 2 | Gill, Mr. John William                              | male   | 24 | 0 | 0 | 233866           | 13.0000 | <!----> | S |\n| 866 | 1 | 2 | Bystrom, Mrs. (Karolina)                            | female | 42 | 0 | 0 | 236852           | 13.0000 | <!----> | S |\n| 867 | 1 | 2 | Duran y More, Miss. Asuncion                        | female | 27 | 1 | 0 | SC/PARIS 2149    | 13.8583 | <!----> | C |\n| 868 | 0 | 1 | Roebling, Mr. Washington Augustus II                | male   | 31 | 0 | 0 | PC 17590         | 50.4958 | A24         | S |\n| 869 | 0 | 3 | van Melkebeke, Mr. Philemon                         | male   | NA | 0 | 0 | 345777           |  9.5000 | <!----> | S |\n| 870 | 1 | 3 | Johnson, Master. Harold Theodor                     | male   |  4 | 1 | 1 | 347742           | 11.1333 | <!----> | S |\n| 871 | 0 | 3 | Balkic, Mr. Cerin                                   | male   | 26 | 0 | 0 | 349248           |  7.8958 | <!----> | S |\n| 872 | 1 | 1 | Beckwith, Mrs. Richard Leonard (Sallie Monypeny)    | female | 47 | 1 | 1 | 11751            | 52.5542 | D35         | S |\n| 873 | 0 | 1 | Carlsson, Mr. Frans Olof                            | male   | 33 | 0 | 0 | 695              |  5.0000 | B51 B53 B55 | S |\n| 874 | 0 | 3 | Vander Cruyssen, Mr. Victor                         | male   | 47 | 0 | 0 | 345765           |  9.0000 | <!----> | S |\n| 875 | 1 | 2 | Abelson, Mrs. Samuel (Hannah Wizosky)               | female | 28 | 1 | 0 | P/PP 3381        | 24.0000 | <!----> | C |\n| 876 | 1 | 3 | Najib, Miss. Adele Kiamie \"Jane\"                    | female | 15 | 0 | 0 | 2667             |  7.2250 | <!----> | C |\n| 877 | 0 | 3 | Gustafsson, Mr. Alfred Ossian                       | male   | 20 | 0 | 0 | 7534             |  9.8458 | <!----> | S |\n| 878 | 0 | 3 | Petroff, Mr. Nedelio                                | male   | 19 | 0 | 0 | 349212           |  7.8958 | <!----> | S |\n| 879 | 0 | 3 | Laleff, Mr. Kristo                                  | male   | NA | 0 | 0 | 349217           |  7.8958 | <!----> | S |\n| 880 | 1 | 1 | Potter, Mrs. Thomas Jr (Lily Alexenia Wilson)       | female | 56 | 0 | 1 | 11767            | 83.1583 | C50         | C |\n| 881 | 1 | 2 | Shelley, Mrs. William (Imanita Parrish Hall)        | female | 25 | 0 | 1 | 230433           | 26.0000 | <!----> | S |\n| 882 | 0 | 3 | Markun, Mr. Johann                                  | male   | 33 | 0 | 0 | 349257           |  7.8958 | <!----> | S |\n| 883 | 0 | 3 | Dahlberg, Miss. Gerda Ulrika                        | female | 22 | 0 | 0 | 7552             | 10.5167 | <!----> | S |\n| 884 | 0 | 2 | Banfield, Mr. Frederick James                       | male   | 28 | 0 | 0 | C.A./SOTON 34068 | 10.5000 | <!----> | S |\n| 885 | 0 | 3 | Sutehall, Mr. Henry Jr                              | male   | 25 | 0 | 0 | SOTON/OQ 392076  |  7.0500 | <!----> | S |\n| 886 | 0 | 3 | Rice, Mrs. William (Margaret Norton)                | female | 39 | 0 | 5 | 382652           | 29.1250 | <!----> | Q |\n| 887 | 0 | 2 | Montvila, Rev. Juozas                               | male   | 27 | 0 | 0 | 211536           | 13.0000 | <!----> | S |\n| 888 | 1 | 1 | Graham, Miss. Margaret Edith                        | female | 19 | 0 | 0 | 112053           | 30.0000 | B42         | S |\n| 889 | 0 | 3 | Johnston, Miss. Catherine Helen \"Carrie\"            | female | NA | 1 | 2 | W./C. 6607       | 23.4500 | <!----> | S |\n| 890 | 1 | 1 | Behr, Mr. Karl Howell                               | male   | 26 | 0 | 0 | 111369           | 30.0000 | C148        | C |\n| 891 | 0 | 3 | Dooley, Mr. Patrick                                 | male   | 32 | 0 | 0 | 370376           |  7.7500 | <!----> | Q |\n\n",
            "text/latex": "A data.frame: 891 × 12\n\\begin{tabular}{llllllllllll}\n PassengerId & Survived & Pclass & Name & Sex & Age & SibSp & Parch & Ticket & Fare & Cabin & Embarked\\\\\n <int> & <int> & <int> & <chr> & <chr> & <dbl> & <int> & <int> & <chr> & <dbl> & <chr> & <chr>\\\\\n\\hline\n\t  1 & 0 & 3 & Braund, Mr. Owen Harris                                   & male   & 22 & 1 & 0 & A/5 21171        &   7.2500 &             & S\\\\\n\t  2 & 1 & 1 & Cumings, Mrs. John Bradley (Florence Briggs Thayer)       & female & 38 & 1 & 0 & PC 17599         &  71.2833 & C85         & C\\\\\n\t  3 & 1 & 3 & Heikkinen, Miss. Laina                                    & female & 26 & 0 & 0 & STON/O2. 3101282 &   7.9250 &             & S\\\\\n\t  4 & 1 & 1 & Futrelle, Mrs. Jacques Heath (Lily May Peel)              & female & 35 & 1 & 0 & 113803           &  53.1000 & C123        & S\\\\\n\t  5 & 0 & 3 & Allen, Mr. William Henry                                  & male   & 35 & 0 & 0 & 373450           &   8.0500 &             & S\\\\\n\t  6 & 0 & 3 & Moran, Mr. James                                          & male   & NA & 0 & 0 & 330877           &   8.4583 &             & Q\\\\\n\t  7 & 0 & 1 & McCarthy, Mr. Timothy J                                   & male   & 54 & 0 & 0 & 17463            &  51.8625 & E46         & S\\\\\n\t  8 & 0 & 3 & Palsson, Master. Gosta Leonard                            & male   &  2 & 3 & 1 & 349909           &  21.0750 &             & S\\\\\n\t  9 & 1 & 3 & Johnson, Mrs. Oscar W (Elisabeth Vilhelmina Berg)         & female & 27 & 0 & 2 & 347742           &  11.1333 &             & S\\\\\n\t 10 & 1 & 2 & Nasser, Mrs. Nicholas (Adele Achem)                       & female & 14 & 1 & 0 & 237736           &  30.0708 &             & C\\\\\n\t 11 & 1 & 3 & Sandstrom, Miss. Marguerite Rut                           & female &  4 & 1 & 1 & PP 9549          &  16.7000 & G6          & S\\\\\n\t 12 & 1 & 1 & Bonnell, Miss. Elizabeth                                  & female & 58 & 0 & 0 & 113783           &  26.5500 & C103        & S\\\\\n\t 13 & 0 & 3 & Saundercock, Mr. William Henry                            & male   & 20 & 0 & 0 & A/5. 2151        &   8.0500 &             & S\\\\\n\t 14 & 0 & 3 & Andersson, Mr. Anders Johan                               & male   & 39 & 1 & 5 & 347082           &  31.2750 &             & S\\\\\n\t 15 & 0 & 3 & Vestrom, Miss. Hulda Amanda Adolfina                      & female & 14 & 0 & 0 & 350406           &   7.8542 &             & S\\\\\n\t 16 & 1 & 2 & Hewlett, Mrs. (Mary D Kingcome)                           & female & 55 & 0 & 0 & 248706           &  16.0000 &             & S\\\\\n\t 17 & 0 & 3 & Rice, Master. Eugene                                      & male   &  2 & 4 & 1 & 382652           &  29.1250 &             & Q\\\\\n\t 18 & 1 & 2 & Williams, Mr. Charles Eugene                              & male   & NA & 0 & 0 & 244373           &  13.0000 &             & S\\\\\n\t 19 & 0 & 3 & Vander Planke, Mrs. Julius (Emelia Maria Vandemoortele)   & female & 31 & 1 & 0 & 345763           &  18.0000 &             & S\\\\\n\t 20 & 1 & 3 & Masselmani, Mrs. Fatima                                   & female & NA & 0 & 0 & 2649             &   7.2250 &             & C\\\\\n\t 21 & 0 & 2 & Fynney, Mr. Joseph J                                      & male   & 35 & 0 & 0 & 239865           &  26.0000 &             & S\\\\\n\t 22 & 1 & 2 & Beesley, Mr. Lawrence                                     & male   & 34 & 0 & 0 & 248698           &  13.0000 & D56         & S\\\\\n\t 23 & 1 & 3 & McGowan, Miss. Anna \"Annie\"                               & female & 15 & 0 & 0 & 330923           &   8.0292 &             & Q\\\\\n\t 24 & 1 & 1 & Sloper, Mr. William Thompson                              & male   & 28 & 0 & 0 & 113788           &  35.5000 & A6          & S\\\\\n\t 25 & 0 & 3 & Palsson, Miss. Torborg Danira                             & female &  8 & 3 & 1 & 349909           &  21.0750 &             & S\\\\\n\t 26 & 1 & 3 & Asplund, Mrs. Carl Oscar (Selma Augusta Emilia Johansson) & female & 38 & 1 & 5 & 347077           &  31.3875 &             & S\\\\\n\t 27 & 0 & 3 & Emir, Mr. Farred Chehab                                   & male   & NA & 0 & 0 & 2631             &   7.2250 &             & C\\\\\n\t 28 & 0 & 1 & Fortune, Mr. Charles Alexander                            & male   & 19 & 3 & 2 & 19950            & 263.0000 & C23 C25 C27 & S\\\\\n\t 29 & 1 & 3 & O'Dwyer, Miss. Ellen \"Nellie\"                             & female & NA & 0 & 0 & 330959           &   7.8792 &             & Q\\\\\n\t 30 & 0 & 3 & Todoroff, Mr. Lalio                                       & male   & NA & 0 & 0 & 349216           &   7.8958 &             & S\\\\\n\t ⋮ & ⋮ & ⋮ & ⋮ & ⋮ & ⋮ & ⋮ & ⋮ & ⋮ & ⋮ & ⋮ & ⋮\\\\\n\t 862 & 0 & 2 & Giles, Mr. Frederick Edward                         & male   & 21 & 1 & 0 & 28134            & 11.5000 &             & S\\\\\n\t 863 & 1 & 1 & Swift, Mrs. Frederick Joel (Margaret Welles Barron) & female & 48 & 0 & 0 & 17466            & 25.9292 & D17         & S\\\\\n\t 864 & 0 & 3 & Sage, Miss. Dorothy Edith \"Dolly\"                   & female & NA & 8 & 2 & CA. 2343         & 69.5500 &             & S\\\\\n\t 865 & 0 & 2 & Gill, Mr. John William                              & male   & 24 & 0 & 0 & 233866           & 13.0000 &             & S\\\\\n\t 866 & 1 & 2 & Bystrom, Mrs. (Karolina)                            & female & 42 & 0 & 0 & 236852           & 13.0000 &             & S\\\\\n\t 867 & 1 & 2 & Duran y More, Miss. Asuncion                        & female & 27 & 1 & 0 & SC/PARIS 2149    & 13.8583 &             & C\\\\\n\t 868 & 0 & 1 & Roebling, Mr. Washington Augustus II                & male   & 31 & 0 & 0 & PC 17590         & 50.4958 & A24         & S\\\\\n\t 869 & 0 & 3 & van Melkebeke, Mr. Philemon                         & male   & NA & 0 & 0 & 345777           &  9.5000 &             & S\\\\\n\t 870 & 1 & 3 & Johnson, Master. Harold Theodor                     & male   &  4 & 1 & 1 & 347742           & 11.1333 &             & S\\\\\n\t 871 & 0 & 3 & Balkic, Mr. Cerin                                   & male   & 26 & 0 & 0 & 349248           &  7.8958 &             & S\\\\\n\t 872 & 1 & 1 & Beckwith, Mrs. Richard Leonard (Sallie Monypeny)    & female & 47 & 1 & 1 & 11751            & 52.5542 & D35         & S\\\\\n\t 873 & 0 & 1 & Carlsson, Mr. Frans Olof                            & male   & 33 & 0 & 0 & 695              &  5.0000 & B51 B53 B55 & S\\\\\n\t 874 & 0 & 3 & Vander Cruyssen, Mr. Victor                         & male   & 47 & 0 & 0 & 345765           &  9.0000 &             & S\\\\\n\t 875 & 1 & 2 & Abelson, Mrs. Samuel (Hannah Wizosky)               & female & 28 & 1 & 0 & P/PP 3381        & 24.0000 &             & C\\\\\n\t 876 & 1 & 3 & Najib, Miss. Adele Kiamie \"Jane\"                    & female & 15 & 0 & 0 & 2667             &  7.2250 &             & C\\\\\n\t 877 & 0 & 3 & Gustafsson, Mr. Alfred Ossian                       & male   & 20 & 0 & 0 & 7534             &  9.8458 &             & S\\\\\n\t 878 & 0 & 3 & Petroff, Mr. Nedelio                                & male   & 19 & 0 & 0 & 349212           &  7.8958 &             & S\\\\\n\t 879 & 0 & 3 & Laleff, Mr. Kristo                                  & male   & NA & 0 & 0 & 349217           &  7.8958 &             & S\\\\\n\t 880 & 1 & 1 & Potter, Mrs. Thomas Jr (Lily Alexenia Wilson)       & female & 56 & 0 & 1 & 11767            & 83.1583 & C50         & C\\\\\n\t 881 & 1 & 2 & Shelley, Mrs. William (Imanita Parrish Hall)        & female & 25 & 0 & 1 & 230433           & 26.0000 &             & S\\\\\n\t 882 & 0 & 3 & Markun, Mr. Johann                                  & male   & 33 & 0 & 0 & 349257           &  7.8958 &             & S\\\\\n\t 883 & 0 & 3 & Dahlberg, Miss. Gerda Ulrika                        & female & 22 & 0 & 0 & 7552             & 10.5167 &             & S\\\\\n\t 884 & 0 & 2 & Banfield, Mr. Frederick James                       & male   & 28 & 0 & 0 & C.A./SOTON 34068 & 10.5000 &             & S\\\\\n\t 885 & 0 & 3 & Sutehall, Mr. Henry Jr                              & male   & 25 & 0 & 0 & SOTON/OQ 392076  &  7.0500 &             & S\\\\\n\t 886 & 0 & 3 & Rice, Mrs. William (Margaret Norton)                & female & 39 & 0 & 5 & 382652           & 29.1250 &             & Q\\\\\n\t 887 & 0 & 2 & Montvila, Rev. Juozas                               & male   & 27 & 0 & 0 & 211536           & 13.0000 &             & S\\\\\n\t 888 & 1 & 1 & Graham, Miss. Margaret Edith                        & female & 19 & 0 & 0 & 112053           & 30.0000 & B42         & S\\\\\n\t 889 & 0 & 3 & Johnston, Miss. Catherine Helen \"Carrie\"            & female & NA & 1 & 2 & W./C. 6607       & 23.4500 &             & S\\\\\n\t 890 & 1 & 1 & Behr, Mr. Karl Howell                               & male   & 26 & 0 & 0 & 111369           & 30.0000 & C148        & C\\\\\n\t 891 & 0 & 3 & Dooley, Mr. Patrick                                 & male   & 32 & 0 & 0 & 370376           &  7.7500 &             & Q\\\\\n\\end{tabular}\n",
            "text/plain": [
              "    PassengerId Survived Pclass\n",
              "1    1          0        3     \n",
              "2    2          1        1     \n",
              "3    3          1        3     \n",
              "4    4          1        1     \n",
              "5    5          0        3     \n",
              "6    6          0        3     \n",
              "7    7          0        1     \n",
              "8    8          0        3     \n",
              "9    9          1        3     \n",
              "10  10          1        2     \n",
              "11  11          1        3     \n",
              "12  12          1        1     \n",
              "13  13          0        3     \n",
              "14  14          0        3     \n",
              "15  15          0        3     \n",
              "16  16          1        2     \n",
              "17  17          0        3     \n",
              "18  18          1        2     \n",
              "19  19          0        3     \n",
              "20  20          1        3     \n",
              "21  21          0        2     \n",
              "22  22          1        2     \n",
              "23  23          1        3     \n",
              "24  24          1        1     \n",
              "25  25          0        3     \n",
              "26  26          1        3     \n",
              "27  27          0        3     \n",
              "28  28          0        1     \n",
              "29  29          1        3     \n",
              "30  30          0        3     \n",
              "⋮   ⋮           ⋮        ⋮     \n",
              "862 862         0        2     \n",
              "863 863         1        1     \n",
              "864 864         0        3     \n",
              "865 865         0        2     \n",
              "866 866         1        2     \n",
              "867 867         1        2     \n",
              "868 868         0        1     \n",
              "869 869         0        3     \n",
              "870 870         1        3     \n",
              "871 871         0        3     \n",
              "872 872         1        1     \n",
              "873 873         0        1     \n",
              "874 874         0        3     \n",
              "875 875         1        2     \n",
              "876 876         1        3     \n",
              "877 877         0        3     \n",
              "878 878         0        3     \n",
              "879 879         0        3     \n",
              "880 880         1        1     \n",
              "881 881         1        2     \n",
              "882 882         0        3     \n",
              "883 883         0        3     \n",
              "884 884         0        2     \n",
              "885 885         0        3     \n",
              "886 886         0        3     \n",
              "887 887         0        2     \n",
              "888 888         1        1     \n",
              "889 889         0        3     \n",
              "890 890         1        1     \n",
              "891 891         0        3     \n",
              "    Name                                                      Sex    Age SibSp\n",
              "1   Braund, Mr. Owen Harris                                   male   22  1    \n",
              "2   Cumings, Mrs. John Bradley (Florence Briggs Thayer)       female 38  1    \n",
              "3   Heikkinen, Miss. Laina                                    female 26  0    \n",
              "4   Futrelle, Mrs. Jacques Heath (Lily May Peel)              female 35  1    \n",
              "5   Allen, Mr. William Henry                                  male   35  0    \n",
              "6   Moran, Mr. James                                          male   NA  0    \n",
              "7   McCarthy, Mr. Timothy J                                   male   54  0    \n",
              "8   Palsson, Master. Gosta Leonard                            male    2  3    \n",
              "9   Johnson, Mrs. Oscar W (Elisabeth Vilhelmina Berg)         female 27  0    \n",
              "10  Nasser, Mrs. Nicholas (Adele Achem)                       female 14  1    \n",
              "11  Sandstrom, Miss. Marguerite Rut                           female  4  1    \n",
              "12  Bonnell, Miss. Elizabeth                                  female 58  0    \n",
              "13  Saundercock, Mr. William Henry                            male   20  0    \n",
              "14  Andersson, Mr. Anders Johan                               male   39  1    \n",
              "15  Vestrom, Miss. Hulda Amanda Adolfina                      female 14  0    \n",
              "16  Hewlett, Mrs. (Mary D Kingcome)                           female 55  0    \n",
              "17  Rice, Master. Eugene                                      male    2  4    \n",
              "18  Williams, Mr. Charles Eugene                              male   NA  0    \n",
              "19  Vander Planke, Mrs. Julius (Emelia Maria Vandemoortele)   female 31  1    \n",
              "20  Masselmani, Mrs. Fatima                                   female NA  0    \n",
              "21  Fynney, Mr. Joseph J                                      male   35  0    \n",
              "22  Beesley, Mr. Lawrence                                     male   34  0    \n",
              "23  McGowan, Miss. Anna \"Annie\"                               female 15  0    \n",
              "24  Sloper, Mr. William Thompson                              male   28  0    \n",
              "25  Palsson, Miss. Torborg Danira                             female  8  3    \n",
              "26  Asplund, Mrs. Carl Oscar (Selma Augusta Emilia Johansson) female 38  1    \n",
              "27  Emir, Mr. Farred Chehab                                   male   NA  0    \n",
              "28  Fortune, Mr. Charles Alexander                            male   19  3    \n",
              "29  O'Dwyer, Miss. Ellen \"Nellie\"                             female NA  0    \n",
              "30  Todoroff, Mr. Lalio                                       male   NA  0    \n",
              "⋮   ⋮                                                         ⋮      ⋮   ⋮    \n",
              "862 Giles, Mr. Frederick Edward                               male   21  1    \n",
              "863 Swift, Mrs. Frederick Joel (Margaret Welles Barron)       female 48  0    \n",
              "864 Sage, Miss. Dorothy Edith \"Dolly\"                         female NA  8    \n",
              "865 Gill, Mr. John William                                    male   24  0    \n",
              "866 Bystrom, Mrs. (Karolina)                                  female 42  0    \n",
              "867 Duran y More, Miss. Asuncion                              female 27  1    \n",
              "868 Roebling, Mr. Washington Augustus II                      male   31  0    \n",
              "869 van Melkebeke, Mr. Philemon                               male   NA  0    \n",
              "870 Johnson, Master. Harold Theodor                           male    4  1    \n",
              "871 Balkic, Mr. Cerin                                         male   26  0    \n",
              "872 Beckwith, Mrs. Richard Leonard (Sallie Monypeny)          female 47  1    \n",
              "873 Carlsson, Mr. Frans Olof                                  male   33  0    \n",
              "874 Vander Cruyssen, Mr. Victor                               male   47  0    \n",
              "875 Abelson, Mrs. Samuel (Hannah Wizosky)                     female 28  1    \n",
              "876 Najib, Miss. Adele Kiamie \"Jane\"                          female 15  0    \n",
              "877 Gustafsson, Mr. Alfred Ossian                             male   20  0    \n",
              "878 Petroff, Mr. Nedelio                                      male   19  0    \n",
              "879 Laleff, Mr. Kristo                                        male   NA  0    \n",
              "880 Potter, Mrs. Thomas Jr (Lily Alexenia Wilson)             female 56  0    \n",
              "881 Shelley, Mrs. William (Imanita Parrish Hall)              female 25  0    \n",
              "882 Markun, Mr. Johann                                        male   33  0    \n",
              "883 Dahlberg, Miss. Gerda Ulrika                              female 22  0    \n",
              "884 Banfield, Mr. Frederick James                             male   28  0    \n",
              "885 Sutehall, Mr. Henry Jr                                    male   25  0    \n",
              "886 Rice, Mrs. William (Margaret Norton)                      female 39  0    \n",
              "887 Montvila, Rev. Juozas                                     male   27  0    \n",
              "888 Graham, Miss. Margaret Edith                              female 19  0    \n",
              "889 Johnston, Miss. Catherine Helen \"Carrie\"                  female NA  1    \n",
              "890 Behr, Mr. Karl Howell                                     male   26  0    \n",
              "891 Dooley, Mr. Patrick                                       male   32  0    \n",
              "    Parch Ticket           Fare     Cabin       Embarked\n",
              "1   0     A/5 21171          7.2500             S       \n",
              "2   0     PC 17599          71.2833 C85         C       \n",
              "3   0     STON/O2. 3101282   7.9250             S       \n",
              "4   0     113803            53.1000 C123        S       \n",
              "5   0     373450             8.0500             S       \n",
              "6   0     330877             8.4583             Q       \n",
              "7   0     17463             51.8625 E46         S       \n",
              "8   1     349909            21.0750             S       \n",
              "9   2     347742            11.1333             S       \n",
              "10  0     237736            30.0708             C       \n",
              "11  1     PP 9549           16.7000 G6          S       \n",
              "12  0     113783            26.5500 C103        S       \n",
              "13  0     A/5. 2151          8.0500             S       \n",
              "14  5     347082            31.2750             S       \n",
              "15  0     350406             7.8542             S       \n",
              "16  0     248706            16.0000             S       \n",
              "17  1     382652            29.1250             Q       \n",
              "18  0     244373            13.0000             S       \n",
              "19  0     345763            18.0000             S       \n",
              "20  0     2649               7.2250             C       \n",
              "21  0     239865            26.0000             S       \n",
              "22  0     248698            13.0000 D56         S       \n",
              "23  0     330923             8.0292             Q       \n",
              "24  0     113788            35.5000 A6          S       \n",
              "25  1     349909            21.0750             S       \n",
              "26  5     347077            31.3875             S       \n",
              "27  0     2631               7.2250             C       \n",
              "28  2     19950            263.0000 C23 C25 C27 S       \n",
              "29  0     330959             7.8792             Q       \n",
              "30  0     349216             7.8958             S       \n",
              "⋮   ⋮     ⋮                ⋮        ⋮           ⋮       \n",
              "862 0     28134            11.5000              S       \n",
              "863 0     17466            25.9292  D17         S       \n",
              "864 2     CA. 2343         69.5500              S       \n",
              "865 0     233866           13.0000              S       \n",
              "866 0     236852           13.0000              S       \n",
              "867 0     SC/PARIS 2149    13.8583              C       \n",
              "868 0     PC 17590         50.4958  A24         S       \n",
              "869 0     345777            9.5000              S       \n",
              "870 1     347742           11.1333              S       \n",
              "871 0     349248            7.8958              S       \n",
              "872 1     11751            52.5542  D35         S       \n",
              "873 0     695               5.0000  B51 B53 B55 S       \n",
              "874 0     345765            9.0000              S       \n",
              "875 0     P/PP 3381        24.0000              C       \n",
              "876 0     2667              7.2250              C       \n",
              "877 0     7534              9.8458              S       \n",
              "878 0     349212            7.8958              S       \n",
              "879 0     349217            7.8958              S       \n",
              "880 1     11767            83.1583  C50         C       \n",
              "881 1     230433           26.0000              S       \n",
              "882 0     349257            7.8958              S       \n",
              "883 0     7552             10.5167              S       \n",
              "884 0     C.A./SOTON 34068 10.5000              S       \n",
              "885 0     SOTON/OQ 392076   7.0500              S       \n",
              "886 5     382652           29.1250              Q       \n",
              "887 0     211536           13.0000              S       \n",
              "888 0     112053           30.0000  B42         S       \n",
              "889 2     W./C. 6607       23.4500              S       \n",
              "890 0     111369           30.0000  C148        C       \n",
              "891 0     370376            7.7500              Q       "
            ]
          },
          "metadata": {}
        }
      ]
    }
  ]
}