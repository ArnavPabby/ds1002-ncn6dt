{
  "nbformat": 4,
  "nbformat_minor": 0,
  "metadata": {
    "colab": {
      "provenance": [],
      "authorship_tag": "ABX9TyMZ9Zraqy+UfOdYm9rqrmL1",
      "include_colab_link": true
    },
    "kernelspec": {
      "name": "python3",
      "display_name": "Python 3"
    },
    "language_info": {
      "name": "python"
    }
  },
  "cells": [
    {
      "cell_type": "markdown",
      "metadata": {
        "id": "view-in-github",
        "colab_type": "text"
      },
      "source": [
        "<a href=\"https://colab.research.google.com/github/ArnavPabby/ds1002-ncn6dt/blob/main/Rock_Paper_Scissors.ipynb\" target=\"_parent\"><img src=\"https://colab.research.google.com/assets/colab-badge.svg\" alt=\"Open In Colab\"/></a>"
      ]
    },
    {
      "cell_type": "code",
      "execution_count": 21,
      "metadata": {
        "colab": {
          "base_uri": "https://localhost:8080/"
        },
        "id": "CeLD3yGFddWJ",
        "outputId": "32dfca83-8d49-4bd9-b8f9-502108097e62"
      },
      "outputs": [
        {
          "output_type": "stream",
          "name": "stdout",
          "text": [
            "rock, paper, scissors?rock\n",
            "Tie\n",
            "The computer picked rock\n"
          ]
        }
      ],
      "source": [
        "from random import randint\n",
        "\n",
        "t = [\"rock\", \"paper\", \"scissors\"]\n",
        "\n",
        "computer = t[randint(0,2)]\n",
        "\n",
        "player = input(\"rock, paper, scissors? \")\n",
        "\n",
        "if player == computer:\n",
        "  print(\"Tie\")\n",
        "\n",
        "elif player == \"rock\":\n",
        " if computer == \"scissors\":\n",
        "    print(\"You win!\")\n",
        " else:\n",
        "    print(\"You lose :P\")\n",
        "elif player == \"scissors\":\n",
        " if computer == \"paper\":\n",
        "    print(\"You win!\")\n",
        " else:\n",
        "    print(\"You lose :P\")\n",
        "elif player == \"paper\":\n",
        "  if computer == \"rock\":\n",
        "    print(\"You win!\")\n",
        "  else:\n",
        "    print(\"You lose :P\")\n",
        "print(\"The computer picked \" + computer)"
      ]
    }
  ]
}