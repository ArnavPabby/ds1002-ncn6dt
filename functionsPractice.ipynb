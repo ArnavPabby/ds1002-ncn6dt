{
  "nbformat": 4,
  "nbformat_minor": 0,
  "metadata": {
    "colab": {
      "provenance": [],
      "authorship_tag": "ABX9TyMx3JIIgA8W/nogZnw8B71P",
      "include_colab_link": true
    },
    "kernelspec": {
      "name": "python3",
      "display_name": "Python 3"
    },
    "language_info": {
      "name": "python"
    }
  },
  "cells": [
    {
      "cell_type": "markdown",
      "metadata": {
        "id": "view-in-github",
        "colab_type": "text"
      },
      "source": [
        "<a href=\"https://colab.research.google.com/github/ArnavPabby/ds1002-ncn6dt/blob/main/functionsPractice.ipynb\" target=\"_parent\"><img src=\"https://colab.research.google.com/assets/colab-badge.svg\" alt=\"Open In Colab\"/></a>"
      ]
    },
    {
      "cell_type": "code",
      "execution_count": 21,
      "metadata": {
        "id": "zbkK-zwTF3-2"
      },
      "outputs": [],
      "source": [
        "def func(x,y):\n",
        "  z = x\n",
        "  while z<=y:\n",
        "    if z%2==0:\n",
        "      print(z,\"is even\")\n",
        "    elif z%2==1:\n",
        "      print(z,\"is odd\")\n",
        "    else:\n",
        "      print(z,\"is not an integer\")\n",
        "\n",
        "    z=z+1\n",
        "\n",
        "\n",
        "\n"
      ]
    },
    {
      "cell_type": "code",
      "source": [
        "def funk(x,y):\n",
        "  for i in range(x,y+1):\n",
        "    if i%2==0:\n",
        "      print(i, \"is even\")\n",
        "    elif i%2==1:\n",
        "      print(i,\"is odd\")\n",
        "    else:\n",
        "      print(i,\"is not an integer\")\n"
      ],
      "metadata": {
        "id": "gkvUNCe6Hy4l"
      },
      "execution_count": 22,
      "outputs": []
    },
    {
      "cell_type": "code",
      "source": [
        "funk(1,10)"
      ],
      "metadata": {
        "colab": {
          "base_uri": "https://localhost:8080/"
        },
        "id": "HK1BU2lNGaGT",
        "outputId": "78ea0ea6-6fcd-4833-f215-45d9e7ff99c5"
      },
      "execution_count": 24,
      "outputs": [
        {
          "output_type": "stream",
          "name": "stdout",
          "text": [
            "1 is odd\n",
            "2 is even\n",
            "3 is odd\n",
            "4 is even\n",
            "5 is odd\n",
            "6 is even\n",
            "7 is odd\n",
            "8 is even\n",
            "9 is odd\n",
            "10 is even\n"
          ]
        }
      ]
    }
  ]
}