{
  "nbformat": 4,
  "nbformat_minor": 0,
  "metadata": {
    "colab": {
      "provenance": [],
      "authorship_tag": "ABX9TyOcT06cBVB3SjlhG44IZq1q",
      "include_colab_link": true
    },
    "kernelspec": {
      "name": "python3",
      "display_name": "Python 3"
    },
    "language_info": {
      "name": "python"
    }
  },
  "cells": [
    {
      "cell_type": "markdown",
      "metadata": {
        "id": "view-in-github",
        "colab_type": "text"
      },
      "source": [
        "<a href=\"https://colab.research.google.com/github/ArnavPabby/ds1002-ncn6dt/blob/main/16octclass.ipynb\" target=\"_parent\"><img src=\"https://colab.research.google.com/assets/colab-badge.svg\" alt=\"Open In Colab\"/></a>"
      ]
    },
    {
      "cell_type": "code",
      "execution_count": 1,
      "metadata": {
        "id": "D2EZWQ5oysUl"
      },
      "outputs": [],
      "source": [
        "import string\n",
        "import random"
      ]
    },
    {
      "cell_type": "code",
      "source": [
        "lc_letters = string.ascii_lowercase\n",
        "print(lc_letters)"
      ],
      "metadata": {
        "colab": {
          "base_uri": "https://localhost:8080/"
        },
        "id": "KHAzodTUzBP4",
        "outputId": "e1ed2f70-04f8-46a1-9e9f-d377b652d34a"
      },
      "execution_count": 2,
      "outputs": [
        {
          "output_type": "stream",
          "name": "stdout",
          "text": [
            "abcdefghijklmnopqrstuvwxyz\n"
          ]
        }
      ]
    },
    {
      "cell_type": "code",
      "source": [
        "uc_letters = string.ascii_uppercase\n",
        "print(uc_letters)"
      ],
      "metadata": {
        "colab": {
          "base_uri": "https://localhost:8080/"
        },
        "id": "rUuGh19MzRlO",
        "outputId": "8db948da-6d7c-41b4-caa7-7c65571cd104"
      },
      "execution_count": 3,
      "outputs": [
        {
          "output_type": "stream",
          "name": "stdout",
          "text": [
            "ABCDEFGHIJKLMNOPQRSTUVWXYZ\n"
          ]
        }
      ]
    },
    {
      "cell_type": "code",
      "source": [
        "digits = string.digits\n",
        "print(digits)"
      ],
      "metadata": {
        "colab": {
          "base_uri": "https://localhost:8080/"
        },
        "id": "E5E8U2PFzZve",
        "outputId": "e73689ec-af66-4ee0-cadc-95275f5380f7"
      },
      "execution_count": 4,
      "outputs": [
        {
          "output_type": "stream",
          "name": "stdout",
          "text": [
            "0123456789\n"
          ]
        }
      ]
    },
    {
      "cell_type": "code",
      "source": [
        "punc = string.punctuation\n",
        "print(punc)"
      ],
      "metadata": {
        "colab": {
          "base_uri": "https://localhost:8080/"
        },
        "id": "IdFYH9EXzdaD",
        "outputId": "847bff92-300d-4109-9876-fae4bf148821"
      },
      "execution_count": 6,
      "outputs": [
        {
          "output_type": "stream",
          "name": "stdout",
          "text": [
            "!\"#$%&'()*+,-./:;<=>?@[\\]^_`{|}~\n"
          ]
        }
      ]
    },
    {
      "cell_type": "code",
      "source": [
        "allchars = lc_letters + uc_letters + digits + punc"
      ],
      "metadata": {
        "colab": {
          "base_uri": "https://localhost:8080/"
        },
        "id": "ZmWF8X590Bz4",
        "outputId": "77204e8d-800f-4bae-e620-deb22448ddf0"
      },
      "execution_count": 9,
      "outputs": [
        {
          "output_type": "stream",
          "name": "stdout",
          "text": [
            "abcdefghijklmnopqrstuvwxyzABCDEFGHIJKLMNOPQRSTUVWXYZ0123456789!\"#$%&'()*+,-./:;<=>?@[\\]^_`{|}~\n"
          ]
        }
      ]
    },
    {
      "cell_type": "code",
      "source": [
        "char = random.choice(allchars)\n",
        "print(char)"
      ],
      "metadata": {
        "colab": {
          "base_uri": "https://localhost:8080/"
        },
        "id": "0suNGGRVzpDu",
        "outputId": "c376c918-fd12-43fd-afd3-635eedfeba90"
      },
      "execution_count": 11,
      "outputs": [
        {
          "output_type": "stream",
          "name": "stdout",
          "text": [
            "-\n"
          ]
        }
      ]
    },
    {
      "cell_type": "code",
      "source": [
        "password = \"\"\n",
        "for c in range(8):\n",
        "  password += random.choice(allchars)\n",
        "  password = password.replace(\"'\",\"\")\n",
        "  password = password.replace('\"','')\n",
        "\n",
        "print(password)"
      ],
      "metadata": {
        "colab": {
          "base_uri": "https://localhost:8080/"
        },
        "id": "vIUFCXVS0Bn0",
        "outputId": "4433e60d-1b72-4480-b317-e90e2563ec83"
      },
      "execution_count": 30,
      "outputs": [
        {
          "output_type": "stream",
          "name": "stdout",
          "text": [
            "S=>@~8[Z\n"
          ]
        }
      ]
    },
    {
      "cell_type": "code",
      "source": [
        "allchars = lc_letters + uc_letters + digits + punc\n",
        "\n",
        "def create_password(length):\n",
        "  password = \"\"\n",
        "  for c in range(length):\n",
        "    password += random.choice(allchars)\n",
        "    password = password.replace(\"'\",\"\")\n",
        "    password = password.replace('\"','')\n",
        "  return password"
      ],
      "metadata": {
        "id": "vckosZSl2f23"
      },
      "execution_count": 39,
      "outputs": []
    },
    {
      "cell_type": "code",
      "source": [
        "create_password(10)"
      ],
      "metadata": {
        "colab": {
          "base_uri": "https://localhost:8080/",
          "height": 35
        },
        "id": "YrlATZO73Jl4",
        "outputId": "29b99f73-1093-4948-b3e4-c6ee90d1b932"
      },
      "execution_count": 40,
      "outputs": [
        {
          "output_type": "execute_result",
          "data": {
            "text/plain": [
              "'M?VCLAfr?}'"
            ],
            "application/vnd.google.colaboratory.intrinsic+json": {
              "type": "string"
            }
          },
          "metadata": {},
          "execution_count": 40
        }
      ]
    },
    {
      "cell_type": "code",
      "source": [
        "beatles = [\"John\",\"Paul\",\"Ringo\",\"George\"]\n",
        "\n",
        "for b in beatles:\n",
        "  print(b + \"'s password is \" + create_password(10))"
      ],
      "metadata": {
        "colab": {
          "base_uri": "https://localhost:8080/"
        },
        "id": "9_0BQJai4gzo",
        "outputId": "23b99c94-8d7d-499b-916c-11890e4763b7"
      },
      "execution_count": 44,
      "outputs": [
        {
          "output_type": "stream",
          "name": "stdout",
          "text": [
            "John's password is <!jA{nbIR7\n",
            "Paul's password is hc[D}9Ng>$\n",
            "Ringo's password is ip_-KYnBfw\n",
            "George's password is G%=8)B@nBF\n"
          ]
        }
      ]
    },
    {
      "cell_type": "code",
      "source": [
        "#C to F converter\n",
        "\n",
        "def c_to_f(temp):\n",
        "  ftemp = (temp*1.8+32)\n",
        "  print(ftemp)\n",
        "  return ftemp"
      ],
      "metadata": {
        "id": "5N2_C1O56Td7"
      },
      "execution_count": 45,
      "outputs": []
    },
    {
      "cell_type": "code",
      "source": [
        "#F to C converter\n",
        "\n",
        "def f_to_c(temp):\n",
        "  ctemp = (temp-32)/1.8\n",
        "  return ctemp"
      ],
      "metadata": {
        "id": "KjOi6lcc7eGf"
      },
      "execution_count": 50,
      "outputs": []
    },
    {
      "cell_type": "code",
      "source": [
        "f_to_c(90)"
      ],
      "metadata": {
        "colab": {
          "base_uri": "https://localhost:8080/"
        },
        "id": "ngA30Wpg7oA4",
        "outputId": "8bf94764-c6d7-47c6-bfe7-502687289de5"
      },
      "execution_count": 52,
      "outputs": [
        {
          "output_type": "execute_result",
          "data": {
            "text/plain": [
              "32.22222222222222"
            ]
          },
          "metadata": {},
          "execution_count": 52
        }
      ]
    },
    {
      "cell_type": "code",
      "source": [
        "def convert_temp(temp,units):\n",
        "  if units == 'C':\n",
        "    f_to_c(temp)\n",
        "  elif units == 'F':\n",
        "    c_to_f(temp)\n",
        "  else:\n",
        "    print(\"input units as C of F\")"
      ],
      "metadata": {
        "id": "wlyAMOEf70Co"
      },
      "execution_count": 55,
      "outputs": []
    },
    {
      "cell_type": "code",
      "source": [
        "convert_temp(100,'C')"
      ],
      "metadata": {
        "id": "LGVVOi7c8V2p"
      },
      "execution_count": 56,
      "outputs": []
    }
  ]
}